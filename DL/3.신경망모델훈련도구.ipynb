{
 "cells": [
  {
   "cell_type": "markdown",
   "id": "96839f84",
   "metadata": {},
   "source": [
    "- 머신러닝 알고리즘은 모델의 구조가 어느 정도 고정되어 있음\n",
    "    - 좋은 성능을 내기 위해서는 매개변수를 조정하고 훈련하는 과정을 반복\n",
    "    \n",
    "- 딥러닝은 구조를 직접 설계해야함\n",
    "    - 좋은 성능을 내기 위해 다룰 수 있는 다양한 개념과 도구들을 이해할 필요가 있음"
   ]
  },
  {
   "cell_type": "markdown",
   "id": "4a9cc0b8",
   "metadata": {},
   "source": [
    "# 손실 곡선\n",
    "\n",
    "- 케라스의 fit() 메서드는 History 클래스 객체를 반환\n",
    "    - History 객체 : 훈련 과정에서 계산한 지표(손실과 정확도값)가 저장되어 있음\n",
    "    - 이 값을 사용하여 그래프를 그려서 훈련 성과를 확인"
   ]
  },
  {
   "cell_type": "code",
   "execution_count": 1,
   "id": "802bfecb",
   "metadata": {},
   "outputs": [],
   "source": [
    "from tensorflow import keras\n",
    "from sklearn.model_selection import train_test_split\n",
    "import matplotlib.pyplot as plt\n",
    "import numpy as np"
   ]
  },
  {
   "cell_type": "code",
   "execution_count": 2,
   "id": "8e564ef2",
   "metadata": {},
   "outputs": [],
   "source": [
    "(x_train, y_train), (x_test, y_test) = keras.datasets.fashion_mnist.load_data()\n",
    "scaled_train = x_train / 255\n",
    "scaled_train, scaled_val, y_train, y_val = train_test_split(scaled_train, y_train,\n",
    "                                                            test_size = 0.2, random_state = 5)"
   ]
  },
  {
   "cell_type": "code",
   "execution_count": 3,
   "id": "ab253d4a",
   "metadata": {},
   "outputs": [],
   "source": [
    "# 모델 정의 함수\n",
    "def model_fn(a_layer = None):\n",
    "    model = keras.Sequential()\n",
    "    model.add(keras.layers.Flatten(input_shape = (28, 28)))\n",
    "    model.add(keras.layers.Dense(100, activation = \"relu\"))\n",
    "    \n",
    "    if a_layer:\n",
    "        model.add(a_layer)\n",
    "        \n",
    "    model.add(keras.layers.Dense(10, activation = \"softmax\"))\n",
    "    \n",
    "    return model"
   ]
  },
  {
   "cell_type": "code",
   "execution_count": 5,
   "id": "12ee92cb",
   "metadata": {
    "scrolled": true
   },
   "outputs": [
    {
     "name": "stdout",
     "output_type": "stream",
     "text": [
      "Model: \"sequential\"\n",
      "_________________________________________________________________\n",
      " Layer (type)                Output Shape              Param #   \n",
      "=================================================================\n",
      " flatten (Flatten)           (None, 784)               0         \n",
      "                                                                 \n",
      " dense (Dense)               (None, 100)               78500     \n",
      "                                                                 \n",
      " dense_1 (Dense)             (None, 10)                1010      \n",
      "                                                                 \n",
      "=================================================================\n",
      "Total params: 79510 (310.59 KB)\n",
      "Trainable params: 79510 (310.59 KB)\n",
      "Non-trainable params: 0 (0.00 Byte)\n",
      "_________________________________________________________________\n"
     ]
    }
   ],
   "source": [
    "model = model_fn()\n",
    "model.summary()"
   ]
  },
  {
   "cell_type": "code",
   "execution_count": 5,
   "id": "fc0528f1",
   "metadata": {},
   "outputs": [],
   "source": [
    "model.compile(loss = \"sparse_categorical_crossentropy\", metrics = \"accuracy\")"
   ]
  },
  {
   "cell_type": "code",
   "execution_count": 6,
   "id": "3161a994",
   "metadata": {},
   "outputs": [
    {
     "name": "stdout",
     "output_type": "stream",
     "text": [
      "Epoch 1/5\n",
      "1500/1500 [==============================] - 6s 3ms/step - loss: 0.5297 - accuracy: 0.8134\n",
      "Epoch 2/5\n",
      "1500/1500 [==============================] - 5s 3ms/step - loss: 0.3886 - accuracy: 0.8605\n",
      "Epoch 3/5\n",
      "1500/1500 [==============================] - 5s 3ms/step - loss: 0.3556 - accuracy: 0.8731\n",
      "Epoch 4/5\n",
      "1500/1500 [==============================] - 5s 4ms/step - loss: 0.3331 - accuracy: 0.8817\n",
      "Epoch 5/5\n",
      "1500/1500 [==============================] - 5s 3ms/step - loss: 0.3225 - accuracy: 0.8859\n"
     ]
    }
   ],
   "source": [
    "history = model.fit(scaled_train, y_train, epochs = 5)"
   ]
  },
  {
   "cell_type": "code",
   "execution_count": 7,
   "id": "328224d0",
   "metadata": {},
   "outputs": [
    {
     "name": "stdout",
     "output_type": "stream",
     "text": [
      "dict_keys(['loss', 'accuracy'])\n"
     ]
    }
   ],
   "source": [
    "# history 객체 확인\n",
    "print(history.history.keys())"
   ]
  },
  {
   "cell_type": "code",
   "execution_count": 8,
   "id": "6346a0e1",
   "metadata": {},
   "outputs": [
    {
     "data": {
      "text/plain": [
       "[0.5297189354896545,\n",
       " 0.3885959982872009,\n",
       " 0.35564616322517395,\n",
       " 0.33306294679641724,\n",
       " 0.3224942088127136]"
      ]
     },
     "execution_count": 8,
     "metadata": {},
     "output_type": "execute_result"
    }
   ],
   "source": [
    "history.history[\"loss\"]"
   ]
  },
  {
   "cell_type": "markdown",
   "id": "cbff4b31",
   "metadata": {},
   "source": [
    "- 기본적으로 손실을 계산하고 compile에서 accuracy를 추가하여서 loss와 accuracy가 포함됨"
   ]
  },
  {
   "cell_type": "code",
   "execution_count": 9,
   "id": "6d353857",
   "metadata": {},
   "outputs": [
    {
     "data": {
      "image/png": "[encoded data removed]",
      "text/plain": [
       "<Figure size 640x480 with 1 Axes>"
      ]
     },
     "metadata": {},
     "output_type": "display_data"
    }
   ],
   "source": [
    "plt.figure()\n",
    "\n",
    "plt.plot(history.history[\"loss\"])\n",
    "\n",
    "plt.xlabel(\"epoch\")\n",
    "plt.ylabel(\"loss\")\n",
    "\n",
    "plt.show()"
   ]
  },
  {
   "cell_type": "code",
   "execution_count": 10,
   "id": "05b529a7",
   "metadata": {},
   "outputs": [
    {
     "data": {
      "image/png": "[encoded data removed]",
      "text/plain": [
       "<Figure size 640x480 with 1 Axes>"
      ]
     },
     "metadata": {},
     "output_type": "display_data"
    }
   ],
   "source": [
    "plt.figure()\n",
    "\n",
    "plt.plot(history.history[\"accuracy\"])\n",
    "\n",
    "plt.xlabel(\"epoch\")\n",
    "plt.ylabel(\"loss\")\n",
    "\n",
    "plt.show()"
   ]
  },
  {
   "cell_type": "code",
   "execution_count": 12,
   "id": "09b6079a",
   "metadata": {
    "scrolled": true
   },
   "outputs": [
    {
     "name": "stdout",
     "output_type": "stream",
     "text": [
      "Epoch 1/20\n",
      "1500/1500 [==============================] - 5s 3ms/step - loss: 0.5399 - accuracy: 0.8114\n",
      "Epoch 2/20\n",
      "1500/1500 [==============================] - 4s 3ms/step - loss: 0.3964 - accuracy: 0.8578\n",
      "Epoch 3/20\n",
      "1500/1500 [==============================] - 4s 3ms/step - loss: 0.3594 - accuracy: 0.8714\n",
      "Epoch 4/20\n",
      "1500/1500 [==============================] - 4s 3ms/step - loss: 0.3347 - accuracy: 0.8801\n",
      "Epoch 5/20\n",
      "1500/1500 [==============================] - 4s 3ms/step - loss: 0.3208 - accuracy: 0.8851\n",
      "Epoch 6/20\n",
      "1500/1500 [==============================] - 4s 3ms/step - loss: 0.3063 - accuracy: 0.8896\n",
      "Epoch 7/20\n",
      "1500/1500 [==============================] - 4s 3ms/step - loss: 0.2975 - accuracy: 0.8948\n",
      "Epoch 8/20\n",
      "1500/1500 [==============================] - 5s 3ms/step - loss: 0.2906 - accuracy: 0.8972\n",
      "Epoch 9/20\n",
      "1500/1500 [==============================] - 4s 3ms/step - loss: 0.2821 - accuracy: 0.9010\n",
      "Epoch 10/20\n",
      "1500/1500 [==============================] - 4s 3ms/step - loss: 0.2749 - accuracy: 0.9034\n",
      "Epoch 11/20\n",
      "1500/1500 [==============================] - 4s 3ms/step - loss: 0.2706 - accuracy: 0.9046\n",
      "Epoch 12/20\n",
      "1500/1500 [==============================] - 4s 3ms/step - loss: 0.2630 - accuracy: 0.9091\n",
      "Epoch 13/20\n",
      "1500/1500 [==============================] - 4s 3ms/step - loss: 0.2581 - accuracy: 0.9086\n",
      "Epoch 14/20\n",
      "1500/1500 [==============================] - 5s 3ms/step - loss: 0.2511 - accuracy: 0.9121\n",
      "Epoch 15/20\n",
      "1500/1500 [==============================] - 5s 3ms/step - loss: 0.2483 - accuracy: 0.9141\n",
      "Epoch 16/20\n",
      "1500/1500 [==============================] - 5s 3ms/step - loss: 0.2406 - accuracy: 0.9159\n",
      "Epoch 17/20\n",
      "1500/1500 [==============================] - 5s 3ms/step - loss: 0.2393 - accuracy: 0.9167\n",
      "Epoch 18/20\n",
      "1500/1500 [==============================] - 5s 3ms/step - loss: 0.2366 - accuracy: 0.9168\n",
      "Epoch 19/20\n",
      "1500/1500 [==============================] - 6s 4ms/step - loss: 0.2321 - accuracy: 0.9200\n",
      "Epoch 20/20\n",
      "1500/1500 [==============================] - 5s 4ms/step - loss: 0.2266 - accuracy: 0.9217\n"
     ]
    }
   ],
   "source": [
    "# epoch 를 20으로 늘려서 그래프 확인\n",
    "model = model_fn()\n",
    "model.compile(loss = \"sparse_categorical_crossentropy\", metrics = \"accuracy\")\n",
    "history = model.fit(scaled_train, y_train, epochs = 20)"
   ]
  },
  {
   "cell_type": "code",
   "execution_count": 13,
   "id": "bcdcf687",
   "metadata": {},
   "outputs": [
    {
     "data": {
      "image/png": "[encoded data removed]",
      "text/plain": [
       "<Figure size 640x480 with 1 Axes>"
      ]
     },
     "metadata": {},
     "output_type": "display_data"
    }
   ],
   "source": [
    "plt.figure()\n",
    "\n",
    "plt.plot(history.history[\"loss\"], label = \"loss\")\n",
    "plt.plot(history.history[\"accuracy\"], label = \"acc\")\n",
    "\n",
    "plt.xlabel(\"epoch\")\n",
    "plt.ylabel(\"loss\")\n",
    "\n",
    "plt.show()"
   ]
  },
  {
   "cell_type": "markdown",
   "id": "32de5c77",
   "metadata": {},
   "source": [
    "# 검증 손실\n",
    "\n",
    "- 에포크에 따른 과대적합과 과소적합을 파악하려면 검증 세트에 대한 점수도 파악해야함\n",
    "- 케라스에서는 fit()메서드에 검증 데이터를 전달할 수 있음"
   ]
  },
  {
   "cell_type": "code",
   "execution_count": 14,
   "id": "0ed5c606",
   "metadata": {
    "scrolled": true
   },
   "outputs": [
    {
     "name": "stdout",
     "output_type": "stream",
     "text": [
      "Epoch 1/20\n",
      "1500/1500 [==============================] - 5s 3ms/step - loss: 0.5348 - accuracy: 0.8112 - val_loss: 0.4198 - val_accuracy: 0.8513\n",
      "Epoch 2/20\n",
      "1500/1500 [==============================] - 5s 3ms/step - loss: 0.3901 - accuracy: 0.8612 - val_loss: 0.4119 - val_accuracy: 0.8521\n",
      "Epoch 3/20\n",
      "1500/1500 [==============================] - 5s 3ms/step - loss: 0.3558 - accuracy: 0.8726 - val_loss: 0.4055 - val_accuracy: 0.8570\n",
      "Epoch 4/20\n",
      "1500/1500 [==============================] - 6s 4ms/step - loss: 0.3348 - accuracy: 0.8807 - val_loss: 0.3471 - val_accuracy: 0.8730\n",
      "Epoch 5/20\n",
      "1500/1500 [==============================] - 5s 4ms/step - loss: 0.3196 - accuracy: 0.8861 - val_loss: 0.3842 - val_accuracy: 0.8709\n",
      "Epoch 6/20\n",
      "1500/1500 [==============================] - 5s 3ms/step - loss: 0.3088 - accuracy: 0.8907 - val_loss: 0.3535 - val_accuracy: 0.8777\n",
      "Epoch 7/20\n",
      "1500/1500 [==============================] - 5s 3ms/step - loss: 0.2988 - accuracy: 0.8937 - val_loss: 0.3405 - val_accuracy: 0.8850\n",
      "Epoch 8/20\n",
      "1500/1500 [==============================] - 5s 3ms/step - loss: 0.2913 - accuracy: 0.8972 - val_loss: 0.3555 - val_accuracy: 0.8835\n",
      "Epoch 9/20\n",
      "1500/1500 [==============================] - 5s 3ms/step - loss: 0.2849 - accuracy: 0.8995 - val_loss: 0.3583 - val_accuracy: 0.8845\n",
      "Epoch 10/20\n",
      "1500/1500 [==============================] - 5s 3ms/step - loss: 0.2765 - accuracy: 0.9041 - val_loss: 0.3641 - val_accuracy: 0.8792\n",
      "Epoch 11/20\n",
      "1500/1500 [==============================] - 5s 4ms/step - loss: 0.2690 - accuracy: 0.9058 - val_loss: 0.3914 - val_accuracy: 0.8789\n",
      "Epoch 12/20\n",
      "1500/1500 [==============================] - 4s 3ms/step - loss: 0.2640 - accuracy: 0.9083 - val_loss: 0.3862 - val_accuracy: 0.8737\n",
      "Epoch 13/20\n",
      "1500/1500 [==============================] - 5s 4ms/step - loss: 0.2568 - accuracy: 0.9098 - val_loss: 0.3511 - val_accuracy: 0.8880\n",
      "Epoch 14/20\n",
      "1500/1500 [==============================] - 5s 4ms/step - loss: 0.2535 - accuracy: 0.9115 - val_loss: 0.3569 - val_accuracy: 0.8852\n",
      "Epoch 15/20\n",
      "1500/1500 [==============================] - 6s 4ms/step - loss: 0.2476 - accuracy: 0.9144 - val_loss: 0.4007 - val_accuracy: 0.8813\n",
      "Epoch 16/20\n",
      "1500/1500 [==============================] - 6s 4ms/step - loss: 0.2408 - accuracy: 0.9160 - val_loss: 0.4029 - val_accuracy: 0.8827\n",
      "Epoch 17/20\n",
      "1500/1500 [==============================] - 7s 4ms/step - loss: 0.2392 - accuracy: 0.9178 - val_loss: 0.4020 - val_accuracy: 0.8854\n",
      "Epoch 18/20\n",
      "1500/1500 [==============================] - 6s 4ms/step - loss: 0.2340 - accuracy: 0.9185 - val_loss: 0.3997 - val_accuracy: 0.8873\n",
      "Epoch 19/20\n",
      "1500/1500 [==============================] - 5s 4ms/step - loss: 0.2297 - accuracy: 0.9196 - val_loss: 0.4042 - val_accuracy: 0.8827\n",
      "Epoch 20/20\n",
      "1500/1500 [==============================] - 5s 3ms/step - loss: 0.2249 - accuracy: 0.9228 - val_loss: 0.4183 - val_accuracy: 0.8883\n"
     ]
    }
   ],
   "source": [
    "model = model_fn()\n",
    "model.compile(loss = \"sparse_categorical_crossentropy\", metrics = \"accuracy\")\n",
    "history = model.fit(scaled_train, y_train, epochs = 20, validation_data = (scaled_val, y_val))"
   ]
  },
  {
   "cell_type": "code",
   "execution_count": 15,
   "id": "a60c592c",
   "metadata": {},
   "outputs": [
    {
     "name": "stdout",
     "output_type": "stream",
     "text": [
      "dict_keys(['loss', 'accuracy', 'val_loss', 'val_accuracy'])\n"
     ]
    }
   ],
   "source": [
    "print(history.history.keys())"
   ]
  },
  {
   "cell_type": "code",
   "execution_count": 16,
   "id": "3db7bf1b",
   "metadata": {},
   "outputs": [
    {
     "data": {
      "image/png": "[encoded data removed]",
      "text/plain": [
       "<Figure size 640x480 with 1 Axes>"
      ]
     },
     "metadata": {},
     "output_type": "display_data"
    }
   ],
   "source": [
    "plt.figure()\n",
    "\n",
    "plt.plot(history.history[\"loss\"], label = \"train_loss\")\n",
    "plt.plot(history.history[\"val_loss\"], label = \"val_loss\")\n",
    "plt.plot(history.history[\"accuracy\"], label = \"train_acc\")\n",
    "plt.plot(history.history[\"val_accuracy\"], label = \"val_acc\")\n",
    "\n",
    "plt.xlabel(\"epoch\")\n",
    "plt.legend()\n",
    "\n",
    "plt.show()"
   ]
  },
  {
   "cell_type": "markdown",
   "id": "4e46a8a1",
   "metadata": {},
   "source": [
    "- 훈련 손실은 계속 감소하는데 검증 손실은 감소하다가 상승하여 과대적합 모델이 만들어짐\n",
    "    - 검증 손실이 상승하는 시점을 가능한한 뒤로 늦출 필요가 있음"
   ]
  },
  {
   "cell_type": "code",
   "execution_count": 17,
   "id": "a346e296",
   "metadata": {
    "scrolled": true
   },
   "outputs": [
    {
     "name": "stdout",
     "output_type": "stream",
     "text": [
      "Epoch 1/20\n",
      "1500/1500 [==============================] - 6s 3ms/step - loss: 0.5177 - accuracy: 0.8195 - val_loss: 0.4510 - val_accuracy: 0.8369\n",
      "Epoch 2/20\n",
      "1500/1500 [==============================] - 5s 3ms/step - loss: 0.3894 - accuracy: 0.8600 - val_loss: 0.3953 - val_accuracy: 0.8566\n",
      "Epoch 3/20\n",
      "1500/1500 [==============================] - 5s 3ms/step - loss: 0.3502 - accuracy: 0.8736 - val_loss: 0.3867 - val_accuracy: 0.8587\n",
      "Epoch 4/20\n",
      "1500/1500 [==============================] - 5s 3ms/step - loss: 0.3250 - accuracy: 0.8808 - val_loss: 0.3458 - val_accuracy: 0.8684\n",
      "Epoch 5/20\n",
      "1500/1500 [==============================] - 5s 3ms/step - loss: 0.3077 - accuracy: 0.8876 - val_loss: 0.3552 - val_accuracy: 0.8674\n",
      "Epoch 6/20\n",
      "1500/1500 [==============================] - 6s 4ms/step - loss: 0.2911 - accuracy: 0.8909 - val_loss: 0.3263 - val_accuracy: 0.8789\n",
      "Epoch 7/20\n",
      "1500/1500 [==============================] - 5s 3ms/step - loss: 0.2801 - accuracy: 0.8954 - val_loss: 0.3564 - val_accuracy: 0.8714\n",
      "Epoch 8/20\n",
      "1500/1500 [==============================] - 5s 3ms/step - loss: 0.2688 - accuracy: 0.9008 - val_loss: 0.3270 - val_accuracy: 0.8790\n",
      "Epoch 9/20\n",
      "1500/1500 [==============================] - 5s 3ms/step - loss: 0.2603 - accuracy: 0.9037 - val_loss: 0.3098 - val_accuracy: 0.8856\n",
      "Epoch 10/20\n",
      "1500/1500 [==============================] - 5s 3ms/step - loss: 0.2483 - accuracy: 0.9070 - val_loss: 0.3137 - val_accuracy: 0.8867\n",
      "Epoch 11/20\n",
      "1500/1500 [==============================] - 5s 3ms/step - loss: 0.2436 - accuracy: 0.9092 - val_loss: 0.3095 - val_accuracy: 0.8888\n",
      "Epoch 12/20\n",
      "1500/1500 [==============================] - 5s 3ms/step - loss: 0.2337 - accuracy: 0.9133 - val_loss: 0.3287 - val_accuracy: 0.8838\n",
      "Epoch 13/20\n",
      "1500/1500 [==============================] - 5s 3ms/step - loss: 0.2276 - accuracy: 0.9149 - val_loss: 0.3250 - val_accuracy: 0.8854\n",
      "Epoch 14/20\n",
      "1500/1500 [==============================] - 5s 3ms/step - loss: 0.2207 - accuracy: 0.9186 - val_loss: 0.3152 - val_accuracy: 0.8881\n",
      "Epoch 15/20\n",
      "1500/1500 [==============================] - 5s 4ms/step - loss: 0.2171 - accuracy: 0.9181 - val_loss: 0.3316 - val_accuracy: 0.8842\n",
      "Epoch 16/20\n",
      "1500/1500 [==============================] - 5s 3ms/step - loss: 0.2080 - accuracy: 0.9216 - val_loss: 0.3254 - val_accuracy: 0.8878\n",
      "Epoch 17/20\n",
      "1500/1500 [==============================] - 5s 3ms/step - loss: 0.2024 - accuracy: 0.9235 - val_loss: 0.3155 - val_accuracy: 0.8873\n",
      "Epoch 18/20\n",
      "1500/1500 [==============================] - 5s 3ms/step - loss: 0.1983 - accuracy: 0.9265 - val_loss: 0.3531 - val_accuracy: 0.8755\n",
      "Epoch 19/20\n",
      "1500/1500 [==============================] - 5s 3ms/step - loss: 0.1948 - accuracy: 0.9271 - val_loss: 0.3214 - val_accuracy: 0.8906\n",
      "Epoch 20/20\n",
      "1500/1500 [==============================] - 5s 3ms/step - loss: 0.1885 - accuracy: 0.9303 - val_loss: 0.3341 - val_accuracy: 0.8845\n"
     ]
    }
   ],
   "source": [
    "# Adam 옵티마이저 선택\n",
    "model = model_fn()\n",
    "model.compile(optimizer = \"adam\", loss = \"sparse_categorical_crossentropy\", metrics = \"accuracy\")\n",
    "history = model.fit(scaled_train, y_train, epochs = 20, validation_data = (scaled_val, y_val))"
   ]
  },
  {
   "cell_type": "code",
   "execution_count": 18,
   "id": "c70de754",
   "metadata": {},
   "outputs": [
    {
     "data": {
      "image/png": "[encoded data removed]",
      "text/plain": [
       "<Figure size 640x480 with 1 Axes>"
      ]
     },
     "metadata": {},
     "output_type": "display_data"
    }
   ],
   "source": [
    "plt.figure()\n",
    "\n",
    "plt.plot(history.history[\"loss\"], label = \"train_loss\")\n",
    "plt.plot(history.history[\"val_loss\"], label = \"val_loss\")\n",
    "plt.plot(history.history[\"accuracy\"], label = \"train_acc\")\n",
    "plt.plot(history.history[\"val_accuracy\"], label = \"val_acc\")\n",
    "\n",
    "plt.xlabel(\"epoch\")\n",
    "plt.legend()\n",
    "\n",
    "plt.show()"
   ]
  },
  {
   "cell_type": "markdown",
   "id": "a47ee607",
   "metadata": {},
   "source": [
    "- RMSprop을 사용할 때 보다 검증 손실 그래프의 감소 추세가 길게 이어지고 있어 Adam 옵티마이저가 이 데이터셋에 잘 맞는 것으로 보임"
   ]
  },
  {
   "cell_type": "markdown",
   "id": "dc6f7df5",
   "metadata": {},
   "source": [
    "# 드롭아웃(dropout)\n",
    "\n",
    "<img src = \"./image/dropout.png\">"
   ]
  },
  {
   "cell_type": "markdown",
   "id": "28578625",
   "metadata": {},
   "source": [
    "- 훈련 과정에서 층의 일부 뉴런을 랜덤하게 끄는 것으로(출력을 0으로 만드는 것으로) 과대적합을 방지\n",
    "    - 특정 뉴런에 과대하게 의존하는 것을 줄일 수 있음\n",
    "    - 일부 뉴런의 출력이 없을 수 있다는 것을 감안하여 학습하게 됨\n",
    "        - 모든 입력값에 대해 충분한 주의를 기울이는 방향으로 학습\n",
    "        \n",
    "- 드롭아웃은 케라스에서 Dropout 클래스로 제공\n",
    "- 특정 층 뒤에 드롭아웃을 두어 해당 층의 출력을 랜덤하게 0으로 만듦\n",
    "- Flatten과 마찬가지로 층처럼 사용되지만 훈련되는 모델 파라미터가 없음"
   ]
  },
  {
   "cell_type": "code",
   "execution_count": 6,
   "id": "5c279cc9",
   "metadata": {},
   "outputs": [
    {
     "name": "stdout",
     "output_type": "stream",
     "text": [
      "Model: \"sequential_1\"\n",
      "_________________________________________________________________\n",
      " Layer (type)                Output Shape              Param #   \n",
      "=================================================================\n",
      " flatten_1 (Flatten)         (None, 784)               0         \n",
      "                                                                 \n",
      " dense_2 (Dense)             (None, 100)               78500     \n",
      "                                                                 \n",
      " dropout (Dropout)           (None, 100)               0         \n",
      "                                                                 \n",
      " dense_3 (Dense)             (None, 10)                1010      \n",
      "                                                                 \n",
      "=================================================================\n",
      "Total params: 79510 (310.59 KB)\n",
      "Trainable params: 79510 (310.59 KB)\n",
      "Non-trainable params: 0 (0.00 Byte)\n",
      "_________________________________________________________________\n"
     ]
    }
   ],
   "source": [
    "model = model_fn(keras.layers.Dropout(0.3)) # 30%를 드롭아웃\n",
    "model.summary()"
   ]
  },
  {
   "cell_type": "markdown",
   "id": "0ab4bb5d",
   "metadata": {},
   "source": [
    "- 드롭아웃 층은 입력과 출력의 크기가 같음\n",
    "    - 일부 뉴런의 출력을 0으로 만들지만 전체 출력 배열의 크기를 바꾸지 않음\n",
    "    \n",
    "- 모델 훈련이 끝난 후에 평가나 예측을 수행할 때에는 드롭아웃을 적용하지 않아야함\n",
    "    - 훈련된 모든 유닛을 사용해야 올바른 예측을 수행할 수 있기 때문에\n",
    "    - 케라스에서는 모델을 평가와 예측에 사용할 때에는 자동으로 드롭아웃을 적용하지 않음"
   ]
  },
  {
   "cell_type": "code",
   "execution_count": 16,
   "id": "61617e39",
   "metadata": {
    "scrolled": true
   },
   "outputs": [
    {
     "name": "stdout",
     "output_type": "stream",
     "text": [
      "Epoch 1/20\n",
      "1500/1500 [==============================] - 7s 4ms/step - loss: 0.5846 - accuracy: 0.7944 - val_loss: 0.4482 - val_accuracy: 0.8365\n",
      "Epoch 2/20\n",
      "1500/1500 [==============================] - 6s 4ms/step - loss: 0.4342 - accuracy: 0.8415 - val_loss: 0.3917 - val_accuracy: 0.8575\n",
      "Epoch 3/20\n",
      "1500/1500 [==============================] - 6s 4ms/step - loss: 0.4005 - accuracy: 0.8549 - val_loss: 0.3682 - val_accuracy: 0.8643\n",
      "Epoch 4/20\n",
      "1500/1500 [==============================] - 6s 4ms/step - loss: 0.3772 - accuracy: 0.8637 - val_loss: 0.3537 - val_accuracy: 0.8709\n",
      "Epoch 5/20\n",
      "1500/1500 [==============================] - 6s 4ms/step - loss: 0.3690 - accuracy: 0.8651 - val_loss: 0.3602 - val_accuracy: 0.8664\n",
      "Epoch 6/20\n",
      "1500/1500 [==============================] - 6s 4ms/step - loss: 0.3523 - accuracy: 0.8706 - val_loss: 0.3470 - val_accuracy: 0.8749\n",
      "Epoch 7/20\n",
      "1500/1500 [==============================] - 6s 4ms/step - loss: 0.3387 - accuracy: 0.8753 - val_loss: 0.3368 - val_accuracy: 0.8790\n",
      "Epoch 8/20\n",
      "1500/1500 [==============================] - 6s 4ms/step - loss: 0.3360 - accuracy: 0.8761 - val_loss: 0.3423 - val_accuracy: 0.8775\n",
      "Epoch 9/20\n",
      "1500/1500 [==============================] - 6s 4ms/step - loss: 0.3294 - accuracy: 0.8778 - val_loss: 0.3298 - val_accuracy: 0.8798\n",
      "Epoch 10/20\n",
      "1500/1500 [==============================] - 6s 4ms/step - loss: 0.3193 - accuracy: 0.8815 - val_loss: 0.3247 - val_accuracy: 0.8809\n",
      "Epoch 11/20\n",
      "1500/1500 [==============================] - 6s 4ms/step - loss: 0.3124 - accuracy: 0.8832 - val_loss: 0.3291 - val_accuracy: 0.8803\n",
      "Epoch 12/20\n",
      "1500/1500 [==============================] - 6s 4ms/step - loss: 0.3097 - accuracy: 0.8840 - val_loss: 0.3312 - val_accuracy: 0.8823\n",
      "Epoch 13/20\n",
      "1500/1500 [==============================] - 6s 4ms/step - loss: 0.3023 - accuracy: 0.8872 - val_loss: 0.3201 - val_accuracy: 0.8848\n",
      "Epoch 14/20\n",
      "1500/1500 [==============================] - 6s 4ms/step - loss: 0.2961 - accuracy: 0.8891 - val_loss: 0.3188 - val_accuracy: 0.8816\n",
      "Epoch 15/20\n",
      "1500/1500 [==============================] - 6s 4ms/step - loss: 0.2920 - accuracy: 0.8917 - val_loss: 0.3351 - val_accuracy: 0.8778\n",
      "Epoch 16/20\n",
      "1500/1500 [==============================] - 6s 4ms/step - loss: 0.2901 - accuracy: 0.8902 - val_loss: 0.3171 - val_accuracy: 0.8818\n",
      "Epoch 17/20\n",
      "1500/1500 [==============================] - 6s 4ms/step - loss: 0.2856 - accuracy: 0.8922 - val_loss: 0.3177 - val_accuracy: 0.8870\n",
      "Epoch 18/20\n",
      "1500/1500 [==============================] - 6s 4ms/step - loss: 0.2810 - accuracy: 0.8952 - val_loss: 0.3178 - val_accuracy: 0.8838\n",
      "Epoch 19/20\n",
      "1500/1500 [==============================] - 6s 4ms/step - loss: 0.2772 - accuracy: 0.8962 - val_loss: 0.3135 - val_accuracy: 0.8867\n",
      "Epoch 20/20\n",
      "1500/1500 [==============================] - 6s 4ms/step - loss: 0.2751 - accuracy: 0.8968 - val_loss: 0.3199 - val_accuracy: 0.8826\n"
     ]
    }
   ],
   "source": [
    "model.compile(optimizer = \"adam\", loss = \"sparse_categorical_crossentropy\", metrics = \"accuracy\")\n",
    "history = model.fit(scaled_train, y_train, epochs = 20, validation_data = (scaled_val, y_val))"
   ]
  },
  {
   "cell_type": "code",
   "execution_count": 17,
   "id": "0b86ad10",
   "metadata": {},
   "outputs": [
    {
     "data": {
      "image/png": "[encoded data removed]",
      "text/plain": [
       "<Figure size 640x480 with 1 Axes>"
      ]
     },
     "metadata": {},
     "output_type": "display_data"
    }
   ],
   "source": [
    "plt.figure()\n",
    "\n",
    "plt.plot(history.history[\"loss\"], label = \"train_loss\")\n",
    "plt.plot(history.history[\"val_loss\"], label = \"val_loss\")\n",
    "plt.plot(history.history[\"accuracy\"], label = \"train_acc\")\n",
    "plt.plot(history.history[\"val_accuracy\"], label = \"val_acc\")\n",
    "\n",
    "plt.xlabel(\"epoch\")\n",
    "plt.legend()\n",
    "\n",
    "plt.show()"
   ]
  },
  {
   "cell_type": "markdown",
   "id": "33da8bd3",
   "metadata": {},
   "source": [
    "- 앞선 방법들에 비해 loss와 acc가 비교적 일정하게 유지됨"
   ]
  },
  {
   "cell_type": "markdown",
   "id": "39bf2a77",
   "metadata": {},
   "source": [
    "# 모델 저장과 복원\n",
    "\n",
    "- 나중에 다시 사용하기 위해서 모델을 저장\n",
    "- 케라스 모델은 모델의 파라미터를 저장하는 save_weights()메서드를 제공\n",
    "- 모델 구조와 모델 파라미터를 제공하는 save() 메서드도 제공"
   ]
  },
  {
   "cell_type": "code",
   "execution_count": 18,
   "id": "d210a8d7",
   "metadata": {},
   "outputs": [],
   "source": [
    "model.save_weights(\"model-weights.h5\")"
   ]
  },
  {
   "cell_type": "code",
   "execution_count": 19,
   "id": "7a5d0232",
   "metadata": {},
   "outputs": [],
   "source": [
    "model.save(\"model-whole.h5\")"
   ]
  },
  {
   "cell_type": "markdown",
   "id": "03a6fc6f",
   "metadata": {},
   "source": [
    "## 모델 파라미터만 읽어오기"
   ]
  },
  {
   "cell_type": "code",
   "execution_count": 20,
   "id": "26e26b3d",
   "metadata": {},
   "outputs": [],
   "source": [
    "model = model_fn(keras.layers.Dropout(0.3))\n",
    "model.load_weights(\"model-weights.h5\")"
   ]
  },
  {
   "cell_type": "markdown",
   "id": "02ba25a2",
   "metadata": {},
   "source": [
    "- load_weights() 메서드를 사용하면 save_weights()로 저장했던 모델과 정확히 같은 구조를 가져야함\n",
    "- 텐서플로 버전에 따라 load_weights()의 버그로 인해 evaluate()를 사용하기 전에 compile()을 반드시 실행해야하는 경우가 있음"
   ]
  },
  {
   "cell_type": "code",
   "execution_count": 21,
   "id": "57c9d119",
   "metadata": {},
   "outputs": [
    {
     "name": "stdout",
     "output_type": "stream",
     "text": [
      "375/375 [==============================] - 1s 2ms/step\n"
     ]
    }
   ],
   "source": [
    "val_labels = np.argmax(model.predict(scaled_val), axis = -1)"
   ]
  },
  {
   "cell_type": "code",
   "execution_count": 22,
   "id": "a1684dba",
   "metadata": {},
   "outputs": [
    {
     "data": {
      "text/plain": [
       "array([ True,  True,  True, ...,  True,  True,  True])"
      ]
     },
     "execution_count": 22,
     "metadata": {},
     "output_type": "execute_result"
    }
   ],
   "source": [
    "val_labels == y_val"
   ]
  },
  {
   "cell_type": "code",
   "execution_count": 23,
   "id": "734b414f",
   "metadata": {},
   "outputs": [
    {
     "name": "stdout",
     "output_type": "stream",
     "text": [
      "0.8845\n"
     ]
    }
   ],
   "source": [
    "print(np.mean(val_labels == y_val))"
   ]
  },
  {
   "cell_type": "markdown",
   "id": "d8e32708",
   "metadata": {},
   "source": [
    "- 케라스의 predict()메서드는 모델의 예측을 수행\n",
    "    - 종속변수가 10개의 클래스로 이루어져 있기 때문에 각 클래스에 대한 확률을 반환\n",
    "    \n",
    "- predict()결과에서 가장 큰 값을 고르기 위해 argmax()함수를 사용\n",
    "    - 배열에서 가장 큰 값의 인덱스를 반환\n",
    "    - 몇 번째 클래스에 대한 확률값이 가장 큰 지 반환\n",
    "        - 몇 번째 클래스로 예측했는지 알 수 있음\n",
    "        \n",
    "- argmax()함수의 axis = -1 은 배열의 마지막 차원을 따라서 최댓값을 고름\n",
    "\n",
    "- argmax()로 고른 인덱스와 타깃 인덱스를 비교하여 같으면 1, 다르면 0\n",
    "    - 위 값의 평균을 구하면 정확도가 됨"
   ]
  },
  {
   "cell_type": "markdown",
   "id": "b3e640a4",
   "metadata": {},
   "source": [
    "## 모델 전체 읽어오기"
   ]
  },
  {
   "cell_type": "code",
   "execution_count": 25,
   "id": "ce10ae1f",
   "metadata": {},
   "outputs": [
    {
     "ename": "UnicodeDecodeError",
     "evalue": "'utf-8' codec can't decode byte 0x91 in position 13: invalid start byte",
     "output_type": "error",
     "traceback": [
      "\u001b[1;31m---------------------------------------------------------------------------\u001b[0m",
      "\u001b[1;31mUnicodeDecodeError\u001b[0m                        Traceback (most recent call last)",
      "Cell \u001b[1;32mIn[25], line 1\u001b[0m\n\u001b[1;32m----> 1\u001b[0m model_whole \u001b[38;5;241m=\u001b[39m \u001b[43mkeras\u001b[49m\u001b[38;5;241;43m.\u001b[39;49m\u001b[43mmodels\u001b[49m\u001b[38;5;241;43m.\u001b[39;49m\u001b[43mload_model\u001b[49m\u001b[43m(\u001b[49m\u001b[38;5;124;43m\"\u001b[39;49m\u001b[38;5;124;43mmodel-whole.h5\u001b[39;49m\u001b[38;5;124;43m\"\u001b[39;49m\u001b[43m,\u001b[49m\u001b[43m \u001b[49m\u001b[38;5;28;43mcompile\u001b[39;49m\u001b[43m \u001b[49m\u001b[38;5;241;43m=\u001b[39;49m\u001b[43m \u001b[49m\u001b[38;5;28;43;01mFalse\u001b[39;49;00m\u001b[43m)\u001b[49m\n",
      "File \u001b[1;32m~\\AppData\\Roaming\\Python\\Python311\\site-packages\\keras\\src\\saving\\saving_api.py:262\u001b[0m, in \u001b[0;36mload_model\u001b[1;34m(filepath, custom_objects, compile, safe_mode, **kwargs)\u001b[0m\n\u001b[0;32m    254\u001b[0m     \u001b[38;5;28;01mreturn\u001b[39;00m saving_lib\u001b[38;5;241m.\u001b[39mload_model(\n\u001b[0;32m    255\u001b[0m         filepath,\n\u001b[0;32m    256\u001b[0m         custom_objects\u001b[38;5;241m=\u001b[39mcustom_objects,\n\u001b[0;32m    257\u001b[0m         \u001b[38;5;28mcompile\u001b[39m\u001b[38;5;241m=\u001b[39m\u001b[38;5;28mcompile\u001b[39m,\n\u001b[0;32m    258\u001b[0m         safe_mode\u001b[38;5;241m=\u001b[39msafe_mode,\n\u001b[0;32m    259\u001b[0m     )\n\u001b[0;32m    261\u001b[0m \u001b[38;5;66;03m# Legacy case.\u001b[39;00m\n\u001b[1;32m--> 262\u001b[0m \u001b[38;5;28;01mreturn\u001b[39;00m \u001b[43mlegacy_sm_saving_lib\u001b[49m\u001b[38;5;241;43m.\u001b[39;49m\u001b[43mload_model\u001b[49m\u001b[43m(\u001b[49m\n\u001b[0;32m    263\u001b[0m \u001b[43m    \u001b[49m\u001b[43mfilepath\u001b[49m\u001b[43m,\u001b[49m\u001b[43m \u001b[49m\u001b[43mcustom_objects\u001b[49m\u001b[38;5;241;43m=\u001b[39;49m\u001b[43mcustom_objects\u001b[49m\u001b[43m,\u001b[49m\u001b[43m \u001b[49m\u001b[38;5;28;43mcompile\u001b[39;49m\u001b[38;5;241;43m=\u001b[39;49m\u001b[38;5;28;43mcompile\u001b[39;49m\u001b[43m,\u001b[49m\u001b[43m \u001b[49m\u001b[38;5;241;43m*\u001b[39;49m\u001b[38;5;241;43m*\u001b[39;49m\u001b[43mkwargs\u001b[49m\n\u001b[0;32m    264\u001b[0m \u001b[43m\u001b[49m\u001b[43m)\u001b[49m\n",
      "File \u001b[1;32m~\\AppData\\Roaming\\Python\\Python311\\site-packages\\keras\\src\\utils\\traceback_utils.py:70\u001b[0m, in \u001b[0;36mfilter_traceback.<locals>.error_handler\u001b[1;34m(*args, **kwargs)\u001b[0m\n\u001b[0;32m     67\u001b[0m     filtered_tb \u001b[38;5;241m=\u001b[39m _process_traceback_frames(e\u001b[38;5;241m.\u001b[39m__traceback__)\n\u001b[0;32m     68\u001b[0m     \u001b[38;5;66;03m# To get the full stack trace, call:\u001b[39;00m\n\u001b[0;32m     69\u001b[0m     \u001b[38;5;66;03m# `tf.debugging.disable_traceback_filtering()`\u001b[39;00m\n\u001b[1;32m---> 70\u001b[0m     \u001b[38;5;28;01mraise\u001b[39;00m e\u001b[38;5;241m.\u001b[39mwith_traceback(filtered_tb) \u001b[38;5;28;01mfrom\u001b[39;00m \u001b[38;5;28;01mNone\u001b[39;00m\n\u001b[0;32m     71\u001b[0m \u001b[38;5;28;01mfinally\u001b[39;00m:\n\u001b[0;32m     72\u001b[0m     \u001b[38;5;28;01mdel\u001b[39;00m filtered_tb\n",
      "File \u001b[1;32m~\\AppData\\Roaming\\Python\\Python311\\site-packages\\tensorflow\\python\\lib\\io\\file_io.py:703\u001b[0m, in \u001b[0;36mis_directory_v2\u001b[1;34m(path)\u001b[0m\n\u001b[0;32m    694\u001b[0m \u001b[38;5;250m\u001b[39m\u001b[38;5;124;03m\"\"\"Returns whether the path is a directory or not.\u001b[39;00m\n\u001b[0;32m    695\u001b[0m \n\u001b[0;32m    696\u001b[0m \u001b[38;5;124;03mArgs:\u001b[39;00m\n\u001b[1;32m   (...)\u001b[0m\n\u001b[0;32m    700\u001b[0m \u001b[38;5;124;03m  True, if the path is a directory; False otherwise\u001b[39;00m\n\u001b[0;32m    701\u001b[0m \u001b[38;5;124;03m\"\"\"\u001b[39;00m\n\u001b[0;32m    702\u001b[0m \u001b[38;5;28;01mtry\u001b[39;00m:\n\u001b[1;32m--> 703\u001b[0m   \u001b[38;5;28;01mreturn\u001b[39;00m _pywrap_file_io\u001b[38;5;241m.\u001b[39mIsDirectory(compat\u001b[38;5;241m.\u001b[39mpath_to_bytes(path))\n\u001b[0;32m    704\u001b[0m \u001b[38;5;28;01mexcept\u001b[39;00m errors\u001b[38;5;241m.\u001b[39mOpError:\n\u001b[0;32m    705\u001b[0m   \u001b[38;5;28;01mreturn\u001b[39;00m \u001b[38;5;28;01mFalse\u001b[39;00m\n",
      "\u001b[1;31mUnicodeDecodeError\u001b[0m: 'utf-8' codec can't decode byte 0x91 in position 13: invalid start byte"
     ]
    }
   ],
   "source": [
    "model_whole = keras.models.load_model(\"model-whole.h5\", compile = False)"
   ]
  },
  {
   "cell_type": "code",
   "execution_count": 26,
   "id": "74286000",
   "metadata": {},
   "outputs": [
    {
     "ename": "NameError",
     "evalue": "name 'model_whole' is not defined",
     "output_type": "error",
     "traceback": [
      "\u001b[1;31m---------------------------------------------------------------------------\u001b[0m",
      "\u001b[1;31mNameError\u001b[0m                                 Traceback (most recent call last)",
      "Cell \u001b[1;32mIn[26], line 1\u001b[0m\n\u001b[1;32m----> 1\u001b[0m val_labels \u001b[38;5;241m=\u001b[39m np\u001b[38;5;241m.\u001b[39margmax(\u001b[43mmodel_whole\u001b[49m\u001b[38;5;241m.\u001b[39mpredict(scaled_val), axis \u001b[38;5;241m=\u001b[39m \u001b[38;5;241m-\u001b[39m\u001b[38;5;241m1\u001b[39m)\n",
      "\u001b[1;31mNameError\u001b[0m: name 'model_whole' is not defined"
     ]
    }
   ],
   "source": [
    "val_labels = np.argmax(model_whole.predict(scaled_val), axis = -1)"
   ]
  },
  {
   "cell_type": "code",
   "execution_count": 27,
   "id": "b7397020",
   "metadata": {},
   "outputs": [
    {
     "name": "stdout",
     "output_type": "stream",
     "text": [
      "0.8845\n"
     ]
    }
   ],
   "source": [
    "print(np.mean(val_labels == y_val))"
   ]
  },
  {
   "cell_type": "markdown",
   "id": "3747aa50",
   "metadata": {},
   "source": [
    "# 콜백(callback)\n",
    "\n",
    "- 훈련 과정 중간에 어떤 작업을 수행할 수 있게 하는 객체\n",
    "- fit() 메서드의 callbacks 매개변수에 리스트로 전달하여 사용"
   ]
  },
  {
   "cell_type": "markdown",
   "id": "77ae0d08",
   "metadata": {},
   "source": [
    "## ModelCheckpoint 콜백\n",
    "\n",
    "- 최상의 검증 점수를 만드는 모델을 저장"
   ]
  },
  {
   "cell_type": "code",
   "execution_count": 17,
   "id": "9742bc34",
   "metadata": {},
   "outputs": [],
   "source": [
    "checkpoint_cb = keras.callbacks.ModelCheckpoint(\"./model/best-model.h5\", save_best_only = True)"
   ]
  },
  {
   "cell_type": "code",
   "execution_count": 18,
   "id": "00ae7589",
   "metadata": {
    "scrolled": true
   },
   "outputs": [
    {
     "name": "stdout",
     "output_type": "stream",
     "text": [
      "Epoch 1/20\n",
      "1500/1500 [==============================] - 8s 5ms/step - loss: 0.5867 - accuracy: 0.7965 - val_loss: 0.4533 - val_accuracy: 0.8342\n",
      "Epoch 2/20\n",
      "1500/1500 [==============================] - 7s 4ms/step - loss: 0.4372 - accuracy: 0.8418 - val_loss: 0.3855 - val_accuracy: 0.8572\n",
      "Epoch 3/20\n",
      "1500/1500 [==============================] - 7s 5ms/step - loss: 0.4027 - accuracy: 0.8538 - val_loss: 0.3901 - val_accuracy: 0.8574\n",
      "Epoch 4/20\n",
      "1500/1500 [==============================] - 7s 5ms/step - loss: 0.3815 - accuracy: 0.8595 - val_loss: 0.3472 - val_accuracy: 0.8727\n",
      "Epoch 5/20\n",
      "1500/1500 [==============================] - 8s 5ms/step - loss: 0.3662 - accuracy: 0.8661 - val_loss: 0.3533 - val_accuracy: 0.8668\n",
      "Epoch 6/20\n",
      "1500/1500 [==============================] - 8s 5ms/step - loss: 0.3494 - accuracy: 0.8702 - val_loss: 0.3582 - val_accuracy: 0.8673\n",
      "Epoch 7/20\n",
      "1500/1500 [==============================] - 7s 5ms/step - loss: 0.3429 - accuracy: 0.8726 - val_loss: 0.3470 - val_accuracy: 0.8733\n",
      "Epoch 8/20\n",
      "1500/1500 [==============================] - 8s 5ms/step - loss: 0.3323 - accuracy: 0.8774 - val_loss: 0.3297 - val_accuracy: 0.8767\n",
      "Epoch 9/20\n",
      "1500/1500 [==============================] - 7s 5ms/step - loss: 0.3267 - accuracy: 0.8804 - val_loss: 0.3451 - val_accuracy: 0.8694\n",
      "Epoch 10/20\n",
      "1500/1500 [==============================] - 7s 5ms/step - loss: 0.3207 - accuracy: 0.8805 - val_loss: 0.3246 - val_accuracy: 0.8816\n",
      "Epoch 11/20\n",
      "1500/1500 [==============================] - 7s 5ms/step - loss: 0.3124 - accuracy: 0.8837 - val_loss: 0.3247 - val_accuracy: 0.8813\n",
      "Epoch 12/20\n",
      "1500/1500 [==============================] - 7s 5ms/step - loss: 0.3092 - accuracy: 0.8857 - val_loss: 0.3217 - val_accuracy: 0.8830\n",
      "Epoch 13/20\n",
      "1500/1500 [==============================] - 7s 5ms/step - loss: 0.3025 - accuracy: 0.8872 - val_loss: 0.3240 - val_accuracy: 0.8851\n",
      "Epoch 14/20\n",
      "1500/1500 [==============================] - 7s 5ms/step - loss: 0.2995 - accuracy: 0.8901 - val_loss: 0.3245 - val_accuracy: 0.8857\n",
      "Epoch 15/20\n",
      "1500/1500 [==============================] - 7s 5ms/step - loss: 0.2956 - accuracy: 0.8890 - val_loss: 0.3167 - val_accuracy: 0.8833\n",
      "Epoch 16/20\n",
      "1500/1500 [==============================] - 8s 5ms/step - loss: 0.2891 - accuracy: 0.8919 - val_loss: 0.3234 - val_accuracy: 0.8823\n",
      "Epoch 17/20\n",
      "1500/1500 [==============================] - 8s 5ms/step - loss: 0.2855 - accuracy: 0.8927 - val_loss: 0.3152 - val_accuracy: 0.8867\n",
      "Epoch 18/20\n",
      "1500/1500 [==============================] - 8s 5ms/step - loss: 0.2815 - accuracy: 0.8935 - val_loss: 0.3080 - val_accuracy: 0.8894\n",
      "Epoch 19/20\n",
      "1500/1500 [==============================] - 7s 5ms/step - loss: 0.2779 - accuracy: 0.8959 - val_loss: 0.3274 - val_accuracy: 0.8852\n",
      "Epoch 20/20\n",
      "1500/1500 [==============================] - 7s 5ms/step - loss: 0.2764 - accuracy: 0.8960 - val_loss: 0.3257 - val_accuracy: 0.8858\n"
     ]
    },
    {
     "data": {
      "text/plain": [
       "<keras.callbacks.History at 0x1d836bd7d90>"
      ]
     },
     "execution_count": 18,
     "metadata": {},
     "output_type": "execute_result"
    }
   ],
   "source": [
    "model = model_fn(keras.layers.Dropout(0.3))\n",
    "model.compile(optimizer = \"adam\", loss = \"sparse_categorical_crossentropy\", metrics = \"accuracy\")\n",
    "model.fit(scaled_train, y_train, epochs = 20, validation_data = (scaled_val, y_val),\n",
    "          callbacks = [checkpoint_cb])"
   ]
  },
  {
   "cell_type": "markdown",
   "id": "32aa48d0",
   "metadata": {},
   "source": [
    "- 모델이 훈련한 후에 best-model.h5 에 최상의 val_loss를 낸 모델이 저장됨"
   ]
  },
  {
   "cell_type": "code",
   "execution_count": 19,
   "id": "53d36bbb",
   "metadata": {},
   "outputs": [
    {
     "name": "stdout",
     "output_type": "stream",
     "text": [
      "375/375 [==============================] - 2s 5ms/step - loss: 0.3257 - accuracy: 0.8858\n"
     ]
    },
    {
     "data": {
      "text/plain": [
       "[0.32568010687828064, 0.8858333230018616]"
      ]
     },
     "execution_count": 19,
     "metadata": {},
     "output_type": "execute_result"
    }
   ],
   "source": [
    "model.evaluate(scaled_val, y_val)"
   ]
  },
  {
   "cell_type": "code",
   "execution_count": 20,
   "id": "b6040e9b",
   "metadata": {},
   "outputs": [],
   "source": [
    "best_model = keras.models.load_model(\"./model/best-model.h5\")"
   ]
  },
  {
   "cell_type": "code",
   "execution_count": 21,
   "id": "3503213d",
   "metadata": {},
   "outputs": [
    {
     "name": "stdout",
     "output_type": "stream",
     "text": [
      "375/375 [==============================] - 2s 6ms/step - loss: 0.3080 - accuracy: 0.8894\n"
     ]
    },
    {
     "data": {
      "text/plain": [
       "[0.3080121874809265, 0.8894166946411133]"
      ]
     },
     "execution_count": 21,
     "metadata": {},
     "output_type": "execute_result"
    }
   ],
   "source": [
    "best_model.evaluate(scaled_val, y_val)"
   ]
  },
  {
   "cell_type": "markdown",
   "id": "02fc675f",
   "metadata": {},
   "source": [
    "- ModelCheckpoint 콜백이 가장 낮은 검증 손실값의 모델을 자동으로 저장해주어 편리하지만 여전히 20번의 훈련을 해야해서 불편함이 있음"
   ]
  },
  {
   "cell_type": "markdown",
   "id": "95645d04",
   "metadata": {},
   "source": [
    "## EarlyStopping 콜백\n",
    "\n",
    "- 과대적합이 시작되기 전에(검증점수가 상승할 때) 훈련을 미리 중지하는 것을 조기 종료(early stopping)이라고 부름"
   ]
  },
  {
   "cell_type": "code",
   "execution_count": 22,
   "id": "cf826715",
   "metadata": {},
   "outputs": [],
   "source": [
    "early_stopping_cb = keras.callbacks.EarlyStopping(patience = 2, restore_best_weights = True)"
   ]
  },
  {
   "cell_type": "markdown",
   "id": "adcd90d4",
   "metadata": {},
   "source": [
    "- patience\n",
    "    - 검증 점수가 향상되지 않더라도 지켜볼 에포크 횟수\n",
    "    - patience가 2라면 2번 연속 검증 점수가 향상되지 않으면 훈련 중지\n",
    "    \n",
    "- restore_best_weights\n",
    "    - 가장 낮은 검증 손실을 낸 모델의 상태로 되돌림"
   ]
  },
  {
   "cell_type": "code",
   "execution_count": 23,
   "id": "87c68521",
   "metadata": {},
   "outputs": [
    {
     "name": "stdout",
     "output_type": "stream",
     "text": [
      "Epoch 1/20\n",
      "1500/1500 [==============================] - 8s 5ms/step - loss: 0.5930 - accuracy: 0.7903 - val_loss: 0.4332 - val_accuracy: 0.8423\n",
      "Epoch 2/20\n",
      "1500/1500 [==============================] - 7s 5ms/step - loss: 0.4416 - accuracy: 0.8398 - val_loss: 0.3996 - val_accuracy: 0.8518\n",
      "Epoch 3/20\n",
      "1500/1500 [==============================] - 7s 5ms/step - loss: 0.4071 - accuracy: 0.8524 - val_loss: 0.3819 - val_accuracy: 0.8587\n",
      "Epoch 4/20\n",
      "1500/1500 [==============================] - 7s 5ms/step - loss: 0.3862 - accuracy: 0.8584 - val_loss: 0.3576 - val_accuracy: 0.8686\n",
      "Epoch 5/20\n",
      "1500/1500 [==============================] - 7s 5ms/step - loss: 0.3716 - accuracy: 0.8644 - val_loss: 0.3465 - val_accuracy: 0.8702\n",
      "Epoch 6/20\n",
      "1500/1500 [==============================] - 7s 5ms/step - loss: 0.3561 - accuracy: 0.8689 - val_loss: 0.3441 - val_accuracy: 0.8741\n",
      "Epoch 7/20\n",
      "1500/1500 [==============================] - 7s 4ms/step - loss: 0.3438 - accuracy: 0.8750 - val_loss: 0.3279 - val_accuracy: 0.8804\n",
      "Epoch 8/20\n",
      "1500/1500 [==============================] - 6s 4ms/step - loss: 0.3377 - accuracy: 0.8764 - val_loss: 0.3464 - val_accuracy: 0.8732\n",
      "Epoch 9/20\n",
      "1500/1500 [==============================] - 7s 4ms/step - loss: 0.3283 - accuracy: 0.8789 - val_loss: 0.3250 - val_accuracy: 0.8798\n",
      "Epoch 10/20\n",
      "1500/1500 [==============================] - 7s 5ms/step - loss: 0.3229 - accuracy: 0.8810 - val_loss: 0.3275 - val_accuracy: 0.8822\n",
      "Epoch 11/20\n",
      "1500/1500 [==============================] - 8s 5ms/step - loss: 0.3157 - accuracy: 0.8835 - val_loss: 0.3192 - val_accuracy: 0.8832\n",
      "Epoch 12/20\n",
      "1500/1500 [==============================] - 7s 5ms/step - loss: 0.3108 - accuracy: 0.8840 - val_loss: 0.3255 - val_accuracy: 0.8802\n",
      "Epoch 13/20\n",
      "1500/1500 [==============================] - 7s 5ms/step - loss: 0.3056 - accuracy: 0.8863 - val_loss: 0.3201 - val_accuracy: 0.8832\n"
     ]
    },
    {
     "data": {
      "text/plain": [
       "<keras.callbacks.History at 0x1d8ba2c9030>"
      ]
     },
     "execution_count": 23,
     "metadata": {},
     "output_type": "execute_result"
    }
   ],
   "source": [
    "model = model_fn(keras.layers.Dropout(0.3))\n",
    "model.compile(optimizer = \"adam\", loss = \"sparse_categorical_crossentropy\", metrics = \"accuracy\")\n",
    "model.fit(scaled_train, y_train, epochs = 20, validation_data = (scaled_val, y_val),\n",
    "          callbacks = [checkpoint_cb, early_stopping_cb])"
   ]
  },
  {
   "cell_type": "code",
   "execution_count": 24,
   "id": "0b9c3649",
   "metadata": {},
   "outputs": [
    {
     "name": "stdout",
     "output_type": "stream",
     "text": [
      "12\n"
     ]
    }
   ],
   "source": [
    "# 몇 번째 에포크에서 중지되었는지 확인\n",
    "print(early_stopping_cb.stopped_epoch)"
   ]
  },
  {
   "cell_type": "markdown",
   "id": "32fc31ab",
   "metadata": {},
   "source": [
    "- 13번째 에포크까지 훈련한 후 중지됨\n",
    "    - patience가 2이기 때문에 11번째 에포크 때의 모델이 최상의 모델임"
   ]
  },
  {
   "cell_type": "code",
   "execution_count": 25,
   "id": "fb561eeb",
   "metadata": {},
   "outputs": [
    {
     "name": "stdout",
     "output_type": "stream",
     "text": [
      "375/375 [==============================] - 2s 6ms/step - loss: 0.3192 - accuracy: 0.8832\n"
     ]
    },
    {
     "data": {
      "text/plain": [
       "[0.31922677159309387, 0.8832499980926514]"
      ]
     },
     "execution_count": 25,
     "metadata": {},
     "output_type": "execute_result"
    }
   ],
   "source": [
    "model.evaluate(scaled_val, y_val)"
   ]
  },
  {
   "cell_type": "markdown",
   "id": "7d5706ad",
   "metadata": {},
   "source": [
    "# validation_split\n",
    "\n",
    "- 훈련 데이터를 자체적으로 훈련/검증 셋으로 나누어서 훈련/검증을 수행"
   ]
  },
  {
   "cell_type": "code",
   "execution_count": 26,
   "id": "93734dc7",
   "metadata": {},
   "outputs": [],
   "source": [
    "(x_train, y_train), (x_test, y_test) = keras.datasets.fashion_mnist.load_data()\n",
    "scaled_train = x_train / 255\n",
    "scaled_test = x_test / 255"
   ]
  },
  {
   "cell_type": "code",
   "execution_count": 27,
   "id": "9b213d42",
   "metadata": {
    "scrolled": true
   },
   "outputs": [
    {
     "name": "stdout",
     "output_type": "stream",
     "text": [
      "Epoch 1/20\n",
      "1500/1500 [==============================] - 7s 5ms/step - loss: 0.6075 - accuracy: 0.7870 - val_loss: 0.4235 - val_accuracy: 0.8478\n",
      "Epoch 2/20\n",
      "1500/1500 [==============================] - 7s 5ms/step - loss: 0.4465 - accuracy: 0.8388 - val_loss: 0.3871 - val_accuracy: 0.8585\n",
      "Epoch 3/20\n",
      "1500/1500 [==============================] - 7s 5ms/step - loss: 0.4097 - accuracy: 0.8513 - val_loss: 0.3697 - val_accuracy: 0.8650\n",
      "Epoch 4/20\n",
      "1500/1500 [==============================] - 7s 4ms/step - loss: 0.3873 - accuracy: 0.8592 - val_loss: 0.3637 - val_accuracy: 0.8691\n",
      "Epoch 5/20\n",
      "1500/1500 [==============================] - 7s 5ms/step - loss: 0.3697 - accuracy: 0.8633 - val_loss: 0.3505 - val_accuracy: 0.8734\n",
      "Epoch 6/20\n",
      "1500/1500 [==============================] - 7s 5ms/step - loss: 0.3590 - accuracy: 0.8677 - val_loss: 0.3462 - val_accuracy: 0.8698\n",
      "Epoch 7/20\n",
      "1500/1500 [==============================] - 8s 5ms/step - loss: 0.3431 - accuracy: 0.8734 - val_loss: 0.3473 - val_accuracy: 0.8742\n",
      "Epoch 8/20\n",
      "1500/1500 [==============================] - 8s 6ms/step - loss: 0.3378 - accuracy: 0.8741 - val_loss: 0.3334 - val_accuracy: 0.8805\n",
      "Epoch 9/20\n",
      "1500/1500 [==============================] - 8s 5ms/step - loss: 0.3330 - accuracy: 0.8767 - val_loss: 0.3323 - val_accuracy: 0.8778\n",
      "Epoch 10/20\n",
      "1500/1500 [==============================] - 8s 5ms/step - loss: 0.3251 - accuracy: 0.8794 - val_loss: 0.3221 - val_accuracy: 0.8829\n",
      "Epoch 11/20\n",
      "1500/1500 [==============================] - 7s 5ms/step - loss: 0.3184 - accuracy: 0.8813 - val_loss: 0.3289 - val_accuracy: 0.8829\n",
      "Epoch 12/20\n",
      "1500/1500 [==============================] - 7s 5ms/step - loss: 0.3099 - accuracy: 0.8836 - val_loss: 0.3268 - val_accuracy: 0.8820\n"
     ]
    }
   ],
   "source": [
    "model = model_fn(keras.layers.Dropout(0.3))\n",
    "model.compile(optimizer = \"adam\", loss = \"sparse_categorical_crossentropy\", metrics = \"accuracy\")\n",
    "history = model.fit(scaled_train, y_train, epochs = 20, validation_split = 0.2,\n",
    "                    callbacks = [checkpoint_cb, early_stopping_cb])"
   ]
  },
  {
   "cell_type": "code",
   "execution_count": 28,
   "id": "2c0f67ea",
   "metadata": {},
   "outputs": [
    {
     "data": {
      "image/png": "[encoded data removed]",
      "text/plain": [
       "<Figure size 640x480 with 1 Axes>"
      ]
     },
     "metadata": {},
     "output_type": "display_data"
    }
   ],
   "source": [
    "plt.figure()\n",
    "\n",
    "plt.plot(history.history[\"loss\"], label = \"train_loss\")\n",
    "plt.plot(history.history[\"val_loss\"], label = \"val_loss\")\n",
    "plt.plot(history.history[\"accuracy\"], label = \"train_acc\")\n",
    "plt.plot(history.history[\"val_accuracy\"], label = \"val_acc\")\n",
    "\n",
    "plt.xlabel(\"epoch\")\n",
    "plt.legend()\n",
    "\n",
    "plt.show()"
   ]
  },
  {
   "cell_type": "code",
   "execution_count": 29,
   "id": "69fb8ed8",
   "metadata": {},
   "outputs": [
    {
     "name": "stdout",
     "output_type": "stream",
     "text": [
      "313/313 [==============================] - 1s 4ms/step - loss: 0.3519 - accuracy: 0.8753\n"
     ]
    },
    {
     "data": {
      "text/plain": [
       "[0.35185158252716064, 0.8752999901771545]"
      ]
     },
     "execution_count": 29,
     "metadata": {},
     "output_type": "execute_result"
    }
   ],
   "source": [
    "model.evaluate(scaled_test,  y_test)"
   ]
  },
  {
   "cell_type": "code",
   "execution_count": null,
   "id": "6085ead8",
   "metadata": {},
   "outputs": [],
   "source": []
  }
 ],
 "metadata": {
  "kernelspec": {
   "display_name": "Python 3 (ipykernel)",
   "language": "python",
   "name": "python3"
  },
  "language_info": {
   "codemirror_mode": {
    "name": "ipython",
    "version": 3
   },
   "file_extension": ".py",
   "mimetype": "text/x-python",
   "name": "python",
   "nbconvert_exporter": "python",
   "pygments_lexer": "ipython3",
   "version": "3.11.3"
  }
 },
 "nbformat": 4,
 "nbformat_minor": 5
}
