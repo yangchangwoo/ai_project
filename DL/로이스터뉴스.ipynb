{
 "cells": [
  {
   "cell_type": "code",
   "execution_count": 1,
   "id": "4dc56150",
   "metadata": {},
   "outputs": [],
   "source": [
    "from tensorflow.keras.datasets import reuters\n",
    "from tensorflow.keras.preprocessing.sequence import pad_sequences\n",
    "from tensorflow import keras\n",
    "from sklearn.model_selection import train_test_split\n",
    "import matplotlib.pyplot as plt\n",
    "import numpy as np"
   ]
  },
  {
   "cell_type": "code",
   "execution_count": 7,
   "id": "7d1b62f8",
   "metadata": {},
   "outputs": [],
   "source": [
    "(x_train, y_train), (x_test, y_test) = reuters.load_data()"
   ]
  },
  {
   "cell_type": "code",
   "execution_count": 8,
   "id": "04cb8527",
   "metadata": {},
   "outputs": [],
   "source": [
    "# 단어 사전\n",
    "word_index = reuters.get_word_index()\n"
   ]
  },
  {
   "cell_type": "code",
   "execution_count": 9,
   "id": "7e086061",
   "metadata": {},
   "outputs": [],
   "source": [
    "idx2word ={0: \"<PAD>\", 1:\"<s>\", 2: \"<JNK>\"}"
   ]
  },
  {
   "cell_type": "code",
   "execution_count": 10,
   "id": "0ed15290",
   "metadata": {},
   "outputs": [],
   "source": [
    "idx2word.update({value +3 : key for key, value in word_index.items()})"
   ]
  },
  {
   "cell_type": "code",
   "execution_count": 11,
   "id": "12b998ee",
   "metadata": {},
   "outputs": [
    {
     "data": {
      "text/plain": [
       "'<s> mcgrath rentcorp said as a result of its december acquisition of space co it expects earnings per share in 1987 of 1 15 to 1 30 dlrs per share up from 70 cts in 1986 the company said pretax net should rise to nine to 10 mln dlrs from six mln dlrs in 1986 and rental operation revenues to 19 to 22 mln dlrs from 12 5 mln dlrs it said cash flow per share this year should be 2 50 to three dlrs reuter 3'"
      ]
     },
     "execution_count": 11,
     "metadata": {},
     "output_type": "execute_result"
    }
   ],
   "source": [
    "\" \".join(map(lambda x: idx2word[x], x_train[0]))"
   ]
  },
  {
   "cell_type": "code",
   "execution_count": 12,
   "id": "b5a4d0c1",
   "metadata": {},
   "outputs": [
    {
     "data": {
      "text/plain": [
       "30979"
      ]
     },
     "execution_count": 12,
     "metadata": {},
     "output_type": "execute_result"
    }
   ],
   "source": [
    "# 전체 단어수 \n",
    "len(word_index.keys())"
   ]
  },
  {
   "cell_type": "code",
   "execution_count": 19,
   "id": "4a58658d",
   "metadata": {},
   "outputs": [],
   "source": [
    "# hyperprameter\n",
    "VOCAB_SIZE = 800\n",
    "MAX_LEN = 100\n",
    "CLASSES = len(np.unique(y_train))"
   ]
  },
  {
   "cell_type": "code",
   "execution_count": 20,
   "id": "486615a5",
   "metadata": {},
   "outputs": [
    {
     "data": {
      "text/plain": [
       "46"
      ]
     },
     "execution_count": 20,
     "metadata": {},
     "output_type": "execute_result"
    }
   ],
   "source": [
    "CLASSES"
   ]
  },
  {
   "cell_type": "code",
   "execution_count": 21,
   "id": "2255f3ba",
   "metadata": {},
   "outputs": [],
   "source": [
    "# 단어 수 설정 후 다시 data load\n",
    "(x_train, y_train), (x_test, y_test) = reuters.load_data(num_words = VOCAB_SIZE )"
   ]
  },
  {
   "cell_type": "code",
   "execution_count": 22,
   "id": "e4ee8591",
   "metadata": {},
   "outputs": [
    {
     "name": "stdout",
     "output_type": "stream",
     "text": [
      "0번째 data\n",
      "<s> <JNK> <JNK> said as a result of its december acquisition of <JNK> co it expects earnings per share in 1987 of 1 15 to 1 30 dlrs per share up from 70 cts in 1986 the company said <JNK> net should rise to nine to 10 mln dlrs from six mln dlrs in 1986 and <JNK> <JNK> revenues to 19 to 22 mln dlrs from 12 5 mln dlrs it said cash <JNK> per share this year should be 2 50 to three dlrs reuter 3\n",
      "\n",
      "1번째 data\n",
      "<s> <JNK> de <JNK> <JNK> lt <JNK> <JNK> and lt <JNK> <JNK> corp of <JNK> have each taken 50 pct <JNK> in <JNK> company <JNK> <JNK> <JNK> <JNK> de <JNK> said in a statement it <JNK> no financial details of the transaction <JNK> <JNK> <JNK> turnover in 1986 was 17 5 billion <JNK> francs reuter 3\n",
      "\n",
      "2번째 data\n",
      "<s> shr 3 28 dlrs vs 22 cts shr <JNK> 2 <JNK> dlrs vs 22 cts net 46 0 mln vs 3 <JNK> 000 avg shrs 14 0 mln vs 15 2 mln year shr 5 41 dlrs vs 1 56 dlrs shr <JNK> 4 <JNK> dlrs vs 1 50 dlrs net <JNK> 2 mln vs 25 9 mln avg shrs 14 5 mln vs 15 1 mln note earnings per share <JNK> the two for one split effective january 6 1987 per share <JNK> are <JNK> after preferred stock <JNK> loss <JNK> operations for the qtr 1986 includes gains of sale of <JNK> in <JNK> corp of 14 mln dlrs and <JNK> companies of 4 <JNK> 000 less <JNK> of <JNK> in national <JNK> inc of 11 8 mln and <JNK> corp of 15 6 mln reuter 3\n",
      "\n",
      "3번째 data\n",
      "<s> the farmers <JNK> administration the u s agriculture <JNK> farm <JNK> <JNK> could <JNK> about seven billion dlrs in outstanding <JNK> on its <JNK> <JNK> <JNK> or about one fourth of its farm loan <JNK> the general <JNK> office <JNK> said in <JNK> <JNK> for <JNK> to the <JNK> agriculture committee <JNK> <JNK> senior <JNK> director of <JNK> also said that a <JNK> <JNK> of proposed changes in <JNK> financial <JNK> <JNK> <JNK> as many as one half of <JNK> <JNK> who received new loans from the agency in 1986 would be <JNK> under the proposed system the agency has proposed <JNK> <JNK> credit <JNK> a <JNK> of financial <JNK> <JNK> of <JNK> <JNK> on <JNK> <JNK> <JNK> agriculture committee chairman <JNK> <JNK> <JNK> <JNK> <JNK> the proposed <JNK> changes <JNK> <JNK> <JNK> <JNK> <JNK> at a <JNK> that they would mark a <JNK> <JNK> in the <JNK> <JNK> <JNK> from being <JNK> <JNK> of last <JNK> <JNK> <JNK> a <JNK> <JNK> bank but <JNK> <JNK> the new <JNK> saying the agency had a <JNK> to <JNK> its 70 billion dlr loan <JNK> in a <JNK> <JNK> <JNK> <JNK> <JNK> of <JNK> <JNK> <JNK> <JNK> said the proposed credit <JNK> system <JNK> to <JNK> that <JNK> would make loans only to <JNK> who had a <JNK> change of <JNK> their debt reuter 3\n",
      "\n",
      "4번째 data\n",
      "<s> <JNK> co said its board has received a proposal from chairman and chief executive <JNK> <JNK> <JNK> <JNK> to acquire <JNK> for 15 75 dlrs per share in cash <JNK> said the acquisition bid is subject to <JNK> <JNK> the <JNK> financing it said he <JNK> to <JNK> other members of senior management to <JNK> the company said <JNK> <JNK> 30 pct of <JNK> stock and other management members another 7 5 pct <JNK> said it has <JNK> an <JNK> board committee to <JNK> the offer and has <JNK> the annual meeting it had scheduled for march 31 reuter 3\n",
      "\n"
     ]
    }
   ],
   "source": [
    "word_index = reuters.get_word_index()\n",
    "idx2word = {0: \"<PAD>\", 1:\"<s>\", 2: \"<JNK>\"}\n",
    "idx2word.update({value +3 : key for key, value in word_index.items()})\n",
    "\n",
    "for i in range(5):\n",
    "    print(f\"{i}번째 data\")\n",
    "    print(\" \". join(map(lambda x: idx2word[x], x_train[i])), end = \"\\n\\n\")"
   ]
  },
  {
   "cell_type": "code",
   "execution_count": 25,
   "id": "9d70bd6f",
   "metadata": {},
   "outputs": [],
   "source": [
    "# 데이터 길이 분석\n",
    "lengths = np.array([len(x) for x in x_train])"
   ]
  },
  {
   "cell_type": "code",
   "execution_count": 26,
   "id": "c18f30d0",
   "metadata": {},
   "outputs": [
    {
     "data": {
      "image/png": "[encoded data removed]",
      "text/plain": [
       "<Figure size 640x480 with 1 Axes>"
      ]
     },
     "metadata": {},
     "output_type": "display_data"
    }
   ],
   "source": [
    "plt.figure()\n",
    "\n",
    "plt.hist(lengths)\n",
    "\n",
    "plt.xlabel(\"lengths\")\n",
    "plt.ylabel(\"frequency\")\n",
    "plt.show()"
   ]
  },
  {
   "cell_type": "code",
   "execution_count": 28,
   "id": "a57d1dfa",
   "metadata": {},
   "outputs": [
    {
     "data": {
      "text/plain": [
       "145.5398574927633"
      ]
     },
     "execution_count": 28,
     "metadata": {},
     "output_type": "execute_result"
    }
   ],
   "source": [
    "np.mean(length)"
   ]
  },
  {
   "cell_type": "code",
   "execution_count": 31,
   "id": "582993d3",
   "metadata": {},
   "outputs": [
    {
     "data": {
      "text/plain": [
       "array([ 60.,  95., 179.])"
      ]
     },
     "execution_count": 31,
     "metadata": {},
     "output_type": "execute_result"
    }
   ],
   "source": [
    "np.quantile(length, [0.25,0.5, 0.75])"
   ]
  },
  {
   "cell_type": "code",
   "execution_count": 32,
   "id": "372fcb5a",
   "metadata": {},
   "outputs": [
    {
     "data": {
      "text/plain": [
       "2376"
      ]
     },
     "execution_count": 32,
     "metadata": {},
     "output_type": "execute_result"
    }
   ],
   "source": [
    "np.max(length)"
   ]
  },
  {
   "cell_type": "code",
   "execution_count": 33,
   "id": "70f19c0f",
   "metadata": {},
   "outputs": [
    {
     "data": {
      "text/plain": [
       "46"
      ]
     },
     "execution_count": 33,
     "metadata": {},
     "output_type": "execute_result"
    }
   ],
   "source": [
    "# 종속변수 종류 수 확인\n",
    "len(np.unique(y_train))"
   ]
  },
  {
   "cell_type": "code",
   "execution_count": 35,
   "id": "2b2d8f97",
   "metadata": {},
   "outputs": [],
   "source": [
    "x_sub, x_val, y_sub, y_val = train_test_split(x_train, y_train, test_size = 0.2,\n",
    "                                             stratify = y_train, random_state = 5)"
   ]
  },
  {
   "cell_type": "code",
   "execution_count": 36,
   "id": "f69e96d5",
   "metadata": {},
   "outputs": [],
   "source": [
    "# 데이터 길이 전처리\n",
    "sub_seq = pad_sequences(x_sub, maxlen = MAX_LEN, truncating = \"post\")\n",
    "val_seq = pad_sequences(x_val, maxlen = MAX_LEN, truncating = \"post\")\n",
    "test_seq = pad_sequences(x_val, maxlen = MAX_LEN, truncating = \"post\")\n"
   ]
  },
  {
   "cell_type": "code",
   "execution_count": 37,
   "id": "4f0cd2e5",
   "metadata": {},
   "outputs": [
    {
     "data": {
      "text/plain": [
       "(7185, 100)"
      ]
     },
     "execution_count": 37,
     "metadata": {},
     "output_type": "execute_result"
    }
   ],
   "source": [
    "sub_seq .shape"
   ]
  },
  {
   "cell_type": "code",
   "execution_count": 41,
   "id": "5fa5f4da",
   "metadata": {},
   "outputs": [],
   "source": [
    "model = keras.Sequential()\n",
    "model.add(keras.layers.Embedding(VOCAB_SIZE, 128, input_length = MAX_LEN))\n",
    "model.add(keras.layers.Dropout(0.5))\n",
    "model.add(keras.layers.Conv1D(64,5, activation =\"relu\"))\n",
    "model.add(keras.layers.MaxPool1D(4))\n",
    "model.add(keras.layers.LSTM(64))\n",
    "model.add(keras.layers.Dense(CLASSES, activation = \"softmax\"))"
   ]
  },
  {
   "cell_type": "code",
   "execution_count": 42,
   "id": "77034e9b",
   "metadata": {},
   "outputs": [
    {
     "name": "stdout",
     "output_type": "stream",
     "text": [
      "Model: \"sequential_2\"\n",
      "_________________________________________________________________\n",
      " Layer (type)                Output Shape              Param #   \n",
      "=================================================================\n",
      " embedding_1 (Embedding)     (None, 100, 128)          102400    \n",
      "                                                                 \n",
      " dropout_1 (Dropout)         (None, 100, 128)          0         \n",
      "                                                                 \n",
      " conv1d_1 (Conv1D)           (None, 96, 64)            41024     \n",
      "                                                                 \n",
      " max_pooling1d_1 (MaxPoolin  (None, 24, 64)            0         \n",
      " g1D)                                                            \n",
      "                                                                 \n",
      " lstm (LSTM)                 (None, 64)                33024     \n",
      "                                                                 \n",
      " dense (Dense)               (None, 46)                2990      \n",
      "                                                                 \n",
      "=================================================================\n",
      "Total params: 179438 (700.93 KB)\n",
      "Trainable params: 179438 (700.93 KB)\n",
      "Non-trainable params: 0 (0.00 Byte)\n",
      "_________________________________________________________________\n"
     ]
    }
   ],
   "source": [
    "model.summary()"
   ]
  },
  {
   "cell_type": "code",
   "execution_count": 54,
   "id": "2eb51ba3",
   "metadata": {},
   "outputs": [],
   "source": [
    "rmsprop = keras.optimizers.RMSprop(learning_rate = 1e-4)\n",
    "model.compile(optimizer = rmsprop, loss = \"sparse_categorical_crossentropy\",\n",
    "             metrics = [\"accuracy\"])\n",
    "early_stopping_cb = keras.callbacks.EarlyStopping(patience = 4, restore_best_weights = True)"
   ]
  },
  {
   "cell_type": "code",
   "execution_count": 55,
   "id": "2496f431",
   "metadata": {},
   "outputs": [
    {
     "name": "stdout",
     "output_type": "stream",
     "text": [
      "Epoch 1/100\n",
      "113/113 [==============================] - 8s 56ms/step - loss: 3.3772 - accuracy: 0.3344 - val_loss: 2.7959 - val_accuracy: 0.3517\n",
      "Epoch 2/100\n",
      "113/113 [==============================] - 6s 50ms/step - loss: 2.5565 - accuracy: 0.3521 - val_loss: 2.3611 - val_accuracy: 0.4190\n",
      "Epoch 3/100\n",
      "113/113 [==============================] - 5s 48ms/step - loss: 2.2459 - accuracy: 0.4322 - val_loss: 2.1562 - val_accuracy: 0.4713\n",
      "Epoch 4/100\n",
      "113/113 [==============================] - 5s 48ms/step - loss: 2.0809 - accuracy: 0.4793 - val_loss: 2.0185 - val_accuracy: 0.5042\n",
      "Epoch 5/100\n",
      "113/113 [==============================] - 5s 48ms/step - loss: 1.9672 - accuracy: 0.5041 - val_loss: 1.9442 - val_accuracy: 0.5164\n",
      "Epoch 6/100\n",
      "113/113 [==============================] - 6s 49ms/step - loss: 1.8873 - accuracy: 0.5141 - val_loss: 1.9764 - val_accuracy: 0.4903\n",
      "Epoch 7/100\n",
      "113/113 [==============================] - 5s 48ms/step - loss: 1.8203 - accuracy: 0.5386 - val_loss: 1.8608 - val_accuracy: 0.5398\n",
      "Epoch 8/100\n",
      "113/113 [==============================] - 5s 48ms/step - loss: 1.7622 - accuracy: 0.5577 - val_loss: 1.7799 - val_accuracy: 0.5676\n",
      "Epoch 9/100\n",
      "113/113 [==============================] - 6s 49ms/step - loss: 1.7234 - accuracy: 0.5680 - val_loss: 1.8165 - val_accuracy: 0.5565\n",
      "Epoch 10/100\n",
      "113/113 [==============================] - 6s 48ms/step - loss: 1.6966 - accuracy: 0.5769 - val_loss: 1.6803 - val_accuracy: 0.5876\n",
      "Epoch 11/100\n",
      "113/113 [==============================] - 6s 50ms/step - loss: 1.6703 - accuracy: 0.5832 - val_loss: 1.6775 - val_accuracy: 0.5954\n",
      "Epoch 12/100\n",
      "113/113 [==============================] - 6s 50ms/step - loss: 1.6480 - accuracy: 0.5936 - val_loss: 1.7271 - val_accuracy: 0.5698\n",
      "Epoch 13/100\n",
      "113/113 [==============================] - 6s 50ms/step - loss: 1.6226 - accuracy: 0.6017 - val_loss: 1.6663 - val_accuracy: 0.5865\n",
      "Epoch 14/100\n",
      "113/113 [==============================] - 6s 49ms/step - loss: 1.6041 - accuracy: 0.6053 - val_loss: 1.6507 - val_accuracy: 0.5954\n",
      "Epoch 15/100\n",
      "113/113 [==============================] - 6s 49ms/step - loss: 1.5867 - accuracy: 0.6063 - val_loss: 1.5796 - val_accuracy: 0.6194\n",
      "Epoch 16/100\n",
      "113/113 [==============================] - 6s 49ms/step - loss: 1.5629 - accuracy: 0.6168 - val_loss: 1.5954 - val_accuracy: 0.6060\n",
      "Epoch 17/100\n",
      "113/113 [==============================] - 6s 49ms/step - loss: 1.5438 - accuracy: 0.6193 - val_loss: 1.6141 - val_accuracy: 0.5899\n",
      "Epoch 18/100\n",
      "113/113 [==============================] - 6s 49ms/step - loss: 1.5272 - accuracy: 0.6255 - val_loss: 1.5520 - val_accuracy: 0.6205\n",
      "Epoch 19/100\n",
      "113/113 [==============================] - 5s 46ms/step - loss: 1.5067 - accuracy: 0.6342 - val_loss: 1.5468 - val_accuracy: 0.6233\n",
      "Epoch 20/100\n",
      "113/113 [==============================] - 5s 46ms/step - loss: 1.4892 - accuracy: 0.6351 - val_loss: 1.5162 - val_accuracy: 0.6372\n",
      "Epoch 21/100\n",
      "113/113 [==============================] - 5s 48ms/step - loss: 1.4732 - accuracy: 0.6418 - val_loss: 1.4805 - val_accuracy: 0.6444\n",
      "Epoch 22/100\n",
      "113/113 [==============================] - 6s 49ms/step - loss: 1.4546 - accuracy: 0.6472 - val_loss: 1.4964 - val_accuracy: 0.6316\n",
      "Epoch 23/100\n",
      "113/113 [==============================] - 6s 50ms/step - loss: 1.4310 - accuracy: 0.6540 - val_loss: 1.5236 - val_accuracy: 0.6244\n",
      "Epoch 24/100\n",
      "113/113 [==============================] - 6s 50ms/step - loss: 1.4156 - accuracy: 0.6564 - val_loss: 1.4498 - val_accuracy: 0.6500\n",
      "Epoch 25/100\n",
      "113/113 [==============================] - 6s 49ms/step - loss: 1.4016 - accuracy: 0.6608 - val_loss: 1.4257 - val_accuracy: 0.6516\n",
      "Epoch 26/100\n",
      "113/113 [==============================] - 6s 50ms/step - loss: 1.3860 - accuracy: 0.6643 - val_loss: 1.4367 - val_accuracy: 0.6516\n",
      "Epoch 27/100\n",
      "113/113 [==============================] - 6s 50ms/step - loss: 1.3693 - accuracy: 0.6686 - val_loss: 1.4564 - val_accuracy: 0.6461\n",
      "Epoch 28/100\n",
      "113/113 [==============================] - 5s 46ms/step - loss: 1.3534 - accuracy: 0.6711 - val_loss: 1.4224 - val_accuracy: 0.6594\n",
      "Epoch 29/100\n",
      "113/113 [==============================] - 6s 51ms/step - loss: 1.3345 - accuracy: 0.6792 - val_loss: 1.3807 - val_accuracy: 0.6750\n",
      "Epoch 30/100\n",
      "113/113 [==============================] - 5s 41ms/step - loss: 1.3220 - accuracy: 0.6775 - val_loss: 1.3514 - val_accuracy: 0.6789\n",
      "Epoch 31/100\n",
      "113/113 [==============================] - 5s 45ms/step - loss: 1.3044 - accuracy: 0.6848 - val_loss: 1.3669 - val_accuracy: 0.6761\n",
      "Epoch 32/100\n",
      "113/113 [==============================] - 6s 51ms/step - loss: 1.2853 - accuracy: 0.6884 - val_loss: 1.3437 - val_accuracy: 0.6811\n",
      "Epoch 33/100\n",
      "113/113 [==============================] - 6s 51ms/step - loss: 1.2677 - accuracy: 0.6927 - val_loss: 1.3282 - val_accuracy: 0.6811\n",
      "Epoch 34/100\n",
      "113/113 [==============================] - 6s 51ms/step - loss: 1.2542 - accuracy: 0.6960 - val_loss: 1.3046 - val_accuracy: 0.6939\n",
      "Epoch 35/100\n",
      "113/113 [==============================] - 6s 50ms/step - loss: 1.2399 - accuracy: 0.6985 - val_loss: 1.3357 - val_accuracy: 0.6912\n",
      "Epoch 36/100\n",
      "113/113 [==============================] - 6s 50ms/step - loss: 1.2244 - accuracy: 0.7035 - val_loss: 1.3111 - val_accuracy: 0.6917\n",
      "Epoch 37/100\n",
      "113/113 [==============================] - 6s 50ms/step - loss: 1.2114 - accuracy: 0.7119 - val_loss: 1.2720 - val_accuracy: 0.7062\n",
      "Epoch 38/100\n",
      "113/113 [==============================] - 6s 50ms/step - loss: 1.1938 - accuracy: 0.7158 - val_loss: 1.2717 - val_accuracy: 0.7028\n",
      "Epoch 39/100\n",
      "113/113 [==============================] - 6s 51ms/step - loss: 1.1827 - accuracy: 0.7204 - val_loss: 1.3087 - val_accuracy: 0.6978\n",
      "Epoch 40/100\n",
      "113/113 [==============================] - 6s 51ms/step - loss: 1.1669 - accuracy: 0.7236 - val_loss: 1.2498 - val_accuracy: 0.7112\n",
      "Epoch 41/100\n",
      "113/113 [==============================] - 6s 49ms/step - loss: 1.1567 - accuracy: 0.7236 - val_loss: 1.2199 - val_accuracy: 0.7168\n",
      "Epoch 42/100\n",
      "113/113 [==============================] - 5s 48ms/step - loss: 1.1473 - accuracy: 0.7265 - val_loss: 1.2354 - val_accuracy: 0.7106\n",
      "Epoch 43/100\n",
      "113/113 [==============================] - 5s 48ms/step - loss: 1.1312 - accuracy: 0.7293 - val_loss: 1.2159 - val_accuracy: 0.7190\n",
      "Epoch 44/100\n",
      "113/113 [==============================] - 6s 51ms/step - loss: 1.1161 - accuracy: 0.7325 - val_loss: 1.2220 - val_accuracy: 0.7112\n",
      "Epoch 45/100\n",
      "113/113 [==============================] - 6s 50ms/step - loss: 1.1056 - accuracy: 0.7332 - val_loss: 1.2221 - val_accuracy: 0.7112\n",
      "Epoch 46/100\n",
      "113/113 [==============================] - 6s 49ms/step - loss: 1.0999 - accuracy: 0.7370 - val_loss: 1.2051 - val_accuracy: 0.7206\n",
      "Epoch 47/100\n",
      "113/113 [==============================] - 6s 49ms/step - loss: 1.0859 - accuracy: 0.7372 - val_loss: 1.1964 - val_accuracy: 0.7195\n",
      "Epoch 48/100\n",
      "113/113 [==============================] - 6s 51ms/step - loss: 1.0781 - accuracy: 0.7415 - val_loss: 1.1990 - val_accuracy: 0.7140\n",
      "Epoch 49/100\n",
      "113/113 [==============================] - 6s 50ms/step - loss: 1.0664 - accuracy: 0.7422 - val_loss: 1.1936 - val_accuracy: 0.7168\n",
      "Epoch 50/100\n",
      "113/113 [==============================] - 6s 49ms/step - loss: 1.0549 - accuracy: 0.7449 - val_loss: 1.1557 - val_accuracy: 0.7295\n",
      "Epoch 51/100\n",
      "113/113 [==============================] - 5s 48ms/step - loss: 1.0444 - accuracy: 0.7499 - val_loss: 1.1810 - val_accuracy: 0.7257\n",
      "Epoch 52/100\n",
      "113/113 [==============================] - 5s 48ms/step - loss: 1.0367 - accuracy: 0.7491 - val_loss: 1.1849 - val_accuracy: 0.7162\n",
      "Epoch 53/100\n",
      "113/113 [==============================] - 6s 49ms/step - loss: 1.0327 - accuracy: 0.7507 - val_loss: 1.1510 - val_accuracy: 0.7334\n",
      "Epoch 54/100\n",
      "113/113 [==============================] - 6s 49ms/step - loss: 1.0212 - accuracy: 0.7566 - val_loss: 1.1401 - val_accuracy: 0.7323\n",
      "Epoch 55/100\n",
      "113/113 [==============================] - 6s 51ms/step - loss: 1.0202 - accuracy: 0.7548 - val_loss: 1.1549 - val_accuracy: 0.7301\n",
      "Epoch 56/100\n",
      "113/113 [==============================] - 6s 49ms/step - loss: 1.0063 - accuracy: 0.7609 - val_loss: 1.1522 - val_accuracy: 0.7334\n",
      "Epoch 57/100\n"
     ]
    },
    {
     "name": "stdout",
     "output_type": "stream",
     "text": [
      "113/113 [==============================] - 6s 49ms/step - loss: 1.0007 - accuracy: 0.7598 - val_loss: 1.1255 - val_accuracy: 0.7368\n",
      "Epoch 58/100\n",
      "113/113 [==============================] - 5s 48ms/step - loss: 0.9898 - accuracy: 0.7620 - val_loss: 1.1160 - val_accuracy: 0.7407\n",
      "Epoch 59/100\n",
      "113/113 [==============================] - 5s 47ms/step - loss: 0.9806 - accuracy: 0.7678 - val_loss: 1.1408 - val_accuracy: 0.7334\n",
      "Epoch 60/100\n",
      "113/113 [==============================] - 5s 46ms/step - loss: 0.9798 - accuracy: 0.7645 - val_loss: 1.1068 - val_accuracy: 0.7368\n",
      "Epoch 61/100\n",
      "113/113 [==============================] - 5s 48ms/step - loss: 0.9642 - accuracy: 0.7712 - val_loss: 1.1507 - val_accuracy: 0.7351\n",
      "Epoch 62/100\n",
      "113/113 [==============================] - 5s 49ms/step - loss: 0.9580 - accuracy: 0.7715 - val_loss: 1.1136 - val_accuracy: 0.7440\n",
      "Epoch 63/100\n",
      "113/113 [==============================] - 5s 48ms/step - loss: 0.9517 - accuracy: 0.7748 - val_loss: 1.1120 - val_accuracy: 0.7451\n",
      "Epoch 64/100\n",
      "113/113 [==============================] - 5s 48ms/step - loss: 0.9515 - accuracy: 0.7758 - val_loss: 1.1043 - val_accuracy: 0.7462\n",
      "Epoch 65/100\n",
      "113/113 [==============================] - 6s 49ms/step - loss: 0.9386 - accuracy: 0.7802 - val_loss: 1.1205 - val_accuracy: 0.7401\n",
      "Epoch 66/100\n",
      "113/113 [==============================] - 5s 48ms/step - loss: 0.9378 - accuracy: 0.7754 - val_loss: 1.0852 - val_accuracy: 0.7451\n",
      "Epoch 67/100\n",
      "113/113 [==============================] - 5s 47ms/step - loss: 0.9289 - accuracy: 0.7772 - val_loss: 1.1103 - val_accuracy: 0.7429\n",
      "Epoch 68/100\n",
      "113/113 [==============================] - 5s 48ms/step - loss: 0.9279 - accuracy: 0.7800 - val_loss: 1.1046 - val_accuracy: 0.7457\n",
      "Epoch 69/100\n",
      "113/113 [==============================] - 5s 46ms/step - loss: 0.9214 - accuracy: 0.7791 - val_loss: 1.0811 - val_accuracy: 0.7474\n",
      "Epoch 70/100\n",
      "113/113 [==============================] - 6s 49ms/step - loss: 0.9101 - accuracy: 0.7857 - val_loss: 1.1398 - val_accuracy: 0.7373\n",
      "Epoch 71/100\n",
      "113/113 [==============================] - 5s 48ms/step - loss: 0.9048 - accuracy: 0.7846 - val_loss: 1.0819 - val_accuracy: 0.7490\n",
      "Epoch 72/100\n",
      "113/113 [==============================] - 5s 48ms/step - loss: 0.9035 - accuracy: 0.7872 - val_loss: 1.0741 - val_accuracy: 0.7490\n",
      "Epoch 73/100\n",
      "113/113 [==============================] - 6s 49ms/step - loss: 0.8964 - accuracy: 0.7862 - val_loss: 1.1147 - val_accuracy: 0.7468\n",
      "Epoch 74/100\n",
      "113/113 [==============================] - 5s 48ms/step - loss: 0.8895 - accuracy: 0.7894 - val_loss: 1.0907 - val_accuracy: 0.7440\n",
      "Epoch 75/100\n",
      "113/113 [==============================] - 6s 49ms/step - loss: 0.8776 - accuracy: 0.7882 - val_loss: 1.0776 - val_accuracy: 0.7496\n",
      "Epoch 76/100\n",
      "113/113 [==============================] - 5s 48ms/step - loss: 0.8759 - accuracy: 0.7880 - val_loss: 1.0707 - val_accuracy: 0.7496\n",
      "Epoch 77/100\n",
      "113/113 [==============================] - 5s 48ms/step - loss: 0.8718 - accuracy: 0.7901 - val_loss: 1.0678 - val_accuracy: 0.7524\n",
      "Epoch 78/100\n",
      "113/113 [==============================] - 5s 48ms/step - loss: 0.8637 - accuracy: 0.7922 - val_loss: 1.0692 - val_accuracy: 0.7513\n",
      "Epoch 79/100\n",
      "113/113 [==============================] - 6s 50ms/step - loss: 0.8676 - accuracy: 0.7942 - val_loss: 1.0620 - val_accuracy: 0.7457\n",
      "Epoch 80/100\n",
      "113/113 [==============================] - 6s 49ms/step - loss: 0.8566 - accuracy: 0.7942 - val_loss: 1.0659 - val_accuracy: 0.7524\n",
      "Epoch 81/100\n",
      "113/113 [==============================] - 5s 48ms/step - loss: 0.8495 - accuracy: 0.7944 - val_loss: 1.0662 - val_accuracy: 0.7546\n",
      "Epoch 82/100\n",
      "113/113 [==============================] - 6s 49ms/step - loss: 0.8513 - accuracy: 0.7961 - val_loss: 1.0516 - val_accuracy: 0.7535\n",
      "Epoch 83/100\n",
      "113/113 [==============================] - 6s 50ms/step - loss: 0.8452 - accuracy: 0.7953 - val_loss: 1.0461 - val_accuracy: 0.7574\n",
      "Epoch 84/100\n",
      "113/113 [==============================] - 5s 47ms/step - loss: 0.8377 - accuracy: 0.7996 - val_loss: 1.0563 - val_accuracy: 0.7507\n",
      "Epoch 85/100\n",
      "113/113 [==============================] - 5s 47ms/step - loss: 0.8365 - accuracy: 0.8006 - val_loss: 1.0601 - val_accuracy: 0.7540\n",
      "Epoch 86/100\n",
      "113/113 [==============================] - 6s 50ms/step - loss: 0.8246 - accuracy: 0.8042 - val_loss: 1.0680 - val_accuracy: 0.7468\n",
      "Epoch 87/100\n",
      "113/113 [==============================] - 6s 50ms/step - loss: 0.8293 - accuracy: 0.7989 - val_loss: 1.0502 - val_accuracy: 0.7618\n"
     ]
    }
   ],
   "source": [
    "histoty = model.fit(sub_seq, y_sub, epochs = 100, batch_size = 64,\n",
    "                   validation_data = (val_seq, y_val),\n",
    "                    callbacks = [early_stopping_cb])\n"
   ]
  },
  {
   "cell_type": "code",
   "execution_count": 62,
   "id": "447d2b82",
   "metadata": {},
   "outputs": [
    {
     "ename": "ValueError",
     "evalue": "Data cardinality is ambiguous:\n  x sizes: 1797\n  y sizes: 2246\nMake sure all arrays contain the same number of samples.",
     "output_type": "error",
     "traceback": [
      "\u001b[1;31m---------------------------------------------------------------------------\u001b[0m",
      "\u001b[1;31mValueError\u001b[0m                                Traceback (most recent call last)",
      "Cell \u001b[1;32mIn[62], line 1\u001b[0m\n\u001b[1;32m----> 1\u001b[0m \u001b[43mmodel\u001b[49m\u001b[38;5;241;43m.\u001b[39;49m\u001b[43mevaluate\u001b[49m\u001b[43m(\u001b[49m\u001b[43mtest_seq\u001b[49m\u001b[43m,\u001b[49m\u001b[43m \u001b[49m\u001b[43my_test\u001b[49m\u001b[43m)\u001b[49m\n",
      "File \u001b[1;32m~\\AppData\\Roaming\\Python\\Python311\\site-packages\\keras\\src\\utils\\traceback_utils.py:70\u001b[0m, in \u001b[0;36mfilter_traceback.<locals>.error_handler\u001b[1;34m(*args, **kwargs)\u001b[0m\n\u001b[0;32m     67\u001b[0m     filtered_tb \u001b[38;5;241m=\u001b[39m _process_traceback_frames(e\u001b[38;5;241m.\u001b[39m__traceback__)\n\u001b[0;32m     68\u001b[0m     \u001b[38;5;66;03m# To get the full stack trace, call:\u001b[39;00m\n\u001b[0;32m     69\u001b[0m     \u001b[38;5;66;03m# `tf.debugging.disable_traceback_filtering()`\u001b[39;00m\n\u001b[1;32m---> 70\u001b[0m     \u001b[38;5;28;01mraise\u001b[39;00m e\u001b[38;5;241m.\u001b[39mwith_traceback(filtered_tb) \u001b[38;5;28;01mfrom\u001b[39;00m \u001b[38;5;28;01mNone\u001b[39;00m\n\u001b[0;32m     71\u001b[0m \u001b[38;5;28;01mfinally\u001b[39;00m:\n\u001b[0;32m     72\u001b[0m     \u001b[38;5;28;01mdel\u001b[39;00m filtered_tb\n",
      "File \u001b[1;32m~\\AppData\\Roaming\\Python\\Python311\\site-packages\\keras\\src\\engine\\data_adapter.py:1960\u001b[0m, in \u001b[0;36m_check_data_cardinality\u001b[1;34m(data)\u001b[0m\n\u001b[0;32m   1953\u001b[0m     msg \u001b[38;5;241m+\u001b[39m\u001b[38;5;241m=\u001b[39m \u001b[38;5;124m\"\u001b[39m\u001b[38;5;124m  \u001b[39m\u001b[38;5;132;01m{}\u001b[39;00m\u001b[38;5;124m sizes: \u001b[39m\u001b[38;5;132;01m{}\u001b[39;00m\u001b[38;5;130;01m\\n\u001b[39;00m\u001b[38;5;124m\"\u001b[39m\u001b[38;5;241m.\u001b[39mformat(\n\u001b[0;32m   1954\u001b[0m         label,\n\u001b[0;32m   1955\u001b[0m         \u001b[38;5;124m\"\u001b[39m\u001b[38;5;124m, \u001b[39m\u001b[38;5;124m\"\u001b[39m\u001b[38;5;241m.\u001b[39mjoin(\n\u001b[0;32m   1956\u001b[0m             \u001b[38;5;28mstr\u001b[39m(i\u001b[38;5;241m.\u001b[39mshape[\u001b[38;5;241m0\u001b[39m]) \u001b[38;5;28;01mfor\u001b[39;00m i \u001b[38;5;129;01min\u001b[39;00m tf\u001b[38;5;241m.\u001b[39mnest\u001b[38;5;241m.\u001b[39mflatten(single_data)\n\u001b[0;32m   1957\u001b[0m         ),\n\u001b[0;32m   1958\u001b[0m     )\n\u001b[0;32m   1959\u001b[0m msg \u001b[38;5;241m+\u001b[39m\u001b[38;5;241m=\u001b[39m \u001b[38;5;124m\"\u001b[39m\u001b[38;5;124mMake sure all arrays contain the same number of samples.\u001b[39m\u001b[38;5;124m\"\u001b[39m\n\u001b[1;32m-> 1960\u001b[0m \u001b[38;5;28;01mraise\u001b[39;00m \u001b[38;5;167;01mValueError\u001b[39;00m(msg)\n",
      "\u001b[1;31mValueError\u001b[0m: Data cardinality is ambiguous:\n  x sizes: 1797\n  y sizes: 2246\nMake sure all arrays contain the same number of samples."
     ]
    }
   ],
   "source": [
    "model.evaluate(test_seq, y_test)"
   ]
  },
  {
   "cell_type": "code",
   "execution_count": 61,
   "id": "b29ca004",
   "metadata": {},
   "outputs": [
    {
     "data": {
      "image/png": "[encoded data removed]",
      "text/plain": [
       "<Figure size 640x480 with 1 Axes>"
      ]
     },
     "metadata": {},
     "output_type": "display_data"
    }
   ],
   "source": [
    "plt.figure()\n",
    "\n",
    "plt.plot(histoty.history[\"loss\"], label = \"train_loss\")\n",
    "plt.plot(histoty.history[\"val_loss\"], label = \"val_loss\")\n",
    "plt.plot(histoty.history[\"accuracy\"], label = \"train_acc\")\n",
    "plt.plot(histoty.history[\"val_accuracy\"], label = \"val_acc\")\n",
    "\n",
    "plt.xlabel(\"epoch\")\n",
    "plt.legend()\n",
    "plt.show()"
   ]
  },
  {
   "cell_type": "code",
   "execution_count": null,
   "id": "625d6a46",
   "metadata": {},
   "outputs": [],
   "source": []
  }
 ],
 "metadata": {
  "kernelspec": {
   "display_name": "Python 3 (ipykernel)",
   "language": "python",
   "name": "python3"
  },
  "language_info": {
   "codemirror_mode": {
    "name": "ipython",
    "version": 3
   },
   "file_extension": ".py",
   "mimetype": "text/x-python",
   "name": "python",
   "nbconvert_exporter": "python",
   "pygments_lexer": "ipython3",
   "version": "3.11.5"
  }
 },
 "nbformat": 4,
 "nbformat_minor": 5
}
