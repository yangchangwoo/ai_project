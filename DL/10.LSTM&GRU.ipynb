{
 "cells": [
  {
   "cell_type": "markdown",
   "id": "ab692fee",
   "metadata": {},
   "source": [
    "# LSTM(Long Short-Term Memory) 구조\n",
    "\n",
    "<img src = \"./image/rnn_lstm.jpg\" height = 500 width = 500>"
   ]
  },
  {
   "cell_type": "markdown",
   "id": "50f994c0",
   "metadata": {},
   "source": [
    "- 단기 기억을 오래 기억하기 위해 고안되었음"
   ]
  },
  {
   "cell_type": "markdown",
   "id": "e09f41e9",
   "metadata": {},
   "source": [
    "<img src = \"./image/lstm.png\" width = 600 height = 600>"
   ]
  },
  {
   "cell_type": "markdown",
   "id": "89765131",
   "metadata": {},
   "source": [
    "- 은닉 상태를 만드는 방법\n",
    "    - output gate layer(출력 게이트)\n",
    "        1. 입력과 이전 타임스텝의 은닉 상태를 가중치에 곱한 후에 활성화 함수를 통과시켜 다음 은닉 상태를 만듦\n",
    "            - 이 때 기본 순환층과는 달리 시그모이드 활성화 함수를 사용\n",
    "        2. tanh활성화 함수를 통과한 값과 곱해져서 은닉 상태를 만듦\n",
    "        \n",
    "- LSTM은 순환 되는 상태가 2개\n",
    "    - 은닉 상태(hidden state)\n",
    "    - 셀 상태(cell state)\n",
    "        - 다음 층으로 전달되지 않고 LSTM 셀에서 순환만 되는 값\n",
    "        \n",
    "- 셀 상태를 계산하는 과정\n",
    "    - forget gate layer(삭제 게이트)\n",
    "        - 정보를 제거하는 역할\n",
    "        1. 입력과 은닉 상태를 또 다른 가중치에 곱한 다음 시그모이드 함수를 통과\n",
    "        2. 이전 타임스텝의 셀 상태와 곱하여 새로운 셀 상태를 만듦\n",
    "            - 이 셀 상태가 오른쪽에서 tanh 함수를 통과하여 새로운 은닉 상태를 만드는 데 기여\n",
    "        \n",
    "    - input gate layer(입력 게이트)\n",
    "        - 새로운 정보를 셀 상태에 추가\n",
    "        1. 입력값과 은닉 상태를 각기 다른 가중치에 곱함\n",
    "        2. 하나는 시그모이드 함수, 하나는 tanh 함수를 통과\n",
    "        3. 두 결과를 곱함\n",
    "        4. 이전 셀 상태와 더함"
   ]
  },
  {
   "cell_type": "markdown",
   "id": "1736689a",
   "metadata": {},
   "source": [
    "## 데이터 준비"
   ]
  },
  {
   "cell_type": "code",
   "execution_count": 1,
   "id": "a0402178",
   "metadata": {},
   "outputs": [],
   "source": [
    "from tensorflow.keras.datasets import imdb\n",
    "from tensorflow.keras.preprocessing.sequence import pad_sequences\n",
    "from tensorflow import keras\n",
    "from sklearn.model_selection import train_test_split\n",
    "import matplotlib.pyplot as plt"
   ]
  },
  {
   "cell_type": "code",
   "execution_count": 2,
   "id": "5a4b114e",
   "metadata": {},
   "outputs": [],
   "source": [
    "# 데이터 로드\n",
    "(x_train, y_train), (x_test, y_test) = imdb.load_data(num_words = 500)"
   ]
  },
  {
   "cell_type": "code",
   "execution_count": 3,
   "id": "d93573e7",
   "metadata": {},
   "outputs": [],
   "source": [
    "# 훈련 세트와 검증 세트로 나누기\n",
    "x_train, x_val, y_train, y_val = train_test_split(x_train, y_train, test_size = 0.2,\n",
    "                                                  stratify = y_train,\n",
    "                                                  random_state = 5)"
   ]
  },
  {
   "cell_type": "code",
   "execution_count": 4,
   "id": "7846ffa6",
   "metadata": {},
   "outputs": [],
   "source": [
    "# 패딩\n",
    "train_seq = pad_sequences(x_train, maxlen = 100)\n",
    "val_seq = pad_sequences(x_val, maxlen = 100)"
   ]
  },
  {
   "cell_type": "code",
   "execution_count": 5,
   "id": "4590f9bb",
   "metadata": {},
   "outputs": [],
   "source": [
    "# LSTM 모델 생성\n",
    "model = keras.Sequential()\n",
    "model.add(keras.layers.Embedding(500,16, input_length = 100))\n",
    "model.add(keras.layers.LSTM(8))\n",
    "model.add(keras.layers.Dense(1, activation = \"sigmoid\"))"
   ]
  },
  {
   "cell_type": "code",
   "execution_count": 6,
   "id": "febdf35b",
   "metadata": {},
   "outputs": [
    {
     "name": "stdout",
     "output_type": "stream",
     "text": [
      "Model: \"sequential\"\n",
      "_________________________________________________________________\n",
      " Layer (type)                Output Shape              Param #   \n",
      "=================================================================\n",
      " embedding (Embedding)       (None, 100, 16)           8000      \n",
      "                                                                 \n",
      " lstm (LSTM)                 (None, 8)                 800       \n",
      "                                                                 \n",
      " dense (Dense)               (None, 1)                 9         \n",
      "                                                                 \n",
      "=================================================================\n",
      "Total params: 8809 (34.41 KB)\n",
      "Trainable params: 8809 (34.41 KB)\n",
      "Non-trainable params: 0 (0.00 Byte)\n",
      "_________________________________________________________________\n"
     ]
    }
   ],
   "source": [
    "model.summary()"
   ]
  },
  {
   "cell_type": "markdown",
   "id": "5573ce06",
   "metadata": {},
   "source": [
    "- LSTM 셀 파라미터 개수\n",
    "    - ((8 * 8) + (16 * 8) + 8) * 4 = 800"
   ]
  },
  {
   "cell_type": "code",
   "execution_count": 7,
   "id": "f108e53c",
   "metadata": {},
   "outputs": [
    {
     "data": {
      "text/plain": [
       "800"
      ]
     },
     "execution_count": 7,
     "metadata": {},
     "output_type": "execute_result"
    }
   ],
   "source": [
    "((8 * 8) + (16 * 8) + 8) * 4"
   ]
  },
  {
   "cell_type": "code",
   "execution_count": 9,
   "id": "b638dd2b",
   "metadata": {},
   "outputs": [],
   "source": [
    "rmsprop =  keras.optimizers.RMSprop(learning_rate = 1e-4)\n",
    "model.compile(optimizer = rmsprop , loss = \"binary_crossentropy\", metrics = [\"accuracy\"])"
   ]
  },
  {
   "cell_type": "code",
   "execution_count": 13,
   "id": "fc7dd7e3",
   "metadata": {},
   "outputs": [],
   "source": [
    "checkpoint_cb = keras.callbacks.ModelCheckpoint(\"./model/best-ltsm-model.h5\",\n",
    "                                               save_best_only= True)\n",
    "early_stopping_cb=keras.callbacks.EarlyStopping(patience = 3, restore_best_weights =True)"
   ]
  },
  {
   "cell_type": "code",
   "execution_count": 14,
   "id": "67def41e",
   "metadata": {},
   "outputs": [
    {
     "name": "stdout",
     "output_type": "stream",
     "text": [
      "Epoch 1/100\n",
      "313/313 [==============================] - 17s 44ms/step - loss: 0.6926 - accuracy: 0.5521 - val_loss: 0.6918 - val_accuracy: 0.5996\n",
      "Epoch 2/100\n",
      "  3/313 [..............................] - ETA: 10s - loss: 0.6917 - accuracy: 0.6406"
     ]
    },
    {
     "name": "stderr",
     "output_type": "stream",
     "text": [
      "C:\\Users\\양창우\\AppData\\Roaming\\Python\\Python311\\site-packages\\keras\\src\\engine\\training.py:3079: UserWarning: You are saving your model as an HDF5 file via `model.save()`. This file format is considered legacy. We recommend using instead the native Keras format, e.g. `model.save('my_model.keras')`.\n",
      "  saving_api.save_model(\n"
     ]
    },
    {
     "name": "stdout",
     "output_type": "stream",
     "text": [
      "313/313 [==============================] - 13s 43ms/step - loss: 0.6906 - accuracy: 0.5807 - val_loss: 0.6887 - val_accuracy: 0.6410\n",
      "Epoch 3/100\n",
      "313/313 [==============================] - 14s 43ms/step - loss: 0.6836 - accuracy: 0.6398 - val_loss: 0.6746 - val_accuracy: 0.6488\n",
      "Epoch 4/100\n",
      "313/313 [==============================] - 14s 44ms/step - loss: 0.6415 - accuracy: 0.6848 - val_loss: 0.6123 - val_accuracy: 0.7034\n",
      "Epoch 5/100\n",
      "313/313 [==============================] - 13s 43ms/step - loss: 0.5988 - accuracy: 0.7119 - val_loss: 0.5899 - val_accuracy: 0.7258\n",
      "Epoch 6/100\n",
      "313/313 [==============================] - 13s 43ms/step - loss: 0.5765 - accuracy: 0.7348 - val_loss: 0.5720 - val_accuracy: 0.7384\n",
      "Epoch 7/100\n",
      "313/313 [==============================] - 13s 43ms/step - loss: 0.5586 - accuracy: 0.7485 - val_loss: 0.5553 - val_accuracy: 0.7462\n",
      "Epoch 8/100\n",
      "313/313 [==============================] - 14s 45ms/step - loss: 0.5429 - accuracy: 0.7598 - val_loss: 0.5426 - val_accuracy: 0.7554\n",
      "Epoch 9/100\n",
      "313/313 [==============================] - 13s 42ms/step - loss: 0.5281 - accuracy: 0.7700 - val_loss: 0.5292 - val_accuracy: 0.7586\n",
      "Epoch 10/100\n",
      "313/313 [==============================] - 13s 41ms/step - loss: 0.5142 - accuracy: 0.7756 - val_loss: 0.5166 - val_accuracy: 0.7662\n",
      "Epoch 11/100\n",
      "313/313 [==============================] - 14s 45ms/step - loss: 0.5014 - accuracy: 0.7821 - val_loss: 0.5053 - val_accuracy: 0.7686\n",
      "Epoch 12/100\n",
      "313/313 [==============================] - 14s 46ms/step - loss: 0.4886 - accuracy: 0.7868 - val_loss: 0.4947 - val_accuracy: 0.7722\n",
      "Epoch 13/100\n",
      "313/313 [==============================] - 14s 44ms/step - loss: 0.4779 - accuracy: 0.7913 - val_loss: 0.4852 - val_accuracy: 0.7742\n",
      "Epoch 14/100\n",
      "313/313 [==============================] - 14s 43ms/step - loss: 0.4678 - accuracy: 0.7957 - val_loss: 0.4772 - val_accuracy: 0.7770\n",
      "Epoch 15/100\n",
      "313/313 [==============================] - 14s 44ms/step - loss: 0.4592 - accuracy: 0.7976 - val_loss: 0.4719 - val_accuracy: 0.7802\n",
      "Epoch 16/100\n",
      "313/313 [==============================] - 14s 44ms/step - loss: 0.4520 - accuracy: 0.8012 - val_loss: 0.4627 - val_accuracy: 0.7914\n",
      "Epoch 17/100\n",
      "313/313 [==============================] - 13s 43ms/step - loss: 0.4458 - accuracy: 0.8034 - val_loss: 0.4593 - val_accuracy: 0.7916\n",
      "Epoch 18/100\n",
      "313/313 [==============================] - 13s 43ms/step - loss: 0.4409 - accuracy: 0.8063 - val_loss: 0.4582 - val_accuracy: 0.7888\n",
      "Epoch 19/100\n",
      "313/313 [==============================] - 13s 42ms/step - loss: 0.4363 - accuracy: 0.8070 - val_loss: 0.4526 - val_accuracy: 0.7980\n",
      "Epoch 20/100\n",
      "313/313 [==============================] - 13s 43ms/step - loss: 0.4328 - accuracy: 0.8072 - val_loss: 0.4516 - val_accuracy: 0.7980\n",
      "Epoch 21/100\n",
      "313/313 [==============================] - 13s 42ms/step - loss: 0.4304 - accuracy: 0.8087 - val_loss: 0.4480 - val_accuracy: 0.7966\n",
      "Epoch 22/100\n",
      "313/313 [==============================] - 13s 42ms/step - loss: 0.4278 - accuracy: 0.8100 - val_loss: 0.4451 - val_accuracy: 0.7984\n",
      "Epoch 23/100\n",
      "313/313 [==============================] - 13s 43ms/step - loss: 0.4252 - accuracy: 0.8085 - val_loss: 0.4454 - val_accuracy: 0.7972\n",
      "Epoch 24/100\n",
      "313/313 [==============================] - 13s 42ms/step - loss: 0.4233 - accuracy: 0.8101 - val_loss: 0.4500 - val_accuracy: 0.7952\n",
      "Epoch 25/100\n",
      "313/313 [==============================] - 13s 42ms/step - loss: 0.4216 - accuracy: 0.8107 - val_loss: 0.4438 - val_accuracy: 0.7972\n",
      "Epoch 26/100\n",
      "313/313 [==============================] - 13s 42ms/step - loss: 0.4203 - accuracy: 0.8116 - val_loss: 0.4418 - val_accuracy: 0.7978\n",
      "Epoch 27/100\n",
      "313/313 [==============================] - 13s 43ms/step - loss: 0.4190 - accuracy: 0.8115 - val_loss: 0.4401 - val_accuracy: 0.7982\n",
      "Epoch 28/100\n",
      "313/313 [==============================] - 13s 41ms/step - loss: 0.4171 - accuracy: 0.8135 - val_loss: 0.4402 - val_accuracy: 0.7972\n",
      "Epoch 29/100\n",
      "313/313 [==============================] - 13s 40ms/step - loss: 0.4163 - accuracy: 0.8124 - val_loss: 0.4379 - val_accuracy: 0.8000\n",
      "Epoch 30/100\n",
      "313/313 [==============================] - 13s 40ms/step - loss: 0.4155 - accuracy: 0.8124 - val_loss: 0.4371 - val_accuracy: 0.8032\n",
      "Epoch 31/100\n",
      "313/313 [==============================] - 13s 41ms/step - loss: 0.4141 - accuracy: 0.8134 - val_loss: 0.4444 - val_accuracy: 0.8000\n",
      "Epoch 32/100\n",
      "313/313 [==============================] - 13s 43ms/step - loss: 0.4139 - accuracy: 0.8141 - val_loss: 0.4382 - val_accuracy: 0.8020\n",
      "Epoch 33/100\n",
      "313/313 [==============================] - 13s 42ms/step - loss: 0.4129 - accuracy: 0.8141 - val_loss: 0.4388 - val_accuracy: 0.7994\n"
     ]
    }
   ],
   "source": [
    "history = model.fit(train_seq, y_train, epochs = 100, batch_size = 64,\n",
    "                    validation_data = (val_seq, y_val),\n",
    "                    callbacks = [checkpoint_cb, early_stopping_cb])"
   ]
  },
  {
   "cell_type": "code",
   "execution_count": 60,
   "id": "30b4eae6",
   "metadata": {},
   "outputs": [
    {
     "data": {
      "image/png": "[encoded data removed]",
      "text/plain": [
       "<Figure size 640x480 with 1 Axes>"
      ]
     },
     "metadata": {},
     "output_type": "display_data"
    }
   ],
   "source": [
    "plt.figure()\n",
    "\n",
    "plt.plot(history.history[\"loss\"], label = \"train_loss\")\n",
    "plt.plot(history.history[\"val_loss\"], label = \"val_loss\")\n",
    "plt.plot(history.history[\"accuracy\"], label = \"train_acc\")\n",
    "plt.plot(history.history[\"val_accuracy\"], label = \"val_acc\")\n",
    "\n",
    "plt.xlabel(\"epoch\")\n",
    "plt.legend()\n",
    "plt.show()"
   ]
  },
  {
   "cell_type": "markdown",
   "id": "bb4a2b2e",
   "metadata": {},
   "source": [
    "# 순환층에 드롭아웃 적용\n",
    "\n",
    "- 순환층은 자체적으로 드롭아웃 기능을 제공\n",
    "    - SimpleRNN과  LSTM 클래스 모두 dropout 매개변수 recurrent_dropout 매개변수를 가지고 있음\n",
    "        - dropout : 셀의 입력에 드롭아웃을 적용\n",
    "        - recurrent_dropout : 순환되는 은닉 상태에 드롭아웃을 적용\n",
    "            - 버전에 따라 recurrent_dropout이 GPU를 사용하지 못하는 경우가 많음"
   ]
  },
  {
   "cell_type": "code",
   "execution_count": 36,
   "id": "af843f88",
   "metadata": {},
   "outputs": [],
   "source": [
    "model3 = keras.Sequential()\n",
    "model3.add(keras.layers.Embedding(500, 16, input_length=100))\n",
    "model3.add(keras.layers.LSTM(8, dropout = 0.3))\n",
    "model3.add(keras.layers.Dense(1, activation = \"sigmoid\"))"
   ]
  },
  {
   "cell_type": "code",
   "execution_count": 37,
   "id": "8ad23c7b",
   "metadata": {},
   "outputs": [],
   "source": [
    "rmsprop = keras.optimizers.RMSprop(learning_rate = 1e-4)\n",
    "model3.compile(optimizer = rmsprop, loss = \"binary_crossentropy\",\n",
    "              metrics = [\"accuracy\"])\n",
    "checkpoint_cb = keras.callbacks.ModelCheckpoint(\"./model/best-dropout-model.h5\",\n",
    "                                                save_best_only = True)\n",
    "early_stopping_cb = keras.callbacks.EarlyStopping(patience = 3,\n",
    "                                                  restore_best_weights = True)"
   ]
  },
  {
   "cell_type": "code",
   "execution_count": 59,
   "id": "5f7d1a14",
   "metadata": {},
   "outputs": [
    {
     "name": "stdout",
     "output_type": "stream",
     "text": [
      "Epoch 1/100\n",
      "313/313 [==============================] - 8s 26ms/step - loss: 0.4198 - accuracy: 0.8106 - val_loss: 0.4333 - val_accuracy: 0.8020\n",
      "Epoch 2/100\n",
      "313/313 [==============================] - 8s 24ms/step - loss: 0.4205 - accuracy: 0.8107 - val_loss: 0.4348 - val_accuracy: 0.8010\n",
      "Epoch 3/100\n",
      "313/313 [==============================] - 8s 24ms/step - loss: 0.4178 - accuracy: 0.8092 - val_loss: 0.4335 - val_accuracy: 0.8020\n",
      "Epoch 4/100\n",
      "313/313 [==============================] - 8s 24ms/step - loss: 0.4182 - accuracy: 0.8086 - val_loss: 0.4341 - val_accuracy: 0.8024\n"
     ]
    }
   ],
   "source": [
    "history = model3.fit(train_seq, y_train, epochs = 100, batch_size = 64,\n",
    "                    validation_data = (val_seq, y_val),\n",
    "                    callbacks = [checkpoint_cb, early_stopping_cb])"
   ]
  },
  {
   "cell_type": "code",
   "execution_count": 58,
   "id": "5fa9b072",
   "metadata": {},
   "outputs": [
    {
     "data": {
      "image/png": "[encoded data removed]",
      "text/plain": [
       "<Figure size 640x480 with 1 Axes>"
      ]
     },
     "metadata": {},
     "output_type": "display_data"
    }
   ],
   "source": [
    "plt.figure()\n",
    "\n",
    "plt.plot(history.history[\"loss\"], label = \"train_loss\")\n",
    "plt.plot(history.history[\"val_loss\"], label = \"val_loss\")\n",
    "plt.plot(history.history[\"accuracy\"], label = \"train_acc\")\n",
    "plt.plot(history.history[\"val_accuracy\"], label = \"val_acc\")\n",
    "\n",
    "plt.xlabel(\"epoch\")\n",
    "plt.legend()\n",
    "plt.show()"
   ]
  },
  {
   "cell_type": "markdown",
   "id": "1a76ae55",
   "metadata": {},
   "source": [
    "# 2개의 층을 연결\n",
    "\n",
    "- 순환층을 연결할 때 주의점\n",
    "    - 순환층의 은닉 상태는 샘플의 마지막 타임스텝에 대한 은닉 상태만 다음 층으로 전달\n",
    "        - 순환층을 쌓게 되면 모든 순환층에 순차 데이터가 필요함\n",
    "            - return_sequences 매개변수를 True로 지정\n",
    "            "
   ]
  },
  {
   "cell_type": "code",
   "execution_count": 39,
   "id": "567a3134",
   "metadata": {},
   "outputs": [],
   "source": [
    "model4 = keras.Sequential()\n",
    "model4.add(keras.layers.Embedding(500, 16, input_length = 100))\n",
    "model4.add(keras.layers.LSTM(8, dropout = 0.3, return_sequences = True))\n",
    "model4.add(keras.layers.LSTM(8, dropout = 0.3))\n",
    "model4.add(keras.layers.Dense(1, activation = \"sigmoid\"))"
   ]
  },
  {
   "cell_type": "code",
   "execution_count": 47,
   "id": "077dcbe0",
   "metadata": {},
   "outputs": [
    {
     "name": "stdout",
     "output_type": "stream",
     "text": [
      "Model: \"sequential_4\"\n",
      "_________________________________________________________________\n",
      " Layer (type)                Output Shape              Param #   \n",
      "=================================================================\n",
      " embedding_4 (Embedding)     (None, 100, 16)           8000      \n",
      "                                                                 \n",
      " lstm_4 (LSTM)               (None, 100, 8)            800       \n",
      "                                                                 \n",
      " lstm_5 (LSTM)               (None, 8)                 544       \n",
      "                                                                 \n",
      " dense_4 (Dense)             (None, 1)                 9         \n",
      "                                                                 \n",
      "=================================================================\n",
      "Total params: 9353 (36.54 KB)\n",
      "Trainable params: 9353 (36.54 KB)\n",
      "Non-trainable params: 0 (0.00 Byte)\n",
      "_________________________________________________________________\n"
     ]
    }
   ],
   "source": [
    "model4.summary()"
   ]
  },
  {
   "cell_type": "markdown",
   "id": "4a889471",
   "metadata": {},
   "source": [
    "- 첫 번째 LSTM\n",
    "    - 모든 타임스텝(100개)의 은닉 상태를 출력하기 때문에 출력의 크기가 (None, 100, 8)\n",
    "    - 파라미터 수\n",
    "        - ((16*8) +(8 * 8)+ 8)*4\n",
    "    \n",
    "    \n",
    "- 두번째 LSTM\n",
    "    - "
   ]
  },
  {
   "cell_type": "code",
   "execution_count": 43,
   "id": "76f19275",
   "metadata": {},
   "outputs": [
    {
     "data": {
      "text/plain": [
       "800"
      ]
     },
     "execution_count": 43,
     "metadata": {},
     "output_type": "execute_result"
    }
   ],
   "source": [
    "((16*8) +(8 * 8)+ 8)*4"
   ]
  },
  {
   "cell_type": "code",
   "execution_count": 48,
   "id": "ee931fcc",
   "metadata": {},
   "outputs": [],
   "source": [
    "rmsprop = keras.optimizers.RMSprop(learning_rate = 1e-4)\n",
    "model4.compile(optimizer = rmsprop, loss = \"binary_crossentropy\", metrics = [\"accruacy\"])\n",
    "checkpoint_cb = keras.callbacks.ModelCheckpoint(\"./model/best-2rnn-model.h5\",\n",
    "                                               save_best_only = True)"
   ]
  },
  {
   "cell_type": "code",
   "execution_count": 51,
   "id": "f89343fc",
   "metadata": {},
   "outputs": [],
   "source": [
    "rmsprop = keras.optimizers.RMSprop(learning_rate = 1e-4)\n",
    "model4.compile(optimizer = rmsprop, loss = \"binary_crossentropy\",\n",
    "              metrics = [\"accuracy\"])\n",
    "checkpoint_cb = keras.callbacks.ModelCheckpoint(\"./model/best-2rnn-model.h5\",\n",
    "                                                save_best_only = True)\n",
    "early_stopping_cb = keras.callbacks.EarlyStopping(patience = 3,\n",
    "                                                  restore_best_weights = True)"
   ]
  },
  {
   "cell_type": "code",
   "execution_count": 52,
   "id": "f4f56f8e",
   "metadata": {},
   "outputs": [
    {
     "name": "stdout",
     "output_type": "stream",
     "text": [
      "Epoch 1/100\n",
      "313/313 [==============================] - 19s 50ms/step - loss: 0.6931 - accuracy: 0.5090 - val_loss: 0.6928 - val_accuracy: 0.5264\n",
      "Epoch 2/100\n",
      "313/313 [==============================] - 15s 47ms/step - loss: 0.6924 - accuracy: 0.5417 - val_loss: 0.6919 - val_accuracy: 0.5636\n",
      "Epoch 3/100\n",
      "313/313 [==============================] - 15s 48ms/step - loss: 0.6910 - accuracy: 0.5726 - val_loss: 0.6897 - val_accuracy: 0.5934\n",
      "Epoch 4/100\n",
      "313/313 [==============================] - 15s 47ms/step - loss: 0.6858 - accuracy: 0.6113 - val_loss: 0.6802 - val_accuracy: 0.6260\n",
      "Epoch 5/100\n",
      "313/313 [==============================] - 14s 46ms/step - loss: 0.6556 - accuracy: 0.6501 - val_loss: 0.6238 - val_accuracy: 0.6778\n",
      "Epoch 6/100\n",
      "313/313 [==============================] - 15s 48ms/step - loss: 0.6007 - accuracy: 0.6945 - val_loss: 0.5840 - val_accuracy: 0.7122\n",
      "Epoch 7/100\n",
      "313/313 [==============================] - 14s 46ms/step - loss: 0.5671 - accuracy: 0.7204 - val_loss: 0.5512 - val_accuracy: 0.7388\n",
      "Epoch 8/100\n",
      "313/313 [==============================] - 15s 48ms/step - loss: 0.5376 - accuracy: 0.7408 - val_loss: 0.5265 - val_accuracy: 0.7516\n",
      "Epoch 9/100\n",
      "313/313 [==============================] - 15s 48ms/step - loss: 0.5185 - accuracy: 0.7543 - val_loss: 0.5120 - val_accuracy: 0.7556\n",
      "Epoch 10/100\n",
      "313/313 [==============================] - 15s 46ms/step - loss: 0.5041 - accuracy: 0.7624 - val_loss: 0.5005 - val_accuracy: 0.7644\n",
      "Epoch 11/100\n",
      "313/313 [==============================] - 15s 47ms/step - loss: 0.4939 - accuracy: 0.7690 - val_loss: 0.4925 - val_accuracy: 0.7672\n",
      "Epoch 12/100\n",
      "313/313 [==============================] - 14s 46ms/step - loss: 0.4851 - accuracy: 0.7743 - val_loss: 0.4879 - val_accuracy: 0.7698\n",
      "Epoch 13/100\n",
      "313/313 [==============================] - 14s 46ms/step - loss: 0.4791 - accuracy: 0.7797 - val_loss: 0.4820 - val_accuracy: 0.7734\n",
      "Epoch 14/100\n",
      "313/313 [==============================] - 15s 47ms/step - loss: 0.4745 - accuracy: 0.7818 - val_loss: 0.4781 - val_accuracy: 0.7748\n",
      "Epoch 15/100\n",
      "313/313 [==============================] - 15s 47ms/step - loss: 0.4684 - accuracy: 0.7836 - val_loss: 0.4739 - val_accuracy: 0.7764\n",
      "Epoch 16/100\n",
      "313/313 [==============================] - 14s 45ms/step - loss: 0.4643 - accuracy: 0.7861 - val_loss: 0.4713 - val_accuracy: 0.7824\n",
      "Epoch 17/100\n",
      "313/313 [==============================] - 14s 46ms/step - loss: 0.4612 - accuracy: 0.7885 - val_loss: 0.4702 - val_accuracy: 0.7844\n",
      "Epoch 18/100\n",
      "313/313 [==============================] - 14s 46ms/step - loss: 0.4569 - accuracy: 0.7897 - val_loss: 0.4654 - val_accuracy: 0.7822\n",
      "Epoch 19/100\n",
      "313/313 [==============================] - 14s 45ms/step - loss: 0.4542 - accuracy: 0.7908 - val_loss: 0.4634 - val_accuracy: 0.7852\n",
      "Epoch 20/100\n",
      "313/313 [==============================] - 14s 46ms/step - loss: 0.4555 - accuracy: 0.7890 - val_loss: 0.4605 - val_accuracy: 0.7896\n",
      "Epoch 21/100\n",
      "313/313 [==============================] - 14s 45ms/step - loss: 0.4490 - accuracy: 0.7933 - val_loss: 0.4585 - val_accuracy: 0.7884\n",
      "Epoch 22/100\n",
      "313/313 [==============================] - 14s 46ms/step - loss: 0.4468 - accuracy: 0.7959 - val_loss: 0.4556 - val_accuracy: 0.7924\n",
      "Epoch 23/100\n",
      "313/313 [==============================] - 14s 46ms/step - loss: 0.4437 - accuracy: 0.7947 - val_loss: 0.4532 - val_accuracy: 0.7902\n",
      "Epoch 24/100\n",
      "313/313 [==============================] - 15s 47ms/step - loss: 0.4409 - accuracy: 0.7990 - val_loss: 0.4544 - val_accuracy: 0.7912\n",
      "Epoch 25/100\n",
      "313/313 [==============================] - 15s 47ms/step - loss: 0.4386 - accuracy: 0.8008 - val_loss: 0.4507 - val_accuracy: 0.7914\n",
      "Epoch 26/100\n",
      "313/313 [==============================] - 15s 47ms/step - loss: 0.4376 - accuracy: 0.7985 - val_loss: 0.4483 - val_accuracy: 0.7944\n",
      "Epoch 27/100\n",
      "313/313 [==============================] - 15s 47ms/step - loss: 0.4388 - accuracy: 0.7968 - val_loss: 0.4478 - val_accuracy: 0.7956\n",
      "Epoch 28/100\n",
      "313/313 [==============================] - 14s 46ms/step - loss: 0.4357 - accuracy: 0.7987 - val_loss: 0.4474 - val_accuracy: 0.7960\n",
      "Epoch 29/100\n",
      "313/313 [==============================] - 14s 46ms/step - loss: 0.4350 - accuracy: 0.7991 - val_loss: 0.4507 - val_accuracy: 0.7932\n",
      "Epoch 30/100\n",
      "313/313 [==============================] - 14s 46ms/step - loss: 0.4346 - accuracy: 0.7995 - val_loss: 0.4462 - val_accuracy: 0.7966\n",
      "Epoch 31/100\n",
      "313/313 [==============================] - 14s 45ms/step - loss: 0.4339 - accuracy: 0.7969 - val_loss: 0.4437 - val_accuracy: 0.7968\n",
      "Epoch 32/100\n",
      "313/313 [==============================] - 14s 45ms/step - loss: 0.4320 - accuracy: 0.8012 - val_loss: 0.4467 - val_accuracy: 0.7966\n",
      "Epoch 33/100\n",
      "313/313 [==============================] - 14s 45ms/step - loss: 0.4295 - accuracy: 0.8000 - val_loss: 0.4448 - val_accuracy: 0.7996\n",
      "Epoch 34/100\n",
      "313/313 [==============================] - 14s 46ms/step - loss: 0.4297 - accuracy: 0.8020 - val_loss: 0.4406 - val_accuracy: 0.7990\n",
      "Epoch 35/100\n",
      "313/313 [==============================] - 14s 46ms/step - loss: 0.4287 - accuracy: 0.8020 - val_loss: 0.4413 - val_accuracy: 0.7996\n",
      "Epoch 36/100\n",
      "313/313 [==============================] - 15s 47ms/step - loss: 0.4277 - accuracy: 0.8030 - val_loss: 0.4401 - val_accuracy: 0.7978\n",
      "Epoch 37/100\n",
      "313/313 [==============================] - 14s 46ms/step - loss: 0.4268 - accuracy: 0.8051 - val_loss: 0.4388 - val_accuracy: 0.8000\n",
      "Epoch 38/100\n",
      "313/313 [==============================] - 14s 46ms/step - loss: 0.4277 - accuracy: 0.8030 - val_loss: 0.4377 - val_accuracy: 0.7976\n",
      "Epoch 39/100\n",
      "313/313 [==============================] - 14s 46ms/step - loss: 0.4260 - accuracy: 0.8049 - val_loss: 0.4377 - val_accuracy: 0.7976\n",
      "Epoch 40/100\n",
      "313/313 [==============================] - 14s 46ms/step - loss: 0.4252 - accuracy: 0.8053 - val_loss: 0.4367 - val_accuracy: 0.7998\n",
      "Epoch 41/100\n",
      "313/313 [==============================] - 14s 46ms/step - loss: 0.4241 - accuracy: 0.8062 - val_loss: 0.4397 - val_accuracy: 0.8002\n",
      "Epoch 42/100\n",
      "313/313 [==============================] - 15s 47ms/step - loss: 0.4211 - accuracy: 0.8069 - val_loss: 0.4360 - val_accuracy: 0.8010\n",
      "Epoch 43/100\n",
      "313/313 [==============================] - 14s 46ms/step - loss: 0.4221 - accuracy: 0.8039 - val_loss: 0.4377 - val_accuracy: 0.8014\n",
      "Epoch 44/100\n",
      "313/313 [==============================] - 15s 46ms/step - loss: 0.4214 - accuracy: 0.8042 - val_loss: 0.4344 - val_accuracy: 0.8000\n",
      "Epoch 45/100\n",
      "313/313 [==============================] - 14s 45ms/step - loss: 0.4204 - accuracy: 0.8076 - val_loss: 0.4363 - val_accuracy: 0.7986\n",
      "Epoch 46/100\n",
      "313/313 [==============================] - 14s 46ms/step - loss: 0.4224 - accuracy: 0.8029 - val_loss: 0.4373 - val_accuracy: 0.8002\n",
      "Epoch 47/100\n",
      "313/313 [==============================] - 15s 47ms/step - loss: 0.4194 - accuracy: 0.8074 - val_loss: 0.4336 - val_accuracy: 0.8008\n",
      "Epoch 48/100\n",
      "313/313 [==============================] - 15s 47ms/step - loss: 0.4179 - accuracy: 0.8091 - val_loss: 0.4327 - val_accuracy: 0.8010\n",
      "Epoch 49/100\n",
      "313/313 [==============================] - 14s 46ms/step - loss: 0.4197 - accuracy: 0.8072 - val_loss: 0.4350 - val_accuracy: 0.7990\n",
      "Epoch 50/100\n",
      "313/313 [==============================] - 15s 46ms/step - loss: 0.4168 - accuracy: 0.8083 - val_loss: 0.4360 - val_accuracy: 0.7988\n",
      "Epoch 51/100\n",
      "313/313 [==============================] - 14s 46ms/step - loss: 0.4170 - accuracy: 0.8073 - val_loss: 0.4341 - val_accuracy: 0.8006\n"
     ]
    }
   ],
   "source": [
    "history = model4.fit(train_seq, y_train, epochs = 100, batch_size = 64,\n",
    "                    validation_data = (val_seq, y_val),\n",
    "                    callbacks = [checkpoint_cb, early_stopping_cb])"
   ]
  },
  {
   "cell_type": "code",
   "execution_count": 53,
   "id": "cf0040bb",
   "metadata": {},
   "outputs": [
    {
     "data": {
      "image/png": "[encoded data removed]",
      "text/plain": [
       "<Figure size 640x480 with 1 Axes>"
      ]
     },
     "metadata": {},
     "output_type": "display_data"
    }
   ],
   "source": [
    "plt.figure()\n",
    "\n",
    "plt.plot(history.history[\"loss\"], label = \"train_loss\")\n",
    "plt.plot(history.history[\"val_loss\"], label = \"val_loss\")\n",
    "plt.plot(history.history[\"accuracy\"], label = \"train_acc\")\n",
    "plt.plot(history.history[\"val_accuracy\"], label = \"val_acc\")\n",
    "\n",
    "plt.xlabel(\"epoch\")\n",
    "plt.legend()\n",
    "plt.show()"
   ]
  },
  {
   "cell_type": "markdown",
   "id": "db18bbea",
   "metadata": {},
   "source": [
    "# GRU(Grated Recurrent Unit) 구조\n",
    "\n",
    "<img src = \"./image/rnn_lstm_gru.png\">"
   ]
  },
  {
   "cell_type": "markdown",
   "id": "d6945265",
   "metadata": {},
   "source": [
    "- LSTM을 간소화한 버전\n",
    "- LSTM처럼 셀 상태를 계산하지 않고 은닉 상태 하나만 포함\n",
    "- LSTM보다 가중치가 적기 때문에 계산량이 적지만 성능은 LSTM과 유사함\n",
    "- LSTM보다 가중치가 적기 때문에 계산량이 적지만 성은은 LSTM과 유사함\n",
    "    - 데이터 양이 적을 때는 GRU의 성능이 더 좋고 데이터 양이 많을 때는 LSTM의 성능이 더 좋아지는 경향이 있음\n",
    "    - GRU와 LSTM 중 어떤 것이 더 낫다라고 말할 수는 없음"
   ]
  },
  {
   "cell_type": "markdown",
   "id": "9d003326",
   "metadata": {},
   "source": [
    "<img src = \"./image/gru.png\" width=500 height=500>"
   ]
  },
  {
   "cell_type": "markdown",
   "id": "a7874efa",
   "metadata": {},
   "source": [
    "- GRU 셀에는 은닉 상태와 입력에 가중치를 곱하고 절편을 더하는 작은 셀 3개가 들어 있음\n",
    "    - 2개는 시그모이드 활성화 함수를 사용하고 하나는 tanh 활성화 함수를 사용\n",
    "    \n",
    "    \n",
    "- reset_gate \n",
    "    - 셀의 출력이 은닉 상태에 바로 곱해져 삭제 게이트 역할을 수행\n",
    "    \n",
    "- update_gate\n",
    "    - 어떤 정보를 얼마만큼 유지하고 어떤 정보를 추가할지 결정하는 역할"
   ]
  },
  {
   "cell_type": "code",
   "execution_count": 54,
   "id": "7a926839",
   "metadata": {},
   "outputs": [],
   "source": [
    "model5 = keras.Sequential()\n",
    "model5.add(keras.layers.Embedding(500,16, input_length = 100))\n",
    "model5.add(keras.layers.GRU(8))\n",
    "model5.add(keras.layers.Dense(1, activation =\"sigmoid\"))"
   ]
  },
  {
   "cell_type": "code",
   "execution_count": 55,
   "id": "d3e60052",
   "metadata": {},
   "outputs": [
    {
     "name": "stdout",
     "output_type": "stream",
     "text": [
      "Model: \"sequential_5\"\n",
      "_________________________________________________________________\n",
      " Layer (type)                Output Shape              Param #   \n",
      "=================================================================\n",
      " embedding_5 (Embedding)     (None, 100, 16)           8000      \n",
      "                                                                 \n",
      " gru (GRU)                   (None, 8)                 624       \n",
      "                                                                 \n",
      " dense_5 (Dense)             (None, 1)                 9         \n",
      "                                                                 \n",
      "=================================================================\n",
      "Total params: 8633 (33.72 KB)\n",
      "Trainable params: 8633 (33.72 KB)\n",
      "Non-trainable params: 0 (0.00 Byte)\n",
      "_________________________________________________________________\n"
     ]
    }
   ],
   "source": [
    "model5.summary()"
   ]
  },
  {
   "cell_type": "markdown",
   "id": "13997742",
   "metadata": {},
   "source": [
    "- GRU 파라미터 수\n",
    "    - ((16 * 8)+ (8 * 8)+8 +(유닛수= 8)) * 3"
   ]
  },
  {
   "cell_type": "code",
   "execution_count": 57,
   "id": "77f16ba6",
   "metadata": {},
   "outputs": [
    {
     "data": {
      "text/plain": [
       "624"
      ]
     },
     "execution_count": 57,
     "metadata": {},
     "output_type": "execute_result"
    }
   ],
   "source": [
    " ((16 * 8)+ (8 * 8)+8 + 8) * 3"
   ]
  },
  {
   "cell_type": "code",
   "execution_count": 64,
   "id": "347dbd0a",
   "metadata": {},
   "outputs": [],
   "source": [
    "\n",
    "rmsprop = keras.optimizers.RMSprop(learning_rate = 1e-4)\n",
    "model5.compile(optimizer = rmsprop, loss = \"binary_crossentropy\", metrics = [\"accuracy\"])\n",
    "checkpoint_cb = keras.callbacks.ModelCheckpoint(\"./model/best-gru-model.h5\",\n",
    "                                               save_best_only = True)\n",
    "early_stopping_cb = keras.callbacks.EarlyStopping(patience = 3,\n",
    "                                                  restore_best_weights = True)"
   ]
  },
  {
   "cell_type": "code",
   "execution_count": 65,
   "id": "c40d64a7",
   "metadata": {},
   "outputs": [
    {
     "name": "stdout",
     "output_type": "stream",
     "text": [
      "Epoch 1/100\n",
      "313/313 [==============================] - 10s 27ms/step - loss: 0.6923 - accuracy: 0.5304 - val_loss: 0.6912 - val_accuracy: 0.5572\n",
      "Epoch 2/100\n",
      "313/313 [==============================] - 8s 24ms/step - loss: 0.6906 - accuracy: 0.5622 - val_loss: 0.6892 - val_accuracy: 0.5842\n",
      "Epoch 3/100\n",
      "313/313 [==============================] - 8s 26ms/step - loss: 0.6881 - accuracy: 0.5768 - val_loss: 0.6862 - val_accuracy: 0.5994\n",
      "Epoch 4/100\n",
      "313/313 [==============================] - 8s 25ms/step - loss: 0.6844 - accuracy: 0.5942 - val_loss: 0.6815 - val_accuracy: 0.6104\n",
      "Epoch 5/100\n",
      "313/313 [==============================] - 8s 25ms/step - loss: 0.6785 - accuracy: 0.6049 - val_loss: 0.6742 - val_accuracy: 0.6230\n",
      "Epoch 6/100\n",
      "313/313 [==============================] - 8s 24ms/step - loss: 0.6692 - accuracy: 0.6221 - val_loss: 0.6625 - val_accuracy: 0.6306\n",
      "Epoch 7/100\n",
      "313/313 [==============================] - 8s 25ms/step - loss: 0.6542 - accuracy: 0.6391 - val_loss: 0.6438 - val_accuracy: 0.6546\n",
      "Epoch 8/100\n",
      "313/313 [==============================] - 8s 26ms/step - loss: 0.6289 - accuracy: 0.6651 - val_loss: 0.6111 - val_accuracy: 0.6846\n",
      "Epoch 9/100\n",
      "313/313 [==============================] - 8s 25ms/step - loss: 0.5790 - accuracy: 0.7042 - val_loss: 0.5432 - val_accuracy: 0.7316\n",
      "Epoch 10/100\n",
      "313/313 [==============================] - 8s 25ms/step - loss: 0.5132 - accuracy: 0.7485 - val_loss: 0.5029 - val_accuracy: 0.7556\n",
      "Epoch 11/100\n",
      "313/313 [==============================] - 8s 25ms/step - loss: 0.4877 - accuracy: 0.7671 - val_loss: 0.4873 - val_accuracy: 0.7686\n",
      "Epoch 12/100\n",
      "313/313 [==============================] - 8s 24ms/step - loss: 0.4717 - accuracy: 0.7786 - val_loss: 0.4751 - val_accuracy: 0.7756\n",
      "Epoch 13/100\n",
      "313/313 [==============================] - 8s 24ms/step - loss: 0.4595 - accuracy: 0.7853 - val_loss: 0.4668 - val_accuracy: 0.7794\n",
      "Epoch 14/100\n",
      "313/313 [==============================] - 7s 24ms/step - loss: 0.4501 - accuracy: 0.7927 - val_loss: 0.4607 - val_accuracy: 0.7836\n",
      "Epoch 15/100\n",
      "313/313 [==============================] - 8s 26ms/step - loss: 0.4424 - accuracy: 0.7971 - val_loss: 0.4562 - val_accuracy: 0.7904\n",
      "Epoch 16/100\n",
      "313/313 [==============================] - 8s 24ms/step - loss: 0.4375 - accuracy: 0.8012 - val_loss: 0.4520 - val_accuracy: 0.7920\n",
      "Epoch 17/100\n",
      "313/313 [==============================] - 8s 24ms/step - loss: 0.4327 - accuracy: 0.8041 - val_loss: 0.4512 - val_accuracy: 0.7926\n",
      "Epoch 18/100\n",
      "313/313 [==============================] - 7s 23ms/step - loss: 0.4294 - accuracy: 0.8078 - val_loss: 0.4491 - val_accuracy: 0.7962\n",
      "Epoch 19/100\n",
      "313/313 [==============================] - 8s 25ms/step - loss: 0.4266 - accuracy: 0.8081 - val_loss: 0.4447 - val_accuracy: 0.7956\n",
      "Epoch 20/100\n",
      "313/313 [==============================] - 8s 26ms/step - loss: 0.4241 - accuracy: 0.8099 - val_loss: 0.4487 - val_accuracy: 0.7952\n",
      "Epoch 21/100\n",
      "313/313 [==============================] - 8s 24ms/step - loss: 0.4225 - accuracy: 0.8105 - val_loss: 0.4461 - val_accuracy: 0.7942\n",
      "Epoch 22/100\n",
      "313/313 [==============================] - 8s 24ms/step - loss: 0.4210 - accuracy: 0.8109 - val_loss: 0.4446 - val_accuracy: 0.7930\n",
      "Epoch 23/100\n",
      "313/313 [==============================] - 8s 25ms/step - loss: 0.4194 - accuracy: 0.8113 - val_loss: 0.4424 - val_accuracy: 0.7960\n",
      "Epoch 24/100\n",
      "313/313 [==============================] - 8s 24ms/step - loss: 0.4181 - accuracy: 0.8122 - val_loss: 0.4412 - val_accuracy: 0.8026\n",
      "Epoch 25/100\n",
      "313/313 [==============================] - 8s 25ms/step - loss: 0.4169 - accuracy: 0.8120 - val_loss: 0.4403 - val_accuracy: 0.8020\n",
      "Epoch 26/100\n",
      "313/313 [==============================] - 8s 25ms/step - loss: 0.4159 - accuracy: 0.8137 - val_loss: 0.4395 - val_accuracy: 0.7986\n",
      "Epoch 27/100\n",
      "313/313 [==============================] - 8s 25ms/step - loss: 0.4155 - accuracy: 0.8129 - val_loss: 0.4387 - val_accuracy: 0.8010\n",
      "Epoch 28/100\n",
      "313/313 [==============================] - 8s 24ms/step - loss: 0.4150 - accuracy: 0.8127 - val_loss: 0.4395 - val_accuracy: 0.8058\n",
      "Epoch 29/100\n",
      "313/313 [==============================] - 8s 24ms/step - loss: 0.4141 - accuracy: 0.8128 - val_loss: 0.4393 - val_accuracy: 0.7992\n",
      "Epoch 30/100\n",
      "313/313 [==============================] - 9s 27ms/step - loss: 0.4133 - accuracy: 0.8134 - val_loss: 0.4362 - val_accuracy: 0.8026\n",
      "Epoch 31/100\n",
      "313/313 [==============================] - 8s 24ms/step - loss: 0.4132 - accuracy: 0.8154 - val_loss: 0.4361 - val_accuracy: 0.8024\n",
      "Epoch 32/100\n",
      "313/313 [==============================] - 8s 25ms/step - loss: 0.4128 - accuracy: 0.8141 - val_loss: 0.4408 - val_accuracy: 0.7990\n",
      "Epoch 33/100\n",
      "313/313 [==============================] - 8s 25ms/step - loss: 0.4121 - accuracy: 0.8145 - val_loss: 0.4398 - val_accuracy: 0.7998\n",
      "Epoch 34/100\n",
      "313/313 [==============================] - 8s 24ms/step - loss: 0.4121 - accuracy: 0.8143 - val_loss: 0.4361 - val_accuracy: 0.8026\n",
      "Epoch 35/100\n",
      "313/313 [==============================] - 8s 24ms/step - loss: 0.4114 - accuracy: 0.8158 - val_loss: 0.4353 - val_accuracy: 0.8070\n",
      "Epoch 36/100\n",
      "313/313 [==============================] - 8s 24ms/step - loss: 0.4115 - accuracy: 0.8149 - val_loss: 0.4364 - val_accuracy: 0.8060\n",
      "Epoch 37/100\n",
      "313/313 [==============================] - 8s 24ms/step - loss: 0.4109 - accuracy: 0.8148 - val_loss: 0.4354 - val_accuracy: 0.8060\n",
      "Epoch 38/100\n",
      "313/313 [==============================] - 8s 25ms/step - loss: 0.4106 - accuracy: 0.8152 - val_loss: 0.4338 - val_accuracy: 0.8048\n",
      "Epoch 39/100\n",
      "313/313 [==============================] - 8s 25ms/step - loss: 0.4099 - accuracy: 0.8159 - val_loss: 0.4395 - val_accuracy: 0.8000\n",
      "Epoch 40/100\n",
      "313/313 [==============================] - 8s 26ms/step - loss: 0.4098 - accuracy: 0.8148 - val_loss: 0.4367 - val_accuracy: 0.8022\n",
      "Epoch 41/100\n",
      "313/313 [==============================] - 8s 26ms/step - loss: 0.4096 - accuracy: 0.8152 - val_loss: 0.4336 - val_accuracy: 0.8052\n",
      "Epoch 42/100\n",
      "313/313 [==============================] - 8s 25ms/step - loss: 0.4090 - accuracy: 0.8151 - val_loss: 0.4356 - val_accuracy: 0.8050\n",
      "Epoch 43/100\n",
      "313/313 [==============================] - 8s 24ms/step - loss: 0.4084 - accuracy: 0.8148 - val_loss: 0.4324 - val_accuracy: 0.8062\n",
      "Epoch 44/100\n",
      "313/313 [==============================] - 8s 24ms/step - loss: 0.4088 - accuracy: 0.8163 - val_loss: 0.4347 - val_accuracy: 0.8034\n",
      "Epoch 45/100\n",
      "313/313 [==============================] - 7s 24ms/step - loss: 0.4084 - accuracy: 0.8156 - val_loss: 0.4336 - val_accuracy: 0.8054\n",
      "Epoch 46/100\n",
      "313/313 [==============================] - 8s 24ms/step - loss: 0.4084 - accuracy: 0.8148 - val_loss: 0.4368 - val_accuracy: 0.8010\n"
     ]
    }
   ],
   "source": [
    "history = model5.fit(train_seq, y_train, epochs = 100, batch_size = 64,\n",
    "                    validation_data = (val_seq, y_val),\n",
    "                    callbacks = [checkpoint_cb, early_stopping_cb])"
   ]
  },
  {
   "cell_type": "code",
   "execution_count": 68,
   "id": "41ab5b1f",
   "metadata": {},
   "outputs": [
    {
     "data": {
      "image/png": "[encoded data removed]",
      "text/plain": [
       "<Figure size 640x480 with 1 Axes>"
      ]
     },
     "metadata": {},
     "output_type": "display_data"
    }
   ],
   "source": [
    "plt.figure()\n",
    "\n",
    "plt.plot(history.history[\"loss\"], label = \"train_loss\")\n",
    "plt.plot(history.history[\"val_loss\"], label = \"val_loss\")\n",
    "plt.plot(history.history[\"accuracy\"], label = \"train_acc\")\n",
    "plt.plot(history.history[\"val_accuracy\"], label = \"val_acc\")\n",
    "\n",
    "plt.xlabel(\"epoch\")\n",
    "plt.legend()\n",
    "plt.show()"
   ]
  },
  {
   "cell_type": "markdown",
   "id": "59d4f13c",
   "metadata": {},
   "source": [
    "# best model 검증"
   ]
  },
  {
   "cell_type": "code",
   "execution_count": 74,
   "id": "090fa47c",
   "metadata": {},
   "outputs": [],
   "source": [
    "test_seq = pad_sequences(x_test, maxlen = 100)"
   ]
  },
  {
   "cell_type": "code",
   "execution_count": 75,
   "id": "6a1bbebb",
   "metadata": {},
   "outputs": [],
   "source": [
    "rnn_model = keras.models.load_model(\"C:/dl/model/best-cnn-model.h5\")"
   ]
  },
  {
   "cell_type": "code",
   "execution_count": 77,
   "id": "b3e03718",
   "metadata": {},
   "outputs": [
    {
     "ename": "ValueError",
     "evalue": "in user code:\n\n    File \"C:\\Users\\양창우\\AppData\\Roaming\\Python\\Python311\\site-packages\\keras\\src\\engine\\training.py\", line 2042, in test_function  *\n        return step_function(self, iterator)\n    File \"C:\\Users\\양창우\\AppData\\Roaming\\Python\\Python311\\site-packages\\keras\\src\\engine\\training.py\", line 2025, in step_function  **\n        outputs = model.distribute_strategy.run(run_step, args=(data,))\n    File \"C:\\Users\\양창우\\AppData\\Roaming\\Python\\Python311\\site-packages\\keras\\src\\engine\\training.py\", line 2013, in run_step  **\n        outputs = model.test_step(data)\n    File \"C:\\Users\\양창우\\AppData\\Roaming\\Python\\Python311\\site-packages\\keras\\src\\engine\\training.py\", line 1893, in test_step\n        y_pred = self(x, training=False)\n    File \"C:\\Users\\양창우\\AppData\\Roaming\\Python\\Python311\\site-packages\\keras\\src\\utils\\traceback_utils.py\", line 70, in error_handler\n        raise e.with_traceback(filtered_tb) from None\n    File \"C:\\Users\\양창우\\AppData\\Roaming\\Python\\Python311\\site-packages\\keras\\src\\engine\\input_spec.py\", line 298, in assert_input_compatibility\n        raise ValueError(\n\n    ValueError: Input 0 of layer \"sequential\" is incompatible with the layer: expected shape=(None, 28, 28, 1), found shape=(None, 100)\n",
     "output_type": "error",
     "traceback": [
      "\u001b[1;31m---------------------------------------------------------------------------\u001b[0m",
      "\u001b[1;31mValueError\u001b[0m                                Traceback (most recent call last)",
      "Cell \u001b[1;32mIn[77], line 1\u001b[0m\n\u001b[1;32m----> 1\u001b[0m \u001b[43mrnn_model\u001b[49m\u001b[38;5;241;43m.\u001b[39;49m\u001b[43mevaluate\u001b[49m\u001b[43m(\u001b[49m\u001b[43mtest_seq\u001b[49m\u001b[43m,\u001b[49m\u001b[43m \u001b[49m\u001b[43my_test\u001b[49m\u001b[43m)\u001b[49m\n",
      "File \u001b[1;32m~\\AppData\\Roaming\\Python\\Python311\\site-packages\\keras\\src\\utils\\traceback_utils.py:70\u001b[0m, in \u001b[0;36mfilter_traceback.<locals>.error_handler\u001b[1;34m(*args, **kwargs)\u001b[0m\n\u001b[0;32m     67\u001b[0m     filtered_tb \u001b[38;5;241m=\u001b[39m _process_traceback_frames(e\u001b[38;5;241m.\u001b[39m__traceback__)\n\u001b[0;32m     68\u001b[0m     \u001b[38;5;66;03m# To get the full stack trace, call:\u001b[39;00m\n\u001b[0;32m     69\u001b[0m     \u001b[38;5;66;03m# `tf.debugging.disable_traceback_filtering()`\u001b[39;00m\n\u001b[1;32m---> 70\u001b[0m     \u001b[38;5;28;01mraise\u001b[39;00m e\u001b[38;5;241m.\u001b[39mwith_traceback(filtered_tb) \u001b[38;5;28;01mfrom\u001b[39;00m \u001b[38;5;28;01mNone\u001b[39;00m\n\u001b[0;32m     71\u001b[0m \u001b[38;5;28;01mfinally\u001b[39;00m:\n\u001b[0;32m     72\u001b[0m     \u001b[38;5;28;01mdel\u001b[39;00m filtered_tb\n",
      "File \u001b[1;32m~\\AppData\\Local\\Temp\\__autograph_generated_file35bo570t.py:15\u001b[0m, in \u001b[0;36mouter_factory.<locals>.inner_factory.<locals>.tf__test_function\u001b[1;34m(iterator)\u001b[0m\n\u001b[0;32m     13\u001b[0m \u001b[38;5;28;01mtry\u001b[39;00m:\n\u001b[0;32m     14\u001b[0m     do_return \u001b[38;5;241m=\u001b[39m \u001b[38;5;28;01mTrue\u001b[39;00m\n\u001b[1;32m---> 15\u001b[0m     retval_ \u001b[38;5;241m=\u001b[39m ag__\u001b[38;5;241m.\u001b[39mconverted_call(ag__\u001b[38;5;241m.\u001b[39mld(step_function), (ag__\u001b[38;5;241m.\u001b[39mld(\u001b[38;5;28mself\u001b[39m), ag__\u001b[38;5;241m.\u001b[39mld(iterator)), \u001b[38;5;28;01mNone\u001b[39;00m, fscope)\n\u001b[0;32m     16\u001b[0m \u001b[38;5;28;01mexcept\u001b[39;00m:\n\u001b[0;32m     17\u001b[0m     do_return \u001b[38;5;241m=\u001b[39m \u001b[38;5;28;01mFalse\u001b[39;00m\n",
      "\u001b[1;31mValueError\u001b[0m: in user code:\n\n    File \"C:\\Users\\양창우\\AppData\\Roaming\\Python\\Python311\\site-packages\\keras\\src\\engine\\training.py\", line 2042, in test_function  *\n        return step_function(self, iterator)\n    File \"C:\\Users\\양창우\\AppData\\Roaming\\Python\\Python311\\site-packages\\keras\\src\\engine\\training.py\", line 2025, in step_function  **\n        outputs = model.distribute_strategy.run(run_step, args=(data,))\n    File \"C:\\Users\\양창우\\AppData\\Roaming\\Python\\Python311\\site-packages\\keras\\src\\engine\\training.py\", line 2013, in run_step  **\n        outputs = model.test_step(data)\n    File \"C:\\Users\\양창우\\AppData\\Roaming\\Python\\Python311\\site-packages\\keras\\src\\engine\\training.py\", line 1893, in test_step\n        y_pred = self(x, training=False)\n    File \"C:\\Users\\양창우\\AppData\\Roaming\\Python\\Python311\\site-packages\\keras\\src\\utils\\traceback_utils.py\", line 70, in error_handler\n        raise e.with_traceback(filtered_tb) from None\n    File \"C:\\Users\\양창우\\AppData\\Roaming\\Python\\Python311\\site-packages\\keras\\src\\engine\\input_spec.py\", line 298, in assert_input_compatibility\n        raise ValueError(\n\n    ValueError: Input 0 of layer \"sequential\" is incompatible with the layer: expected shape=(None, 28, 28, 1), found shape=(None, 100)\n"
     ]
    }
   ],
   "source": [
    "rnn_model.evaluate(test_seq, y_test)"
   ]
  },
  {
   "cell_type": "code",
   "execution_count": null,
   "id": "55e9d16b",
   "metadata": {},
   "outputs": [],
   "source": []
  },
  {
   "cell_type": "code",
   "execution_count": null,
   "id": "34f00e98",
   "metadata": {},
   "outputs": [],
   "source": []
  },
  {
   "cell_type": "code",
   "execution_count": null,
   "id": "3e373128",
   "metadata": {},
   "outputs": [],
   "source": []
  },
  {
   "cell_type": "code",
   "execution_count": null,
   "id": "3bc2de1e",
   "metadata": {},
   "outputs": [],
   "source": []
  },
  {
   "cell_type": "code",
   "execution_count": null,
   "id": "1896e6cc",
   "metadata": {},
   "outputs": [],
   "source": []
  },
  {
   "cell_type": "code",
   "execution_count": null,
   "id": "4efa598a",
   "metadata": {},
   "outputs": [],
   "source": []
  },
  {
   "cell_type": "code",
   "execution_count": null,
   "id": "791a5110",
   "metadata": {},
   "outputs": [],
   "source": []
  },
  {
   "cell_type": "code",
   "execution_count": null,
   "id": "e91c9dda",
   "metadata": {},
   "outputs": [],
   "source": []
  },
  {
   "cell_type": "code",
   "execution_count": null,
   "id": "364fd73b",
   "metadata": {},
   "outputs": [],
   "source": []
  },
  {
   "cell_type": "code",
   "execution_count": null,
   "id": "7052650a",
   "metadata": {},
   "outputs": [],
   "source": []
  },
  {
   "cell_type": "code",
   "execution_count": null,
   "id": "25724c07",
   "metadata": {},
   "outputs": [],
   "source": []
  },
  {
   "cell_type": "code",
   "execution_count": null,
   "id": "1eab0a4f",
   "metadata": {},
   "outputs": [],
   "source": []
  },
  {
   "cell_type": "code",
   "execution_count": null,
   "id": "27a79167",
   "metadata": {},
   "outputs": [],
   "source": []
  },
  {
   "cell_type": "code",
   "execution_count": null,
   "id": "428d2d5a",
   "metadata": {},
   "outputs": [],
   "source": []
  },
  {
   "cell_type": "code",
   "execution_count": null,
   "id": "925dc194",
   "metadata": {},
   "outputs": [],
   "source": []
  },
  {
   "cell_type": "code",
   "execution_count": null,
   "id": "02bee47b",
   "metadata": {},
   "outputs": [],
   "source": []
  },
  {
   "cell_type": "code",
   "execution_count": null,
   "id": "b97183b1",
   "metadata": {},
   "outputs": [],
   "source": []
  },
  {
   "cell_type": "code",
   "execution_count": null,
   "id": "7efdfc07",
   "metadata": {},
   "outputs": [],
   "source": []
  },
  {
   "cell_type": "code",
   "execution_count": null,
   "id": "6f56f260",
   "metadata": {},
   "outputs": [],
   "source": []
  },
  {
   "cell_type": "code",
   "execution_count": null,
   "id": "46d6c037",
   "metadata": {},
   "outputs": [],
   "source": []
  },
  {
   "cell_type": "code",
   "execution_count": null,
   "id": "93c82ff1",
   "metadata": {},
   "outputs": [],
   "source": []
  },
  {
   "cell_type": "code",
   "execution_count": null,
   "id": "df46db6a",
   "metadata": {},
   "outputs": [],
   "source": []
  },
  {
   "cell_type": "code",
   "execution_count": null,
   "id": "4a76d7b6",
   "metadata": {},
   "outputs": [],
   "source": []
  },
  {
   "cell_type": "code",
   "execution_count": null,
   "id": "5823eab8",
   "metadata": {},
   "outputs": [],
   "source": []
  },
  {
   "cell_type": "code",
   "execution_count": null,
   "id": "08ce3dd8",
   "metadata": {},
   "outputs": [],
   "source": []
  },
  {
   "cell_type": "code",
   "execution_count": null,
   "id": "9025dcc1",
   "metadata": {},
   "outputs": [],
   "source": []
  },
  {
   "cell_type": "code",
   "execution_count": null,
   "id": "de099657",
   "metadata": {},
   "outputs": [],
   "source": []
  }
 ],
 "metadata": {
  "kernelspec": {
   "display_name": "Python 3 (ipykernel)",
   "language": "python",
   "name": "python3"
  },
  "language_info": {
   "codemirror_mode": {
    "name": "ipython",
    "version": 3
   },
   "file_extension": ".py",
   "mimetype": "text/x-python",
   "name": "python",
   "nbconvert_exporter": "python",
   "pygments_lexer": "ipython3",
   "version": "3.11.5"
  }
 },
 "nbformat": 4,
 "nbformat_minor": 5
}
