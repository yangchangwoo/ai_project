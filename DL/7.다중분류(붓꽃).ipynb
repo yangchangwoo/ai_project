{
 "cells": [
  {
   "cell_type": "code",
   "execution_count": 1,
   "id": "1d18486b",
   "metadata": {},
   "outputs": [],
   "source": [
    "from tensorflow import keras\n",
    "import pandas as pd\n",
    "from sklearn import datasets"
   ]
  },
  {
   "cell_type": "code",
   "execution_count": 4,
   "id": "acdd5320",
   "metadata": {},
   "outputs": [],
   "source": [
    "data = datasets.load_iris()"
   ]
  },
  {
   "cell_type": "code",
   "execution_count": 5,
   "id": "7fd9d925",
   "metadata": {},
   "outputs": [],
   "source": [
    "df = pd.DataFrame(data.data, columns = data.feature_names)"
   ]
  },
  {
   "cell_type": "code",
   "execution_count": 6,
   "id": "f1474353",
   "metadata": {},
   "outputs": [
    {
     "data": {
      "text/html": [
       "<div>\n",
       "<style scoped>\n",
       "    .dataframe tbody tr th:only-of-type {\n",
       "        vertical-align: middle;\n",
       "    }\n",
       "\n",
       "    .dataframe tbody tr th {\n",
       "        vertical-align: top;\n",
       "    }\n",
       "\n",
       "    .dataframe thead th {\n",
       "        text-align: right;\n",
       "    }\n",
       "</style>\n",
       "<table border=\"1\" class=\"dataframe\">\n",
       "  <thead>\n",
       "    <tr style=\"text-align: right;\">\n",
       "      <th></th>\n",
       "      <th>sepal length (cm)</th>\n",
       "      <th>sepal width (cm)</th>\n",
       "      <th>petal length (cm)</th>\n",
       "      <th>petal width (cm)</th>\n",
       "    </tr>\n",
       "  </thead>\n",
       "  <tbody>\n",
       "    <tr>\n",
       "      <th>0</th>\n",
       "      <td>5.1</td>\n",
       "      <td>3.5</td>\n",
       "      <td>1.4</td>\n",
       "      <td>0.2</td>\n",
       "    </tr>\n",
       "    <tr>\n",
       "      <th>1</th>\n",
       "      <td>4.9</td>\n",
       "      <td>3.0</td>\n",
       "      <td>1.4</td>\n",
       "      <td>0.2</td>\n",
       "    </tr>\n",
       "    <tr>\n",
       "      <th>2</th>\n",
       "      <td>4.7</td>\n",
       "      <td>3.2</td>\n",
       "      <td>1.3</td>\n",
       "      <td>0.2</td>\n",
       "    </tr>\n",
       "    <tr>\n",
       "      <th>3</th>\n",
       "      <td>4.6</td>\n",
       "      <td>3.1</td>\n",
       "      <td>1.5</td>\n",
       "      <td>0.2</td>\n",
       "    </tr>\n",
       "    <tr>\n",
       "      <th>4</th>\n",
       "      <td>5.0</td>\n",
       "      <td>3.6</td>\n",
       "      <td>1.4</td>\n",
       "      <td>0.2</td>\n",
       "    </tr>\n",
       "  </tbody>\n",
       "</table>\n",
       "</div>"
      ],
      "text/plain": [
       "   sepal length (cm)  sepal width (cm)  petal length (cm)  petal width (cm)\n",
       "0                5.1               3.5                1.4               0.2\n",
       "1                4.9               3.0                1.4               0.2\n",
       "2                4.7               3.2                1.3               0.2\n",
       "3                4.6               3.1                1.5               0.2\n",
       "4                5.0               3.6                1.4               0.2"
      ]
     },
     "execution_count": 6,
     "metadata": {},
     "output_type": "execute_result"
    }
   ],
   "source": [
    "df.head()"
   ]
  },
  {
   "cell_type": "code",
   "execution_count": 7,
   "id": "da10e330",
   "metadata": {},
   "outputs": [],
   "source": [
    "df[\"species\"] = data.target"
   ]
  },
  {
   "cell_type": "code",
   "execution_count": 9,
   "id": "e873aae8",
   "metadata": {},
   "outputs": [
    {
     "data": {
      "text/html": [
       "<div>\n",
       "<style scoped>\n",
       "    .dataframe tbody tr th:only-of-type {\n",
       "        vertical-align: middle;\n",
       "    }\n",
       "\n",
       "    .dataframe tbody tr th {\n",
       "        vertical-align: top;\n",
       "    }\n",
       "\n",
       "    .dataframe thead th {\n",
       "        text-align: right;\n",
       "    }\n",
       "</style>\n",
       "<table border=\"1\" class=\"dataframe\">\n",
       "  <thead>\n",
       "    <tr style=\"text-align: right;\">\n",
       "      <th></th>\n",
       "      <th>sepal length (cm)</th>\n",
       "      <th>sepal width (cm)</th>\n",
       "      <th>petal length (cm)</th>\n",
       "      <th>petal width (cm)</th>\n",
       "      <th>species</th>\n",
       "    </tr>\n",
       "  </thead>\n",
       "  <tbody>\n",
       "    <tr>\n",
       "      <th>0</th>\n",
       "      <td>5.1</td>\n",
       "      <td>3.5</td>\n",
       "      <td>1.4</td>\n",
       "      <td>0.2</td>\n",
       "      <td>0</td>\n",
       "    </tr>\n",
       "    <tr>\n",
       "      <th>1</th>\n",
       "      <td>4.9</td>\n",
       "      <td>3.0</td>\n",
       "      <td>1.4</td>\n",
       "      <td>0.2</td>\n",
       "      <td>0</td>\n",
       "    </tr>\n",
       "    <tr>\n",
       "      <th>2</th>\n",
       "      <td>4.7</td>\n",
       "      <td>3.2</td>\n",
       "      <td>1.3</td>\n",
       "      <td>0.2</td>\n",
       "      <td>0</td>\n",
       "    </tr>\n",
       "    <tr>\n",
       "      <th>3</th>\n",
       "      <td>4.6</td>\n",
       "      <td>3.1</td>\n",
       "      <td>1.5</td>\n",
       "      <td>0.2</td>\n",
       "      <td>0</td>\n",
       "    </tr>\n",
       "    <tr>\n",
       "      <th>4</th>\n",
       "      <td>5.0</td>\n",
       "      <td>3.6</td>\n",
       "      <td>1.4</td>\n",
       "      <td>0.2</td>\n",
       "      <td>0</td>\n",
       "    </tr>\n",
       "  </tbody>\n",
       "</table>\n",
       "</div>"
      ],
      "text/plain": [
       "   sepal length (cm)  sepal width (cm)  petal length (cm)  petal width (cm)  \\\n",
       "0                5.1               3.5                1.4               0.2   \n",
       "1                4.9               3.0                1.4               0.2   \n",
       "2                4.7               3.2                1.3               0.2   \n",
       "3                4.6               3.1                1.5               0.2   \n",
       "4                5.0               3.6                1.4               0.2   \n",
       "\n",
       "   species  \n",
       "0        0  \n",
       "1        0  \n",
       "2        0  \n",
       "3        0  \n",
       "4        0  "
      ]
     },
     "execution_count": 9,
     "metadata": {},
     "output_type": "execute_result"
    }
   ],
   "source": [
    "df.head()"
   ]
  },
  {
   "cell_type": "code",
   "execution_count": 10,
   "id": "5abd6a00",
   "metadata": {},
   "outputs": [
    {
     "data": {
      "text/html": [
       "<div>\n",
       "<style scoped>\n",
       "    .dataframe tbody tr th:only-of-type {\n",
       "        vertical-align: middle;\n",
       "    }\n",
       "\n",
       "    .dataframe tbody tr th {\n",
       "        vertical-align: top;\n",
       "    }\n",
       "\n",
       "    .dataframe thead th {\n",
       "        text-align: right;\n",
       "    }\n",
       "</style>\n",
       "<table border=\"1\" class=\"dataframe\">\n",
       "  <thead>\n",
       "    <tr style=\"text-align: right;\">\n",
       "      <th></th>\n",
       "      <th>sepal length (cm)</th>\n",
       "      <th>sepal width (cm)</th>\n",
       "      <th>petal length (cm)</th>\n",
       "      <th>petal width (cm)</th>\n",
       "      <th>species</th>\n",
       "    </tr>\n",
       "  </thead>\n",
       "  <tbody>\n",
       "    <tr>\n",
       "      <th>145</th>\n",
       "      <td>6.7</td>\n",
       "      <td>3.0</td>\n",
       "      <td>5.2</td>\n",
       "      <td>2.3</td>\n",
       "      <td>2</td>\n",
       "    </tr>\n",
       "    <tr>\n",
       "      <th>146</th>\n",
       "      <td>6.3</td>\n",
       "      <td>2.5</td>\n",
       "      <td>5.0</td>\n",
       "      <td>1.9</td>\n",
       "      <td>2</td>\n",
       "    </tr>\n",
       "    <tr>\n",
       "      <th>147</th>\n",
       "      <td>6.5</td>\n",
       "      <td>3.0</td>\n",
       "      <td>5.2</td>\n",
       "      <td>2.0</td>\n",
       "      <td>2</td>\n",
       "    </tr>\n",
       "    <tr>\n",
       "      <th>148</th>\n",
       "      <td>6.2</td>\n",
       "      <td>3.4</td>\n",
       "      <td>5.4</td>\n",
       "      <td>2.3</td>\n",
       "      <td>2</td>\n",
       "    </tr>\n",
       "    <tr>\n",
       "      <th>149</th>\n",
       "      <td>5.9</td>\n",
       "      <td>3.0</td>\n",
       "      <td>5.1</td>\n",
       "      <td>1.8</td>\n",
       "      <td>2</td>\n",
       "    </tr>\n",
       "  </tbody>\n",
       "</table>\n",
       "</div>"
      ],
      "text/plain": [
       "     sepal length (cm)  sepal width (cm)  petal length (cm)  petal width (cm)  \\\n",
       "145                6.7               3.0                5.2               2.3   \n",
       "146                6.3               2.5                5.0               1.9   \n",
       "147                6.5               3.0                5.2               2.0   \n",
       "148                6.2               3.4                5.4               2.3   \n",
       "149                5.9               3.0                5.1               1.8   \n",
       "\n",
       "     species  \n",
       "145        2  \n",
       "146        2  \n",
       "147        2  \n",
       "148        2  \n",
       "149        2  "
      ]
     },
     "execution_count": 10,
     "metadata": {},
     "output_type": "execute_result"
    }
   ],
   "source": [
    "df.tail()"
   ]
  },
  {
   "cell_type": "code",
   "execution_count": 8,
   "id": "14d2e34c",
   "metadata": {},
   "outputs": [
    {
     "data": {
      "text/plain": [
       "array([0, 1, 2])"
      ]
     },
     "execution_count": 8,
     "metadata": {},
     "output_type": "execute_result"
    }
   ],
   "source": [
    "df[\"species\"].unique()"
   ]
  },
  {
   "cell_type": "code",
   "execution_count": 11,
   "id": "eba3fe85",
   "metadata": {},
   "outputs": [
    {
     "data": {
      "text/plain": [
       "array(['setosa', 'versicolor', 'virginica'], dtype='<U10')"
      ]
     },
     "execution_count": 11,
     "metadata": {},
     "output_type": "execute_result"
    }
   ],
   "source": [
    "data.target_names"
   ]
  },
  {
   "cell_type": "code",
   "execution_count": 19,
   "id": "a794ce77",
   "metadata": {},
   "outputs": [],
   "source": [
    "x =df.drop(\"species\", axis =1)"
   ]
  },
  {
   "cell_type": "code",
   "execution_count": 20,
   "id": "55bfbbcf",
   "metadata": {},
   "outputs": [],
   "source": [
    "y =df[\"species\"]"
   ]
  },
  {
   "cell_type": "code",
   "execution_count": 23,
   "id": "96f5834b",
   "metadata": {},
   "outputs": [
    {
     "data": {
      "text/plain": [
       "species\n",
       "0    50\n",
       "1    50\n",
       "2    50\n",
       "Name: count, dtype: int64"
      ]
     },
     "execution_count": 23,
     "metadata": {},
     "output_type": "execute_result"
    }
   ],
   "source": [
    "y.value_counts()"
   ]
  },
  {
   "cell_type": "code",
   "execution_count": 25,
   "id": "5ca23caa",
   "metadata": {},
   "outputs": [],
   "source": [
    "from sklearn.model_selection import train_test_split\n",
    "from sklearn.preprocessing import MinMaxScaler"
   ]
  },
  {
   "cell_type": "code",
   "execution_count": 29,
   "id": "3d8c9d1e",
   "metadata": {},
   "outputs": [],
   "source": [
    "x_train, x_test, y_train, y_test = train_test_split(x, y, test_size = 0.2, random_state = 5,\n",
    "                                                    stratify = y)"
   ]
  },
  {
   "cell_type": "code",
   "execution_count": 30,
   "id": "b735a8d2",
   "metadata": {},
   "outputs": [
    {
     "data": {
      "text/plain": [
       "(120, 4)"
      ]
     },
     "execution_count": 30,
     "metadata": {},
     "output_type": "execute_result"
    }
   ],
   "source": [
    "x_train.shape"
   ]
  },
  {
   "cell_type": "code",
   "execution_count": 32,
   "id": "43686fec",
   "metadata": {},
   "outputs": [
    {
     "data": {
      "text/plain": [
       "(30, 4)"
      ]
     },
     "execution_count": 32,
     "metadata": {},
     "output_type": "execute_result"
    }
   ],
   "source": [
    "x_test.shape"
   ]
  },
  {
   "cell_type": "code",
   "execution_count": 33,
   "id": "139ee381",
   "metadata": {},
   "outputs": [],
   "source": [
    "# 스케일링\n",
    "mm = MinMaxScaler()\n",
    "scaled_train = mm.fit_transform(x_train)\n",
    "scaled_test = mm.transform(x_test)"
   ]
  },
  {
   "cell_type": "code",
   "execution_count": 37,
   "id": "28b4df85",
   "metadata": {},
   "outputs": [],
   "source": [
    "# 모델 생성\n",
    "model = keras.Sequential()\n",
    "model.add(keras.layers.Dense(16, activation = \"relu\", input_shape = (4,)))\n",
    "model.add(keras.layers.Dense(3, activation = \"softmax\"))\n",
    "\n"
   ]
  },
  {
   "cell_type": "code",
   "execution_count": 38,
   "id": "3d57cea6",
   "metadata": {},
   "outputs": [
    {
     "name": "stdout",
     "output_type": "stream",
     "text": [
      "Model: \"sequential\"\n",
      "_________________________________________________________________\n",
      " Layer (type)                Output Shape              Param #   \n",
      "=================================================================\n",
      " dense (Dense)               (None, 16)                80        \n",
      "                                                                 \n",
      " dense_1 (Dense)             (None, 3)                 51        \n",
      "                                                                 \n",
      "=================================================================\n",
      "Total params: 131 (524.00 Byte)\n",
      "Trainable params: 131 (524.00 Byte)\n",
      "Non-trainable params: 0 (0.00 Byte)\n",
      "_________________________________________________________________\n"
     ]
    }
   ],
   "source": [
    "model.summary()"
   ]
  },
  {
   "cell_type": "code",
   "execution_count": 39,
   "id": "6c774e2a",
   "metadata": {},
   "outputs": [],
   "source": [
    "model.compile(loss = \"sparse_categorical_crossentropy\",\n",
    "             optimizer = \"adam\",\n",
    "            metrics  = [\"accuracy\"])"
   ]
  },
  {
   "cell_type": "code",
   "execution_count": 40,
   "id": "8ff0a905",
   "metadata": {},
   "outputs": [
    {
     "name": "stdout",
     "output_type": "stream",
     "text": [
      "Epoch 1/50\n",
      "6/6 [==============================] - 1s 58ms/step - loss: 1.0434 - accuracy: 0.6458 - val_loss: 1.0021 - val_accuracy: 0.7500\n",
      "Epoch 2/50\n",
      "6/6 [==============================] - 0s 12ms/step - loss: 1.0275 - accuracy: 0.6458 - val_loss: 0.9939 - val_accuracy: 0.7500\n",
      "Epoch 3/50\n",
      "6/6 [==============================] - 0s 13ms/step - loss: 1.0148 - accuracy: 0.6458 - val_loss: 0.9862 - val_accuracy: 0.7500\n",
      "Epoch 4/50\n",
      "6/6 [==============================] - 0s 12ms/step - loss: 1.0021 - accuracy: 0.6562 - val_loss: 0.9785 - val_accuracy: 0.7500\n",
      "Epoch 5/50\n",
      "6/6 [==============================] - 0s 11ms/step - loss: 0.9905 - accuracy: 0.6562 - val_loss: 0.9714 - val_accuracy: 0.7500\n",
      "Epoch 6/50\n",
      "6/6 [==============================] - 0s 12ms/step - loss: 0.9790 - accuracy: 0.6354 - val_loss: 0.9645 - val_accuracy: 0.6667\n",
      "Epoch 7/50\n",
      "6/6 [==============================] - 0s 12ms/step - loss: 0.9680 - accuracy: 0.6667 - val_loss: 0.9581 - val_accuracy: 0.5833\n",
      "Epoch 8/50\n",
      "6/6 [==============================] - 0s 13ms/step - loss: 0.9578 - accuracy: 0.6771 - val_loss: 0.9523 - val_accuracy: 0.5833\n",
      "Epoch 9/50\n",
      "6/6 [==============================] - 0s 12ms/step - loss: 0.9472 - accuracy: 0.6667 - val_loss: 0.9465 - val_accuracy: 0.5417\n",
      "Epoch 10/50\n",
      "6/6 [==============================] - 0s 12ms/step - loss: 0.9378 - accuracy: 0.6667 - val_loss: 0.9408 - val_accuracy: 0.5833\n",
      "Epoch 11/50\n",
      "6/6 [==============================] - 0s 14ms/step - loss: 0.9284 - accuracy: 0.6979 - val_loss: 0.9353 - val_accuracy: 0.6667\n",
      "Epoch 12/50\n",
      "6/6 [==============================] - 0s 12ms/step - loss: 0.9192 - accuracy: 0.6875 - val_loss: 0.9298 - val_accuracy: 0.7083\n",
      "Epoch 13/50\n",
      "6/6 [==============================] - 0s 12ms/step - loss: 0.9098 - accuracy: 0.6979 - val_loss: 0.9236 - val_accuracy: 0.6667\n",
      "Epoch 14/50\n",
      "6/6 [==============================] - 0s 10ms/step - loss: 0.9013 - accuracy: 0.6979 - val_loss: 0.9178 - val_accuracy: 0.6250\n",
      "Epoch 15/50\n",
      "6/6 [==============================] - 0s 12ms/step - loss: 0.8929 - accuracy: 0.6875 - val_loss: 0.9124 - val_accuracy: 0.6250\n",
      "Epoch 16/50\n",
      "6/6 [==============================] - 0s 12ms/step - loss: 0.8839 - accuracy: 0.6771 - val_loss: 0.9060 - val_accuracy: 0.6250\n",
      "Epoch 17/50\n",
      "6/6 [==============================] - 0s 12ms/step - loss: 0.8755 - accuracy: 0.6667 - val_loss: 0.8997 - val_accuracy: 0.6250\n",
      "Epoch 18/50\n",
      "6/6 [==============================] - 0s 11ms/step - loss: 0.8672 - accuracy: 0.6771 - val_loss: 0.8935 - val_accuracy: 0.6250\n",
      "Epoch 19/50\n",
      "6/6 [==============================] - 0s 11ms/step - loss: 0.8589 - accuracy: 0.6771 - val_loss: 0.8876 - val_accuracy: 0.6250\n",
      "Epoch 20/50\n",
      "6/6 [==============================] - 0s 13ms/step - loss: 0.8508 - accuracy: 0.6771 - val_loss: 0.8811 - val_accuracy: 0.6250\n",
      "Epoch 21/50\n",
      "6/6 [==============================] - 0s 11ms/step - loss: 0.8424 - accuracy: 0.6771 - val_loss: 0.8748 - val_accuracy: 0.6250\n",
      "Epoch 22/50\n",
      "6/6 [==============================] - 0s 12ms/step - loss: 0.8338 - accuracy: 0.6771 - val_loss: 0.8674 - val_accuracy: 0.6250\n",
      "Epoch 23/50\n",
      "6/6 [==============================] - 0s 11ms/step - loss: 0.8255 - accuracy: 0.6771 - val_loss: 0.8598 - val_accuracy: 0.6250\n",
      "Epoch 24/50\n",
      "6/6 [==============================] - 0s 12ms/step - loss: 0.8173 - accuracy: 0.6771 - val_loss: 0.8527 - val_accuracy: 0.6250\n",
      "Epoch 25/50\n",
      "6/6 [==============================] - 0s 12ms/step - loss: 0.8090 - accuracy: 0.6771 - val_loss: 0.8451 - val_accuracy: 0.6250\n",
      "Epoch 26/50\n",
      "6/6 [==============================] - 0s 10ms/step - loss: 0.8008 - accuracy: 0.6771 - val_loss: 0.8374 - val_accuracy: 0.6250\n",
      "Epoch 27/50\n",
      "6/6 [==============================] - 0s 11ms/step - loss: 0.7924 - accuracy: 0.6771 - val_loss: 0.8295 - val_accuracy: 0.6250\n",
      "Epoch 28/50\n",
      "6/6 [==============================] - 0s 11ms/step - loss: 0.7851 - accuracy: 0.6771 - val_loss: 0.8232 - val_accuracy: 0.6250\n",
      "Epoch 29/50\n",
      "6/6 [==============================] - 0s 11ms/step - loss: 0.7763 - accuracy: 0.6771 - val_loss: 0.8155 - val_accuracy: 0.6250\n",
      "Epoch 30/50\n",
      "6/6 [==============================] - 0s 9ms/step - loss: 0.7682 - accuracy: 0.6771 - val_loss: 0.8078 - val_accuracy: 0.6250\n",
      "Epoch 31/50\n",
      "6/6 [==============================] - 0s 11ms/step - loss: 0.7603 - accuracy: 0.6771 - val_loss: 0.7999 - val_accuracy: 0.6250\n",
      "Epoch 32/50\n",
      "6/6 [==============================] - 0s 13ms/step - loss: 0.7524 - accuracy: 0.6771 - val_loss: 0.7918 - val_accuracy: 0.6250\n",
      "Epoch 33/50\n",
      "6/6 [==============================] - 0s 12ms/step - loss: 0.7448 - accuracy: 0.6771 - val_loss: 0.7844 - val_accuracy: 0.6250\n",
      "Epoch 34/50\n",
      "6/6 [==============================] - 0s 14ms/step - loss: 0.7368 - accuracy: 0.6771 - val_loss: 0.7766 - val_accuracy: 0.6250\n",
      "Epoch 35/50\n",
      "6/6 [==============================] - 0s 15ms/step - loss: 0.7293 - accuracy: 0.6771 - val_loss: 0.7698 - val_accuracy: 0.6250\n",
      "Epoch 36/50\n",
      "6/6 [==============================] - 0s 12ms/step - loss: 0.7218 - accuracy: 0.6771 - val_loss: 0.7623 - val_accuracy: 0.6250\n",
      "Epoch 37/50\n",
      "6/6 [==============================] - 0s 12ms/step - loss: 0.7143 - accuracy: 0.6771 - val_loss: 0.7561 - val_accuracy: 0.6250\n",
      "Epoch 38/50\n",
      "6/6 [==============================] - 0s 11ms/step - loss: 0.7068 - accuracy: 0.6771 - val_loss: 0.7490 - val_accuracy: 0.6250\n",
      "Epoch 39/50\n",
      "6/6 [==============================] - 0s 12ms/step - loss: 0.6995 - accuracy: 0.6771 - val_loss: 0.7422 - val_accuracy: 0.6250\n",
      "Epoch 40/50\n",
      "6/6 [==============================] - 0s 11ms/step - loss: 0.6925 - accuracy: 0.6771 - val_loss: 0.7351 - val_accuracy: 0.6250\n",
      "Epoch 41/50\n",
      "6/6 [==============================] - 0s 13ms/step - loss: 0.6854 - accuracy: 0.6771 - val_loss: 0.7279 - val_accuracy: 0.6250\n",
      "Epoch 42/50\n",
      "6/6 [==============================] - 0s 15ms/step - loss: 0.6783 - accuracy: 0.6771 - val_loss: 0.7210 - val_accuracy: 0.6250\n",
      "Epoch 43/50\n",
      "6/6 [==============================] - 0s 12ms/step - loss: 0.6718 - accuracy: 0.6771 - val_loss: 0.7152 - val_accuracy: 0.6250\n",
      "Epoch 44/50\n",
      "6/6 [==============================] - 0s 14ms/step - loss: 0.6649 - accuracy: 0.6771 - val_loss: 0.7084 - val_accuracy: 0.6250\n",
      "Epoch 45/50\n",
      "6/6 [==============================] - 0s 11ms/step - loss: 0.6582 - accuracy: 0.6771 - val_loss: 0.7022 - val_accuracy: 0.6250\n",
      "Epoch 46/50\n",
      "6/6 [==============================] - 0s 12ms/step - loss: 0.6520 - accuracy: 0.6771 - val_loss: 0.6953 - val_accuracy: 0.6250\n",
      "Epoch 47/50\n",
      "6/6 [==============================] - 0s 13ms/step - loss: 0.6453 - accuracy: 0.6771 - val_loss: 0.6887 - val_accuracy: 0.6250\n",
      "Epoch 48/50\n",
      "6/6 [==============================] - 0s 12ms/step - loss: 0.6393 - accuracy: 0.6771 - val_loss: 0.6818 - val_accuracy: 0.6250\n",
      "Epoch 49/50\n",
      "6/6 [==============================] - 0s 12ms/step - loss: 0.6330 - accuracy: 0.6771 - val_loss: 0.6757 - val_accuracy: 0.6250\n",
      "Epoch 50/50\n",
      "6/6 [==============================] - 0s 12ms/step - loss: 0.6272 - accuracy: 0.6771 - val_loss: 0.6700 - val_accuracy: 0.6250\n"
     ]
    },
    {
     "data": {
      "text/plain": [
       "<keras.src.callbacks.History at 0x1f34c558990>"
      ]
     },
     "execution_count": 40,
     "metadata": {},
     "output_type": "execute_result"
    }
   ],
   "source": [
    "model.fit(scaled_train, y_train, epochs =50,\n",
    "         batch_size = 16,\n",
    "         validation_split = 0.2)"
   ]
  },
  {
   "cell_type": "code",
   "execution_count": 41,
   "id": "7891feac",
   "metadata": {},
   "outputs": [
    {
     "name": "stdout",
     "output_type": "stream",
     "text": [
      "1/1 [==============================] - 0s 47ms/step - loss: 0.6429 - accuracy: 0.6667\n"
     ]
    },
    {
     "data": {
      "text/plain": [
       "[0.6428549289703369, 0.6666666865348816]"
      ]
     },
     "execution_count": 41,
     "metadata": {},
     "output_type": "execute_result"
    }
   ],
   "source": [
    "model.evaluate(scaled_test, y_test)"
   ]
  },
  {
   "cell_type": "code",
   "execution_count": 43,
   "id": "081d3ae2",
   "metadata": {},
   "outputs": [],
   "source": [
    "import pandas as np"
   ]
  },
  {
   "cell_type": "code",
   "execution_count": 45,
   "id": "9f87618d",
   "metadata": {},
   "outputs": [
    {
     "ename": "AttributeError",
     "evalue": "module 'pandas' has no attribute 'argmax'",
     "output_type": "error",
     "traceback": [
      "\u001b[1;31m---------------------------------------------------------------------------\u001b[0m",
      "\u001b[1;31mAttributeError\u001b[0m                            Traceback (most recent call last)",
      "Cell \u001b[1;32mIn[45], line 1\u001b[0m\n\u001b[1;32m----> 1\u001b[0m \u001b[43mnp\u001b[49m\u001b[38;5;241;43m.\u001b[39;49m\u001b[43margmax\u001b[49m(model\u001b[38;5;241m.\u001b[39mpredict(scaled_test), axis \u001b[38;5;241m=\u001b[39m \u001b[38;5;241m1\u001b[39m)\n",
      "\u001b[1;31mAttributeError\u001b[0m: module 'pandas' has no attribute 'argmax'"
     ]
    }
   ],
   "source": [
    "np.argmax(model.predict(scaled_test), axis = 1)"
   ]
  },
  {
   "cell_type": "code",
   "execution_count": 44,
   "id": "e0cf8a50",
   "metadata": {},
   "outputs": [
    {
     "ename": "AttributeError",
     "evalue": "module 'pandas' has no attribute 'argmax'",
     "output_type": "error",
     "traceback": [
      "\u001b[1;31m---------------------------------------------------------------------------\u001b[0m",
      "\u001b[1;31mAttributeError\u001b[0m                            Traceback (most recent call last)",
      "Cell \u001b[1;32mIn[44], line 1\u001b[0m\n\u001b[1;32m----> 1\u001b[0m \u001b[43mnp\u001b[49m\u001b[38;5;241;43m.\u001b[39;49m\u001b[43margmax\u001b[49m(model\u001b[38;5;241m.\u001b[39mpredict(scaled_test), axis \u001b[38;5;241m=\u001b[39m \u001b[38;5;241m1\u001b[39m)\n",
      "\u001b[1;31mAttributeError\u001b[0m: module 'pandas' has no attribute 'argmax'"
     ]
    }
   ],
   "source": [
    "np.argmax(model.predict(scaled_test), axis = 1)"
   ]
  },
  {
   "cell_type": "code",
   "execution_count": null,
   "id": "c54ab8ac",
   "metadata": {},
   "outputs": [],
   "source": []
  }
 ],
 "metadata": {
  "kernelspec": {
   "display_name": "Python 3 (ipykernel)",
   "language": "python",
   "name": "python3"
  },
  "language_info": {
   "codemirror_mode": {
    "name": "ipython",
    "version": 3
   },
   "file_extension": ".py",
   "mimetype": "text/x-python",
   "name": "python",
   "nbconvert_exporter": "python",
   "pygments_lexer": "ipython3",
   "version": "3.11.5"
  }
 },
 "nbformat": 4,
 "nbformat_minor": 5
}
