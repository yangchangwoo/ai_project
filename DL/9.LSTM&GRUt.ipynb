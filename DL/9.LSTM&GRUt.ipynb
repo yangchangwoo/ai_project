{
 "cells": [
  {
   "cell_type": "markdown",
   "metadata": {},
   "source": [
    "# LSTM(Long Short-Term Memory) 구조\n",
    "\n",
    "<img src = \"./img/rnn_lstm.jpg\" width=500 height=500>\n",
    "\n",
    "- 단기 기억을 오래 하기 위해 고안되었음"
   ]
  },
  {
   "cell_type": "markdown",
   "metadata": {},
   "source": [
    "<img src = \"./img/lstm.png\" width=500 height=500>"
   ]
  },
  {
   "cell_type": "markdown",
   "metadata": {},
   "source": [
    "- 은닉 상태를 만드는 방법\n",
    "    - output gate layer(출력 게이트)\n",
    "        1. 입력과 이전 타임스텝의 은닉 상태를 가중치에 곱한 후 활성화 함수를 통과시켜 다음 은닉 상태를 만듦\n",
    "            - 이 때 기본 순환층과는 달리 시그모이드 활성화 함수를 사용\n",
    "        2. tanh 활성화 함수를 통과한 값과 곱해져서 은닉 상태를 만듦\n",
    "        \n",
    "- LSTM은 순환 되는 상태가 2개\n",
    "    - 은닉 상태(hidden state)\n",
    "    - 셀 상태(cell state)\n",
    "        - 다음 층으로 전달되지 않고 LSTM 셀에서 순환만 되는 값\n",
    "        \n",
    "- 셀 상태를 계산하는 과정\n",
    "    - forget gate layer(삭제 게이트)\n",
    "        - 정보를 제거하는 역할\n",
    "        1. 입력과 은닉 상태를 또 다른 가중치에 곱한 다음 시그모이드 함수를 통과\n",
    "        2. 이전 타임스텝의 셀 상태와 곱하여 새로운 셀 상태를 만듦\n",
    "            - 이 셀 상태가 오른쪽에서 tanh 함수를 통과하여 새로운 은닉 상태를 만드는 데 기여\n",
    "    - input gate layer(입력 게이트)\n",
    "        - 새로운 정보를 셀 상태에 추가\n",
    "        1. 입력과 은닉 상태를 각기 다른 가중치에 곱함\n",
    "        2. 하나는 시그모이드 함수, 하나는 tanh 함수를 통과\n",
    "        3. 두 결과를 곱함\n",
    "        4. 이전 셀 상태와 더함"
   ]
  },
  {
   "cell_type": "markdown",
   "metadata": {},
   "source": [
    "## 데이터 준비"
   ]
  },
  {
   "cell_type": "code",
   "execution_count": 1,
   "metadata": {},
   "outputs": [],
   "source": [
    "from tensorflow.keras.datasets import imdb\n",
    "from tensorflow.keras.preprocessing.sequence import pad_sequences\n",
    "from tensorflow import keras\n",
    "from sklearn.model_selection import train_test_split\n",
    "import matplotlib.pyplot as plt"
   ]
  },
  {
   "cell_type": "code",
   "execution_count": 2,
   "metadata": {},
   "outputs": [],
   "source": [
    "# 데이터 로드\n",
    "(x_train, y_train), (x_test, y_test) = imdb.load_data(num_words = 500)"
   ]
  },
  {
   "cell_type": "code",
   "execution_count": 3,
   "metadata": {},
   "outputs": [],
   "source": [
    "# 훈련 세트와 검증 세트로 나누기\n",
    "x_train, x_val, y_train, y_val = train_test_split(x_train, y_train,\n",
    "                                                  test_size = 0.2,\n",
    "                                                  random_state = 4)"
   ]
  },
  {
   "cell_type": "code",
   "execution_count": 4,
   "metadata": {},
   "outputs": [],
   "source": [
    "# 패딩\n",
    "train_seq = pad_sequences(x_train, maxlen = 100)\n",
    "val_seq = pad_sequences(x_val, maxlen = 100)"
   ]
  },
  {
   "cell_type": "code",
   "execution_count": 6,
   "metadata": {},
   "outputs": [],
   "source": [
    "# LSTM 모델 생성\n",
    "model = keras.Sequential()\n",
    "model.add(keras.layers.Embedding(500, 16, input_length = 100))\n",
    "model.add(keras.layers.LSTM(8))\n",
    "model.add(keras.layers.Dense(1, activation = \"sigmoid\"))"
   ]
  },
  {
   "cell_type": "code",
   "execution_count": 7,
   "metadata": {},
   "outputs": [
    {
     "name": "stdout",
     "output_type": "stream",
     "text": [
      "Model: \"sequential_1\"\n",
      "_________________________________________________________________\n",
      " Layer (type)                Output Shape              Param #   \n",
      "=================================================================\n",
      " embedding (Embedding)       (None, 100, 16)           8000      \n",
      "                                                                 \n",
      " lstm (LSTM)                 (None, 8)                 800       \n",
      "                                                                 \n",
      " dense (Dense)               (None, 1)                 9         \n",
      "                                                                 \n",
      "=================================================================\n",
      "Total params: 8,809\n",
      "Trainable params: 8,809\n",
      "Non-trainable params: 0\n",
      "_________________________________________________________________\n"
     ]
    }
   ],
   "source": [
    "model.summary()"
   ]
  },
  {
   "cell_type": "markdown",
   "metadata": {},
   "source": [
    "- LSTM 셀 파라미터 개수\n",
    "    - ((8 * 8) + (16 * 8) + 8) * 4 = 800"
   ]
  },
  {
   "cell_type": "code",
   "execution_count": 8,
   "metadata": {},
   "outputs": [],
   "source": [
    "rmsprop = keras.optimizers.RMSprop(learning_rate = 1e-4)\n",
    "model.compile(optimizer = rmsprop, loss = \"binary_crossentropy\",\n",
    "              metrics = [\"accuracy\"])\n",
    "checkpoint_cb = keras.callbacks.ModelCheckpoint(\"./model/best-lstm-model.h5\",\n",
    "                                                save_best_only = True)\n",
    "early_stopping_cb = keras.callbacks.EarlyStopping(patience = 3,\n",
    "                                                  restore_best_weights = True)"
   ]
  },
  {
   "cell_type": "code",
   "execution_count": 9,
   "metadata": {
    "scrolled": true
   },
   "outputs": [
    {
     "name": "stdout",
     "output_type": "stream",
     "text": [
      "Epoch 1/100\n",
      "313/313 [==============================] - 14s 37ms/step - loss: 0.6930 - accuracy: 0.5170 - val_loss: 0.6929 - val_accuracy: 0.5394\n",
      "Epoch 2/100\n",
      "313/313 [==============================] - 11s 36ms/step - loss: 0.6926 - accuracy: 0.5759 - val_loss: 0.6923 - val_accuracy: 0.5966\n",
      "Epoch 3/100\n",
      "313/313 [==============================] - 10s 32ms/step - loss: 0.6918 - accuracy: 0.6075 - val_loss: 0.6911 - val_accuracy: 0.6230\n",
      "Epoch 4/100\n",
      "313/313 [==============================] - 10s 32ms/step - loss: 0.6899 - accuracy: 0.6335 - val_loss: 0.6880 - val_accuracy: 0.6462\n",
      "Epoch 5/100\n",
      "313/313 [==============================] - 10s 31ms/step - loss: 0.6840 - accuracy: 0.6564 - val_loss: 0.6769 - val_accuracy: 0.6682\n",
      "Epoch 6/100\n",
      "313/313 [==============================] - 10s 31ms/step - loss: 0.6560 - accuracy: 0.6865 - val_loss: 0.6313 - val_accuracy: 0.6974\n",
      "Epoch 7/100\n",
      "313/313 [==============================] - 9s 30ms/step - loss: 0.6156 - accuracy: 0.7085 - val_loss: 0.6110 - val_accuracy: 0.6996\n",
      "Epoch 8/100\n",
      "313/313 [==============================] - 10s 31ms/step - loss: 0.5939 - accuracy: 0.7247 - val_loss: 0.5932 - val_accuracy: 0.7154\n",
      "Epoch 9/100\n",
      "313/313 [==============================] - 10s 31ms/step - loss: 0.5738 - accuracy: 0.7405 - val_loss: 0.5769 - val_accuracy: 0.7238\n",
      "Epoch 10/100\n",
      "313/313 [==============================] - 10s 31ms/step - loss: 0.5548 - accuracy: 0.7519 - val_loss: 0.5615 - val_accuracy: 0.7336\n",
      "Epoch 11/100\n",
      "313/313 [==============================] - 9s 30ms/step - loss: 0.5362 - accuracy: 0.7651 - val_loss: 0.5448 - val_accuracy: 0.7476\n",
      "Epoch 12/100\n",
      "313/313 [==============================] - 10s 31ms/step - loss: 0.5184 - accuracy: 0.7757 - val_loss: 0.5310 - val_accuracy: 0.7522\n",
      "Epoch 13/100\n",
      "313/313 [==============================] - 10s 32ms/step - loss: 0.5020 - accuracy: 0.7839 - val_loss: 0.5162 - val_accuracy: 0.7614\n",
      "Epoch 14/100\n",
      "313/313 [==============================] - 10s 32ms/step - loss: 0.4873 - accuracy: 0.7912 - val_loss: 0.5031 - val_accuracy: 0.7664\n",
      "Epoch 15/100\n",
      "313/313 [==============================] - 10s 32ms/step - loss: 0.4743 - accuracy: 0.7962 - val_loss: 0.4943 - val_accuracy: 0.7712\n",
      "Epoch 16/100\n",
      "313/313 [==============================] - 10s 32ms/step - loss: 0.4639 - accuracy: 0.7994 - val_loss: 0.4858 - val_accuracy: 0.7738\n",
      "Epoch 17/100\n",
      "313/313 [==============================] - 10s 32ms/step - loss: 0.4556 - accuracy: 0.8031 - val_loss: 0.4783 - val_accuracy: 0.7730\n",
      "Epoch 18/100\n",
      "313/313 [==============================] - 11s 34ms/step - loss: 0.4486 - accuracy: 0.8050 - val_loss: 0.4762 - val_accuracy: 0.7786\n",
      "Epoch 19/100\n",
      "313/313 [==============================] - 10s 33ms/step - loss: 0.4433 - accuracy: 0.8072 - val_loss: 0.4807 - val_accuracy: 0.7752\n",
      "Epoch 20/100\n",
      "313/313 [==============================] - 10s 32ms/step - loss: 0.4395 - accuracy: 0.8085 - val_loss: 0.4687 - val_accuracy: 0.7820\n",
      "Epoch 21/100\n",
      "313/313 [==============================] - 10s 33ms/step - loss: 0.4353 - accuracy: 0.8097 - val_loss: 0.4695 - val_accuracy: 0.7786\n",
      "Epoch 22/100\n",
      "313/313 [==============================] - 10s 32ms/step - loss: 0.4328 - accuracy: 0.8094 - val_loss: 0.4676 - val_accuracy: 0.7814\n",
      "Epoch 23/100\n",
      "313/313 [==============================] - 10s 32ms/step - loss: 0.4300 - accuracy: 0.8108 - val_loss: 0.4675 - val_accuracy: 0.7792\n",
      "Epoch 24/100\n",
      "313/313 [==============================] - 10s 32ms/step - loss: 0.4276 - accuracy: 0.8129 - val_loss: 0.4627 - val_accuracy: 0.7816\n",
      "Epoch 25/100\n",
      "313/313 [==============================] - 10s 32ms/step - loss: 0.4255 - accuracy: 0.8141 - val_loss: 0.4616 - val_accuracy: 0.7848\n",
      "Epoch 26/100\n",
      "313/313 [==============================] - 10s 32ms/step - loss: 0.4239 - accuracy: 0.8145 - val_loss: 0.4629 - val_accuracy: 0.7840\n",
      "Epoch 27/100\n",
      "313/313 [==============================] - 11s 34ms/step - loss: 0.4224 - accuracy: 0.8151 - val_loss: 0.4620 - val_accuracy: 0.7822\n",
      "Epoch 28/100\n",
      "313/313 [==============================] - 10s 32ms/step - loss: 0.4211 - accuracy: 0.8163 - val_loss: 0.4572 - val_accuracy: 0.7846\n",
      "Epoch 29/100\n",
      "313/313 [==============================] - 11s 37ms/step - loss: 0.4193 - accuracy: 0.8162 - val_loss: 0.4604 - val_accuracy: 0.7828\n",
      "Epoch 30/100\n",
      "313/313 [==============================] - 11s 35ms/step - loss: 0.4185 - accuracy: 0.8146 - val_loss: 0.4569 - val_accuracy: 0.7882\n",
      "Epoch 31/100\n",
      "313/313 [==============================] - 11s 35ms/step - loss: 0.4175 - accuracy: 0.8177 - val_loss: 0.4556 - val_accuracy: 0.7880\n",
      "Epoch 32/100\n",
      "313/313 [==============================] - 11s 34ms/step - loss: 0.4164 - accuracy: 0.8175 - val_loss: 0.4548 - val_accuracy: 0.7850\n",
      "Epoch 33/100\n",
      "313/313 [==============================] - 11s 35ms/step - loss: 0.4160 - accuracy: 0.8174 - val_loss: 0.4542 - val_accuracy: 0.7882\n",
      "Epoch 34/100\n",
      "313/313 [==============================] - 11s 35ms/step - loss: 0.4149 - accuracy: 0.8185 - val_loss: 0.4527 - val_accuracy: 0.7872\n",
      "Epoch 35/100\n",
      "313/313 [==============================] - 10s 31ms/step - loss: 0.4138 - accuracy: 0.8183 - val_loss: 0.4516 - val_accuracy: 0.7868\n",
      "Epoch 36/100\n",
      "313/313 [==============================] - 10s 31ms/step - loss: 0.4131 - accuracy: 0.8199 - val_loss: 0.4560 - val_accuracy: 0.7872\n",
      "Epoch 37/100\n",
      "313/313 [==============================] - 10s 32ms/step - loss: 0.4128 - accuracy: 0.8194 - val_loss: 0.4523 - val_accuracy: 0.7890\n",
      "Epoch 38/100\n",
      "313/313 [==============================] - 10s 32ms/step - loss: 0.4116 - accuracy: 0.8202 - val_loss: 0.4562 - val_accuracy: 0.7882\n"
     ]
    }
   ],
   "source": [
    "history = model.fit(train_seq, y_train, epochs = 100, batch_size = 64,\n",
    "                    validation_data = (val_seq, y_val),\n",
    "                    callbacks = [checkpoint_cb, early_stopping_cb])"
   ]
  },
  {
   "cell_type": "code",
   "execution_count": 10,
   "metadata": {},
   "outputs": [
    {
     "data": {
      "image/png": "[encoded data removed]",
      "text/plain": [
       "<Figure size 432x288 with 1 Axes>"
      ]
     },
     "metadata": {
      "needs_background": "light"
     },
     "output_type": "display_data"
    }
   ],
   "source": [
    "plt.figure()\n",
    "\n",
    "plt.plot(history.history[\"loss\"], label = \"train_loss\")\n",
    "plt.plot(history.history[\"val_loss\"], label = \"val_loss\")\n",
    "plt.plot(history.history[\"accuracy\"], label = \"train_acc\")\n",
    "plt.plot(history.history[\"val_accuracy\"], label = \"val_acc\")\n",
    "\n",
    "plt.xlabel(\"epoch\")\n",
    "plt.legend()\n",
    "plt.show()"
   ]
  },
  {
   "cell_type": "markdown",
   "metadata": {},
   "source": [
    "# GRU(Grated Recurrent Unit) 구조\n",
    "\n",
    "<img src = \"./img/rnn_lstm_gru.png\">"
   ]
  },
  {
   "cell_type": "markdown",
   "metadata": {},
   "source": [
    "- LSTM을 간소화한 버전\n",
    "- LSTM처럼 셀 상태를 계산하지 않고 은닉 상태 하나만 포함\n",
    "- LSTM보다 가중치가 적기 때문에 계산량이 적지만 성능은 LSTM과 유사함\n",
    "    - 데이터 양이 적을 때는 GRU의 성능이 더 좋고 데이터 양이 많을 때는 LSTM의 성능이 더 좋아지는 경향이 있음\n",
    "    - GRU와 LSTM 중 어떤 것이 더 낫다라고 말할 수는 없음"
   ]
  },
  {
   "cell_type": "markdown",
   "metadata": {},
   "source": [
    "<img src = \"./img/gru.png\" width=500 height=500>"
   ]
  },
  {
   "cell_type": "markdown",
   "metadata": {},
   "source": [
    "- GRU 셀에는 은닉 상태와 입력에 가중치를 곱하고 절편을 더하는 작은 셀 3개가 들어 있음\n",
    "    - 2개는 시그모이드 활성화 함수를 사용하고 하나는 tanh활성화 함수를 사용\n",
    "- reset_gate\n",
    "    - 셀의 출력이 은닉 상태에 바로 곱해져 삭제 게이트 역할을 수행\n",
    "- update_gate\n",
    "    - 어떤 정보를 얼마만큼 유지하고 어떤 정보를 추가할지 결정하는 역할"
   ]
  },
  {
   "cell_type": "code",
   "execution_count": 11,
   "metadata": {},
   "outputs": [],
   "source": [
    "model2 = keras.Sequential()\n",
    "model2.add(keras.layers.Embedding(500, 16, input_length = 100))\n",
    "model2.add(keras.layers.GRU(8))\n",
    "model2.add(keras.layers.Dense(1, activation = \"sigmoid\"))"
   ]
  },
  {
   "cell_type": "code",
   "execution_count": 12,
   "metadata": {},
   "outputs": [
    {
     "name": "stdout",
     "output_type": "stream",
     "text": [
      "Model: \"sequential_2\"\n",
      "_________________________________________________________________\n",
      " Layer (type)                Output Shape              Param #   \n",
      "=================================================================\n",
      " embedding_1 (Embedding)     (None, 100, 16)           8000      \n",
      "                                                                 \n",
      " gru (GRU)                   (None, 8)                 624       \n",
      "                                                                 \n",
      " dense_1 (Dense)             (None, 1)                 9         \n",
      "                                                                 \n",
      "=================================================================\n",
      "Total params: 8,633\n",
      "Trainable params: 8,633\n",
      "Non-trainable params: 0\n",
      "_________________________________________________________________\n"
     ]
    }
   ],
   "source": [
    "model2.summary()"
   ]
  },
  {
   "cell_type": "code",
   "execution_count": 14,
   "metadata": {},
   "outputs": [
    {
     "data": {
      "text/plain": [
       "624"
      ]
     },
     "execution_count": 14,
     "metadata": {},
     "output_type": "execute_result"
    }
   ],
   "source": [
    "((16 * 8) + (8 * 8) + 8 + 8) * 3"
   ]
  },
  {
   "cell_type": "code",
   "execution_count": 15,
   "metadata": {},
   "outputs": [],
   "source": [
    "rmsprop = keras.optimizers.RMSprop(learning_rate = 1e-4)\n",
    "model2.compile(optimizer = rmsprop, loss = \"binary_crossentropy\",\n",
    "              metrics = [\"accuracy\"])\n",
    "checkpoint_cb = keras.callbacks.ModelCheckpoint(\"./model/best-gru-model.h5\",\n",
    "                                                save_best_only = True)\n",
    "early_stopping_cb = keras.callbacks.EarlyStopping(patience = 3,\n",
    "                                                  restore_best_weights = True)"
   ]
  },
  {
   "cell_type": "code",
   "execution_count": 16,
   "metadata": {
    "scrolled": true
   },
   "outputs": [
    {
     "name": "stdout",
     "output_type": "stream",
     "text": [
      "Epoch 1/100\n",
      "313/313 [==============================] - 15s 36ms/step - loss: 0.6931 - accuracy: 0.5055 - val_loss: 0.6926 - val_accuracy: 0.5138\n",
      "Epoch 2/100\n",
      "313/313 [==============================] - 13s 42ms/step - loss: 0.6922 - accuracy: 0.5422 - val_loss: 0.6918 - val_accuracy: 0.5434\n",
      "Epoch 3/100\n",
      "313/313 [==============================] - 14s 44ms/step - loss: 0.6911 - accuracy: 0.5625 - val_loss: 0.6906 - val_accuracy: 0.5558\n",
      "Epoch 4/100\n",
      "313/313 [==============================] - 11s 35ms/step - loss: 0.6895 - accuracy: 0.5712 - val_loss: 0.6888 - val_accuracy: 0.5648\n",
      "Epoch 5/100\n",
      "313/313 [==============================] - 11s 34ms/step - loss: 0.6871 - accuracy: 0.5796 - val_loss: 0.6863 - val_accuracy: 0.5716\n",
      "Epoch 6/100\n",
      "313/313 [==============================] - 11s 34ms/step - loss: 0.6838 - accuracy: 0.5879 - val_loss: 0.6825 - val_accuracy: 0.5816\n",
      "Epoch 7/100\n",
      "313/313 [==============================] - 12s 39ms/step - loss: 0.6790 - accuracy: 0.5967 - val_loss: 0.6772 - val_accuracy: 0.5914\n",
      "Epoch 8/100\n",
      "313/313 [==============================] - 11s 36ms/step - loss: 0.6724 - accuracy: 0.6037 - val_loss: 0.6696 - val_accuracy: 0.6018\n",
      "Epoch 9/100\n",
      "313/313 [==============================] - 11s 36ms/step - loss: 0.6632 - accuracy: 0.6180 - val_loss: 0.6589 - val_accuracy: 0.6172\n",
      "Epoch 10/100\n",
      "313/313 [==============================] - 10s 32ms/step - loss: 0.6505 - accuracy: 0.6327 - val_loss: 0.6432 - val_accuracy: 0.6360\n",
      "Epoch 11/100\n",
      "313/313 [==============================] - 10s 32ms/step - loss: 0.6321 - accuracy: 0.6508 - val_loss: 0.6200 - val_accuracy: 0.6626\n",
      "Epoch 12/100\n",
      "313/313 [==============================] - 10s 32ms/step - loss: 0.6032 - accuracy: 0.6788 - val_loss: 0.5820 - val_accuracy: 0.6930\n",
      "Epoch 13/100\n",
      "313/313 [==============================] - 10s 33ms/step - loss: 0.5532 - accuracy: 0.7193 - val_loss: 0.5307 - val_accuracy: 0.7300\n",
      "Epoch 14/100\n",
      "313/313 [==============================] - 10s 33ms/step - loss: 0.5112 - accuracy: 0.7504 - val_loss: 0.5145 - val_accuracy: 0.7486\n",
      "Epoch 15/100\n",
      "313/313 [==============================] - 10s 33ms/step - loss: 0.4921 - accuracy: 0.7645 - val_loss: 0.4970 - val_accuracy: 0.7602\n",
      "Epoch 16/100\n",
      "313/313 [==============================] - 10s 33ms/step - loss: 0.4781 - accuracy: 0.7760 - val_loss: 0.4868 - val_accuracy: 0.7652\n",
      "Epoch 17/100\n",
      "313/313 [==============================] - 10s 32ms/step - loss: 0.4675 - accuracy: 0.7829 - val_loss: 0.4824 - val_accuracy: 0.7676\n",
      "Epoch 18/100\n",
      "313/313 [==============================] - 10s 32ms/step - loss: 0.4588 - accuracy: 0.7891 - val_loss: 0.4744 - val_accuracy: 0.7764\n",
      "Epoch 19/100\n",
      "313/313 [==============================] - 10s 33ms/step - loss: 0.4520 - accuracy: 0.7950 - val_loss: 0.4720 - val_accuracy: 0.7732\n",
      "Epoch 20/100\n",
      "313/313 [==============================] - 10s 32ms/step - loss: 0.4460 - accuracy: 0.7976 - val_loss: 0.4674 - val_accuracy: 0.7744\n",
      "Epoch 21/100\n",
      "313/313 [==============================] - 10s 32ms/step - loss: 0.4413 - accuracy: 0.8004 - val_loss: 0.4646 - val_accuracy: 0.7756\n",
      "Epoch 22/100\n",
      "313/313 [==============================] - 10s 32ms/step - loss: 0.4374 - accuracy: 0.8033 - val_loss: 0.4616 - val_accuracy: 0.7780\n",
      "Epoch 23/100\n",
      "313/313 [==============================] - 10s 33ms/step - loss: 0.4339 - accuracy: 0.8059 - val_loss: 0.4647 - val_accuracy: 0.7782\n",
      "Epoch 24/100\n",
      "313/313 [==============================] - 10s 33ms/step - loss: 0.4315 - accuracy: 0.8080 - val_loss: 0.4615 - val_accuracy: 0.7778\n",
      "Epoch 25/100\n",
      "313/313 [==============================] - 10s 33ms/step - loss: 0.4287 - accuracy: 0.8084 - val_loss: 0.4604 - val_accuracy: 0.7796\n",
      "Epoch 26/100\n",
      "313/313 [==============================] - 10s 33ms/step - loss: 0.4267 - accuracy: 0.8109 - val_loss: 0.4566 - val_accuracy: 0.7816\n",
      "Epoch 27/100\n",
      "313/313 [==============================] - 10s 33ms/step - loss: 0.4243 - accuracy: 0.8117 - val_loss: 0.4596 - val_accuracy: 0.7804\n",
      "Epoch 28/100\n",
      "313/313 [==============================] - 10s 32ms/step - loss: 0.4232 - accuracy: 0.8116 - val_loss: 0.4555 - val_accuracy: 0.7808\n",
      "Epoch 29/100\n",
      "313/313 [==============================] - 10s 33ms/step - loss: 0.4219 - accuracy: 0.8122 - val_loss: 0.4549 - val_accuracy: 0.7818\n",
      "Epoch 30/100\n",
      "313/313 [==============================] - 10s 32ms/step - loss: 0.4203 - accuracy: 0.8140 - val_loss: 0.4535 - val_accuracy: 0.7860\n",
      "Epoch 31/100\n",
      "313/313 [==============================] - 10s 32ms/step - loss: 0.4193 - accuracy: 0.8132 - val_loss: 0.4555 - val_accuracy: 0.7828\n",
      "Epoch 32/100\n",
      "313/313 [==============================] - 10s 32ms/step - loss: 0.4185 - accuracy: 0.8140 - val_loss: 0.4540 - val_accuracy: 0.7836\n",
      "Epoch 33/100\n",
      "313/313 [==============================] - 11s 34ms/step - loss: 0.4175 - accuracy: 0.8133 - val_loss: 0.4519 - val_accuracy: 0.7852\n",
      "Epoch 34/100\n",
      "313/313 [==============================] - 10s 33ms/step - loss: 0.4167 - accuracy: 0.8157 - val_loss: 0.4517 - val_accuracy: 0.7884\n",
      "Epoch 35/100\n",
      "313/313 [==============================] - 11s 35ms/step - loss: 0.4168 - accuracy: 0.8145 - val_loss: 0.4509 - val_accuracy: 0.7872\n",
      "Epoch 36/100\n",
      "313/313 [==============================] - 10s 33ms/step - loss: 0.4156 - accuracy: 0.8158 - val_loss: 0.4540 - val_accuracy: 0.7840\n",
      "Epoch 37/100\n",
      "313/313 [==============================] - 10s 32ms/step - loss: 0.4152 - accuracy: 0.8159 - val_loss: 0.4555 - val_accuracy: 0.7814\n",
      "Epoch 38/100\n",
      "313/313 [==============================] - 10s 33ms/step - loss: 0.4144 - accuracy: 0.8177 - val_loss: 0.4513 - val_accuracy: 0.7882\n"
     ]
    }
   ],
   "source": [
    "history = model2.fit(train_seq, y_train, epochs = 100, batch_size = 64,\n",
    "                    validation_data = (val_seq, y_val),\n",
    "                    callbacks = [checkpoint_cb, early_stopping_cb])"
   ]
  },
  {
   "cell_type": "code",
   "execution_count": 17,
   "metadata": {},
   "outputs": [
    {
     "data": {
      "image/png": "[encoded data removed]",
      "text/plain": [
       "<Figure size 432x288 with 1 Axes>"
      ]
     },
     "metadata": {
      "needs_background": "light"
     },
     "output_type": "display_data"
    }
   ],
   "source": [
    "plt.figure()\n",
    "\n",
    "plt.plot(history.history[\"loss\"], label = \"train_loss\")\n",
    "plt.plot(history.history[\"val_loss\"], label = \"val_loss\")\n",
    "plt.plot(history.history[\"accuracy\"], label = \"train_acc\")\n",
    "plt.plot(history.history[\"val_accuracy\"], label = \"val_acc\")\n",
    "\n",
    "plt.xlabel(\"epoch\")\n",
    "plt.legend()\n",
    "plt.show()"
   ]
  },
  {
   "cell_type": "markdown",
   "metadata": {},
   "source": [
    "# 순환층에 드롭아웃 적용\n",
    "\n",
    "- 순환층은 자체적으로 드롭아웃 기능을 제공\n",
    "    - SimpleRNN과 LSTM 클래스 모두 dropout 매개변수와 recurrent_dropout 매개변수를 가지고 있음\n",
    "        - dropout : 셀의 입력에 드롭아웃을 적용\n",
    "        - recurrent_dropout : 순환되는 은닉 상태에 드롭아웃을 적용\n",
    "            - 버전에 따라 recurrent_dropout이 GPU를 사용하지 못하는 경우가 있음"
   ]
  },
  {
   "cell_type": "code",
   "execution_count": 5,
   "metadata": {},
   "outputs": [],
   "source": [
    "model3 = keras.Sequential()\n",
    "model3.add(keras.layers.Embedding(500, 16, input_length=100))\n",
    "model3.add(keras.layers.LSTM(8, dropout = 0.3))\n",
    "model3.add(keras.layers.Dense(1, activation = \"sigmoid\"))"
   ]
  },
  {
   "cell_type": "code",
   "execution_count": 6,
   "metadata": {},
   "outputs": [],
   "source": [
    "rmsprop = keras.optimizers.RMSprop(learning_rate = 1e-4)\n",
    "model3.compile(optimizer = rmsprop, loss = \"binary_crossentropy\",\n",
    "              metrics = [\"accuracy\"])\n",
    "checkpoint_cb = keras.callbacks.ModelCheckpoint(\"./model/best-dropout-model.h5\",\n",
    "                                                save_best_only = True)\n",
    "early_stopping_cb = keras.callbacks.EarlyStopping(patience = 3,\n",
    "                                                  restore_best_weights = True)"
   ]
  },
  {
   "cell_type": "code",
   "execution_count": 7,
   "metadata": {
    "scrolled": true
   },
   "outputs": [
    {
     "name": "stdout",
     "output_type": "stream",
     "text": [
      "Epoch 1/100\n",
      "313/313 [==============================] - 14s 35ms/step - loss: 0.6924 - accuracy: 0.5225 - val_loss: 0.6915 - val_accuracy: 0.5618\n",
      "Epoch 2/100\n",
      "313/313 [==============================] - 10s 33ms/step - loss: 0.6908 - accuracy: 0.5690 - val_loss: 0.6894 - val_accuracy: 0.6008\n",
      "Epoch 3/100\n",
      "313/313 [==============================] - 10s 33ms/step - loss: 0.6879 - accuracy: 0.6022 - val_loss: 0.6850 - val_accuracy: 0.6264\n",
      "Epoch 4/100\n",
      "313/313 [==============================] - 11s 35ms/step - loss: 0.6810 - accuracy: 0.6249 - val_loss: 0.6739 - val_accuracy: 0.6558\n",
      "Epoch 5/100\n",
      "313/313 [==============================] - 11s 36ms/step - loss: 0.6604 - accuracy: 0.6614 - val_loss: 0.6348 - val_accuracy: 0.6954\n",
      "Epoch 6/100\n",
      "313/313 [==============================] - 11s 36ms/step - loss: 0.6059 - accuracy: 0.7115 - val_loss: 0.5928 - val_accuracy: 0.7102\n",
      "Epoch 7/100\n",
      "313/313 [==============================] - 10s 32ms/step - loss: 0.5770 - accuracy: 0.7264 - val_loss: 0.5746 - val_accuracy: 0.7256\n",
      "Epoch 8/100\n",
      "313/313 [==============================] - 11s 34ms/step - loss: 0.5585 - accuracy: 0.7401 - val_loss: 0.5570 - val_accuracy: 0.7308\n",
      "Epoch 9/100\n",
      "313/313 [==============================] - 10s 32ms/step - loss: 0.5382 - accuracy: 0.7558 - val_loss: 0.5418 - val_accuracy: 0.7430\n",
      "Epoch 10/100\n",
      "313/313 [==============================] - 10s 32ms/step - loss: 0.5227 - accuracy: 0.7631 - val_loss: 0.5267 - val_accuracy: 0.7510\n",
      "Epoch 11/100\n",
      "313/313 [==============================] - 10s 32ms/step - loss: 0.5069 - accuracy: 0.7707 - val_loss: 0.5132 - val_accuracy: 0.7546\n",
      "Epoch 12/100\n",
      "313/313 [==============================] - 10s 32ms/step - loss: 0.4935 - accuracy: 0.7764 - val_loss: 0.5029 - val_accuracy: 0.7602\n",
      "Epoch 13/100\n",
      "313/313 [==============================] - 10s 32ms/step - loss: 0.4804 - accuracy: 0.7833 - val_loss: 0.4919 - val_accuracy: 0.7674\n",
      "Epoch 14/100\n",
      "313/313 [==============================] - 10s 33ms/step - loss: 0.4704 - accuracy: 0.7878 - val_loss: 0.4822 - val_accuracy: 0.7732\n",
      "Epoch 15/100\n",
      "313/313 [==============================] - 11s 34ms/step - loss: 0.4613 - accuracy: 0.7936 - val_loss: 0.4770 - val_accuracy: 0.7760\n",
      "Epoch 16/100\n",
      "313/313 [==============================] - 10s 33ms/step - loss: 0.4551 - accuracy: 0.7962 - val_loss: 0.4715 - val_accuracy: 0.7800\n",
      "Epoch 17/100\n",
      "313/313 [==============================] - 10s 33ms/step - loss: 0.4509 - accuracy: 0.7961 - val_loss: 0.4670 - val_accuracy: 0.7812\n",
      "Epoch 18/100\n",
      "313/313 [==============================] - 10s 32ms/step - loss: 0.4455 - accuracy: 0.8009 - val_loss: 0.4673 - val_accuracy: 0.7780\n",
      "Epoch 19/100\n",
      "313/313 [==============================] - 10s 33ms/step - loss: 0.4446 - accuracy: 0.7987 - val_loss: 0.4631 - val_accuracy: 0.7802\n",
      "Epoch 20/100\n",
      "313/313 [==============================] - 10s 32ms/step - loss: 0.4398 - accuracy: 0.8032 - val_loss: 0.4596 - val_accuracy: 0.7850\n",
      "Epoch 21/100\n",
      "313/313 [==============================] - 11s 35ms/step - loss: 0.4384 - accuracy: 0.8012 - val_loss: 0.4587 - val_accuracy: 0.7808\n",
      "Epoch 22/100\n",
      "313/313 [==============================] - 11s 34ms/step - loss: 0.4328 - accuracy: 0.8055 - val_loss: 0.4594 - val_accuracy: 0.7812\n",
      "Epoch 23/100\n",
      "313/313 [==============================] - 11s 34ms/step - loss: 0.4333 - accuracy: 0.8049 - val_loss: 0.4530 - val_accuracy: 0.7824\n",
      "Epoch 24/100\n",
      "313/313 [==============================] - 10s 33ms/step - loss: 0.4295 - accuracy: 0.8073 - val_loss: 0.4527 - val_accuracy: 0.7840\n",
      "Epoch 25/100\n",
      "313/313 [==============================] - 10s 32ms/step - loss: 0.4278 - accuracy: 0.8069 - val_loss: 0.4511 - val_accuracy: 0.7836\n",
      "Epoch 26/100\n",
      "313/313 [==============================] - 10s 33ms/step - loss: 0.4274 - accuracy: 0.8061 - val_loss: 0.4527 - val_accuracy: 0.7822\n",
      "Epoch 27/100\n",
      "313/313 [==============================] - 10s 32ms/step - loss: 0.4245 - accuracy: 0.8105 - val_loss: 0.4500 - val_accuracy: 0.7832\n",
      "Epoch 28/100\n",
      "313/313 [==============================] - 10s 32ms/step - loss: 0.4247 - accuracy: 0.8081 - val_loss: 0.4477 - val_accuracy: 0.7838\n",
      "Epoch 29/100\n",
      "313/313 [==============================] - 10s 32ms/step - loss: 0.4216 - accuracy: 0.8101 - val_loss: 0.4473 - val_accuracy: 0.7860\n",
      "Epoch 30/100\n",
      "313/313 [==============================] - 10s 33ms/step - loss: 0.4224 - accuracy: 0.8089 - val_loss: 0.4476 - val_accuracy: 0.7842\n",
      "Epoch 31/100\n",
      "313/313 [==============================] - 10s 33ms/step - loss: 0.4205 - accuracy: 0.8104 - val_loss: 0.4448 - val_accuracy: 0.7858\n",
      "Epoch 32/100\n",
      "313/313 [==============================] - 11s 34ms/step - loss: 0.4200 - accuracy: 0.8087 - val_loss: 0.4459 - val_accuracy: 0.7848\n",
      "Epoch 33/100\n",
      "313/313 [==============================] - 10s 33ms/step - loss: 0.4181 - accuracy: 0.8091 - val_loss: 0.4439 - val_accuracy: 0.7852\n",
      "Epoch 34/100\n",
      "313/313 [==============================] - 10s 33ms/step - loss: 0.4181 - accuracy: 0.8126 - val_loss: 0.4431 - val_accuracy: 0.7868\n",
      "Epoch 35/100\n",
      "313/313 [==============================] - 10s 33ms/step - loss: 0.4185 - accuracy: 0.8106 - val_loss: 0.4460 - val_accuracy: 0.7866\n",
      "Epoch 36/100\n",
      "313/313 [==============================] - 10s 33ms/step - loss: 0.4151 - accuracy: 0.8116 - val_loss: 0.4437 - val_accuracy: 0.7856\n",
      "Epoch 37/100\n",
      "313/313 [==============================] - 10s 34ms/step - loss: 0.4161 - accuracy: 0.8121 - val_loss: 0.4437 - val_accuracy: 0.7884\n"
     ]
    }
   ],
   "source": [
    "history = model3.fit(train_seq, y_train, epochs = 100, batch_size = 64,\n",
    "                    validation_data = (val_seq, y_val),\n",
    "                    callbacks = [checkpoint_cb, early_stopping_cb])"
   ]
  },
  {
   "cell_type": "code",
   "execution_count": 8,
   "metadata": {},
   "outputs": [
    {
     "data": {
      "image/png": "[encoded data removed]",
      "text/plain": [
       "<Figure size 432x288 with 1 Axes>"
      ]
     },
     "metadata": {
      "needs_background": "light"
     },
     "output_type": "display_data"
    }
   ],
   "source": [
    "plt.figure()\n",
    "\n",
    "plt.plot(history.history[\"loss\"], label = \"train_loss\")\n",
    "plt.plot(history.history[\"val_loss\"], label = \"val_loss\")\n",
    "plt.plot(history.history[\"accuracy\"], label = \"train_acc\")\n",
    "plt.plot(history.history[\"val_accuracy\"], label = \"val_acc\")\n",
    "\n",
    "plt.xlabel(\"epoch\")\n",
    "plt.legend()\n",
    "plt.show()"
   ]
  },
  {
   "cell_type": "markdown",
   "metadata": {},
   "source": [
    "# 2개의 층을 연결\n",
    "\n",
    "- 순환층을 연결할 때의 주의점\n",
    "    - 순환층의 은닉 상태는 샘플의 마지막 타임스텝에 대한 은닉 상태만 다음 층으로 전달\n",
    "        - 순환층을 쌓게 되면 모든 순환층에 순차 데이터가 필요함\n",
    "        - 앞쪽의 순환층이 모든 타임스텝에 대한 은닉 상태를 출력해야함\n",
    "            - return_sequences 매개변수를 True로 지정"
   ]
  },
  {
   "cell_type": "code",
   "execution_count": 9,
   "metadata": {},
   "outputs": [],
   "source": [
    "model4 = keras.Sequential()\n",
    "model4.add(keras.layers.Embedding(500, 16, input_length = 100))\n",
    "model4.add(keras.layers.LSTM(8, dropout = 0.3, return_sequences = True))\n",
    "model4.add(keras.layers.LSTM(8, dropout = 0.3))\n",
    "model4.add(keras.layers.Dense(1, activation = \"sigmoid\"))"
   ]
  },
  {
   "cell_type": "code",
   "execution_count": 10,
   "metadata": {},
   "outputs": [
    {
     "name": "stdout",
     "output_type": "stream",
     "text": [
      "Model: \"sequential_1\"\n",
      "_________________________________________________________________\n",
      " Layer (type)                Output Shape              Param #   \n",
      "=================================================================\n",
      " embedding_1 (Embedding)     (None, 100, 16)           8000      \n",
      "                                                                 \n",
      " lstm_1 (LSTM)               (None, 100, 8)            800       \n",
      "                                                                 \n",
      " lstm_2 (LSTM)               (None, 8)                 544       \n",
      "                                                                 \n",
      " dense_1 (Dense)             (None, 1)                 9         \n",
      "                                                                 \n",
      "=================================================================\n",
      "Total params: 9,353\n",
      "Trainable params: 9,353\n",
      "Non-trainable params: 0\n",
      "_________________________________________________________________\n"
     ]
    }
   ],
   "source": [
    "model4.summary()"
   ]
  },
  {
   "cell_type": "markdown",
   "metadata": {},
   "source": [
    "- 첫 번째 LSTM\n",
    "    - 모든 타입스텝(100개)의 은닉상태를 출력하기 때문에 출력의 크기가 (None, 100, 8)\n",
    "- 두 번째 LSTM\n",
    "    - 마지막 타임스텝의 은닉상태만 출력하기 때문에 출력의 크기가 (None, 8)"
   ]
  },
  {
   "cell_type": "code",
   "execution_count": 11,
   "metadata": {},
   "outputs": [],
   "source": [
    "rmsprop = keras.optimizers.RMSprop(learning_rate = 1e-4)\n",
    "model4.compile(optimizer = rmsprop, loss = \"binary_crossentropy\",\n",
    "              metrics = [\"accuracy\"])\n",
    "checkpoint_cb = keras.callbacks.ModelCheckpoint(\"./model/best-2rnn-model.h5\",\n",
    "                                                save_best_only = True)\n",
    "early_stopping_cb = keras.callbacks.EarlyStopping(patience = 3,\n",
    "                                                  restore_best_weights = True)"
   ]
  },
  {
   "cell_type": "code",
   "execution_count": 12,
   "metadata": {},
   "outputs": [
    {
     "name": "stdout",
     "output_type": "stream",
     "text": [
      "Epoch 1/100\n",
      "313/313 [==============================] - 29s 72ms/step - loss: 0.6931 - accuracy: 0.4990 - val_loss: 0.6931 - val_accuracy: 0.5228\n",
      "Epoch 2/100\n",
      "313/313 [==============================] - 22s 70ms/step - loss: 0.6930 - accuracy: 0.5179 - val_loss: 0.6929 - val_accuracy: 0.5258\n",
      "Epoch 3/100\n",
      "313/313 [==============================] - 20s 64ms/step - loss: 0.6927 - accuracy: 0.5551 - val_loss: 0.6924 - val_accuracy: 0.5680\n",
      "Epoch 4/100\n",
      "313/313 [==============================] - 19s 61ms/step - loss: 0.6921 - accuracy: 0.5847 - val_loss: 0.6911 - val_accuracy: 0.6200\n",
      "Epoch 5/100\n",
      "313/313 [==============================] - 17s 55ms/step - loss: 0.6894 - accuracy: 0.6190 - val_loss: 0.6851 - val_accuracy: 0.6614\n",
      "Epoch 6/100\n",
      "313/313 [==============================] - 17s 54ms/step - loss: 0.6709 - accuracy: 0.6676 - val_loss: 0.6446 - val_accuracy: 0.6850\n",
      "Epoch 7/100\n",
      "313/313 [==============================] - 16s 53ms/step - loss: 0.6162 - accuracy: 0.6956 - val_loss: 0.6029 - val_accuracy: 0.6860\n",
      "Epoch 8/100\n",
      "313/313 [==============================] - 15s 47ms/step - loss: 0.5785 - accuracy: 0.7148 - val_loss: 0.5716 - val_accuracy: 0.7128\n",
      "Epoch 9/100\n",
      "313/313 [==============================] - 15s 47ms/step - loss: 0.5505 - accuracy: 0.7329 - val_loss: 0.5520 - val_accuracy: 0.7266\n",
      "Epoch 10/100\n",
      "313/313 [==============================] - 15s 46ms/step - loss: 0.5303 - accuracy: 0.7484 - val_loss: 0.5328 - val_accuracy: 0.7436\n",
      "Epoch 11/100\n",
      "313/313 [==============================] - 15s 46ms/step - loss: 0.5100 - accuracy: 0.7624 - val_loss: 0.5171 - val_accuracy: 0.7506\n",
      "Epoch 12/100\n",
      "313/313 [==============================] - 15s 48ms/step - loss: 0.4974 - accuracy: 0.7696 - val_loss: 0.5053 - val_accuracy: 0.7546\n",
      "Epoch 13/100\n",
      "313/313 [==============================] - 16s 50ms/step - loss: 0.4863 - accuracy: 0.7772 - val_loss: 0.4970 - val_accuracy: 0.7600\n",
      "Epoch 14/100\n",
      "313/313 [==============================] - 16s 51ms/step - loss: 0.4781 - accuracy: 0.7791 - val_loss: 0.4894 - val_accuracy: 0.7664\n",
      "Epoch 15/100\n",
      "313/313 [==============================] - 16s 50ms/step - loss: 0.4666 - accuracy: 0.7878 - val_loss: 0.4836 - val_accuracy: 0.7706\n",
      "Epoch 16/100\n",
      "313/313 [==============================] - 14s 44ms/step - loss: 0.4634 - accuracy: 0.7893 - val_loss: 0.4789 - val_accuracy: 0.7682\n",
      "Epoch 17/100\n",
      "313/313 [==============================] - 16s 51ms/step - loss: 0.4562 - accuracy: 0.7940 - val_loss: 0.4738 - val_accuracy: 0.7718\n",
      "Epoch 18/100\n",
      "313/313 [==============================] - 15s 49ms/step - loss: 0.4538 - accuracy: 0.7940 - val_loss: 0.4690 - val_accuracy: 0.7748\n",
      "Epoch 19/100\n",
      "313/313 [==============================] - 15s 47ms/step - loss: 0.4486 - accuracy: 0.7943 - val_loss: 0.4663 - val_accuracy: 0.7778\n",
      "Epoch 20/100\n",
      "313/313 [==============================] - 15s 48ms/step - loss: 0.4463 - accuracy: 0.7969 - val_loss: 0.4657 - val_accuracy: 0.7774\n",
      "Epoch 21/100\n",
      "313/313 [==============================] - 16s 50ms/step - loss: 0.4418 - accuracy: 0.7992 - val_loss: 0.4598 - val_accuracy: 0.7798\n",
      "Epoch 22/100\n",
      "313/313 [==============================] - 13s 43ms/step - loss: 0.4400 - accuracy: 0.7973 - val_loss: 0.4607 - val_accuracy: 0.7798\n",
      "Epoch 23/100\n",
      "313/313 [==============================] - 14s 46ms/step - loss: 0.4386 - accuracy: 0.8023 - val_loss: 0.4605 - val_accuracy: 0.7786\n",
      "Epoch 24/100\n",
      "313/313 [==============================] - 16s 51ms/step - loss: 0.4357 - accuracy: 0.8015 - val_loss: 0.4557 - val_accuracy: 0.7830\n",
      "Epoch 25/100\n",
      "313/313 [==============================] - 17s 56ms/step - loss: 0.4368 - accuracy: 0.8016 - val_loss: 0.4561 - val_accuracy: 0.7826\n",
      "Epoch 26/100\n",
      "313/313 [==============================] - 17s 54ms/step - loss: 0.4322 - accuracy: 0.8045 - val_loss: 0.4516 - val_accuracy: 0.7844\n",
      "Epoch 27/100\n",
      "313/313 [==============================] - 20s 64ms/step - loss: 0.4313 - accuracy: 0.8062 - val_loss: 0.4514 - val_accuracy: 0.7840\n",
      "Epoch 28/100\n",
      "313/313 [==============================] - 18s 57ms/step - loss: 0.4321 - accuracy: 0.8047 - val_loss: 0.4515 - val_accuracy: 0.7844\n",
      "Epoch 29/100\n",
      "313/313 [==============================] - 17s 55ms/step - loss: 0.4288 - accuracy: 0.8062 - val_loss: 0.4477 - val_accuracy: 0.7862\n",
      "Epoch 30/100\n",
      "313/313 [==============================] - 17s 55ms/step - loss: 0.4266 - accuracy: 0.8062 - val_loss: 0.4486 - val_accuracy: 0.7856\n",
      "Epoch 31/100\n",
      "313/313 [==============================] - 17s 54ms/step - loss: 0.4259 - accuracy: 0.8088 - val_loss: 0.4450 - val_accuracy: 0.7868\n",
      "Epoch 32/100\n",
      "313/313 [==============================] - 17s 54ms/step - loss: 0.4240 - accuracy: 0.8056 - val_loss: 0.4460 - val_accuracy: 0.7880\n",
      "Epoch 33/100\n",
      "313/313 [==============================] - 18s 57ms/step - loss: 0.4243 - accuracy: 0.8066 - val_loss: 0.4561 - val_accuracy: 0.7826\n",
      "Epoch 34/100\n",
      "313/313 [==============================] - 19s 60ms/step - loss: 0.4240 - accuracy: 0.8084 - val_loss: 0.4457 - val_accuracy: 0.7890\n"
     ]
    }
   ],
   "source": [
    "history = model4.fit(train_seq, y_train, epochs = 100, batch_size = 64,\n",
    "                    validation_data = (val_seq, y_val),\n",
    "                    callbacks = [checkpoint_cb, early_stopping_cb])"
   ]
  },
  {
   "cell_type": "code",
   "execution_count": 13,
   "metadata": {},
   "outputs": [
    {
     "data": {
      "image/png": "[encoded data removed]",
      "text/plain": [
       "<Figure size 432x288 with 1 Axes>"
      ]
     },
     "metadata": {
      "needs_background": "light"
     },
     "output_type": "display_data"
    }
   ],
   "source": [
    "plt.figure()\n",
    "\n",
    "plt.plot(history.history[\"loss\"], label = \"train_loss\")\n",
    "plt.plot(history.history[\"val_loss\"], label = \"val_loss\")\n",
    "plt.plot(history.history[\"accuracy\"], label = \"train_acc\")\n",
    "plt.plot(history.history[\"val_accuracy\"], label = \"val_acc\")\n",
    "\n",
    "plt.xlabel(\"epoch\")\n",
    "plt.legend()\n",
    "plt.show()"
   ]
  },
  {
   "cell_type": "markdown",
   "metadata": {},
   "source": [
    "# best model 검증"
   ]
  },
  {
   "cell_type": "code",
   "execution_count": 14,
   "metadata": {},
   "outputs": [
    {
     "name": "stdout",
     "output_type": "stream",
     "text": [
      "782/782 [==============================] - 7s 8ms/step - loss: 0.4292 - accuracy: 0.8017\n"
     ]
    },
    {
     "data": {
      "text/plain": [
       "[0.4291914105415344, 0.8016800284385681]"
      ]
     },
     "execution_count": 14,
     "metadata": {},
     "output_type": "execute_result"
    }
   ],
   "source": [
    "test_seq = pad_sequences(x_test, maxlen=100)\n",
    "rnn_model = keras.models.load_model(\"./model/best-dropout-model.h5\")\n",
    "rnn_model.evaluate(test_seq, y_test)"
   ]
  },
  {
   "cell_type": "code",
   "execution_count": null,
   "metadata": {},
   "outputs": [],
   "source": []
  }
 ],
 "metadata": {
  "kernelspec": {
   "display_name": "Python 3 (ipykernel)",
   "language": "python",
   "name": "python3"
  },
  "language_info": {
   "codemirror_mode": {
    "name": "ipython",
    "version": 3
   },
   "file_extension": ".py",
   "mimetype": "text/x-python",
   "name": "python",
   "nbconvert_exporter": "python",
   "pygments_lexer": "ipython3",
   "version": "3.11.5"
  }
 },
 "nbformat": 4,
 "nbformat_minor": 4
}
